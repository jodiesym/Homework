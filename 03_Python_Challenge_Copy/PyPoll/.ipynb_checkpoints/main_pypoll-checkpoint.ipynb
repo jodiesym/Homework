{
 "cells": [
  {
   "cell_type": "code",
   "execution_count": 2,
   "metadata": {},
   "outputs": [],
   "source": [
    "# Jodie Sun, 10/04/20, Homework 03 -- Python_Challenge_Poll\n",
    "import os\n",
    "import csv\n",
    "import statistics as st"
   ]
  },
  {
   "cell_type": "code",
   "execution_count": 3,
   "metadata": {},
   "outputs": [],
   "source": [
    "csvpoll_path = os.path.join('.','Resources','Homework_03-Python_Instructions_PyPoll_Resources_election_data.csv')"
   ]
  },
  {
   "cell_type": "code",
   "execution_count": 8,
   "metadata": {},
   "outputs": [
    {
     "name": "stdout",
     "output_type": "stream",
     "text": [
      "CSV Hearder: ['Voter ID', 'County', 'Candidate']\n"
     ]
    }
   ],
   "source": [
    "#set a list to put all results in:\n",
    "voter_ls = []\n",
    "\n",
    "# Read the csv file\n",
    "with open(csvpoll_path) as csvpoll:\n",
    "    csvpoll_reader = csv.reader(csvpoll, delimiter = ',')\n",
    "    csv_header = next(csvpoll_reader)\n",
    "    print(f\"CSV Hearder: {csv_header}\")\n",
    "    \n",
    "    # add results into the list:\n",
    "    for row in csvpoll_reader:\n",
    "        voter_ls.append(str(row[2]))\n",
    "    \n",
    "    # total number of voters cast: \n",
    "    total_votes = len(voter_ls)\n",
    "         "
   ]
  },
  {
   "cell_type": "code",
   "execution_count": 5,
   "metadata": {},
   "outputs": [],
   "source": [
    "# Now check names of all candidates, used set(list), for who recieved votes"
   ]
  },
  {
   "cell_type": "code",
   "execution_count": 6,
   "metadata": {},
   "outputs": [
    {
     "data": {
      "text/plain": [
       "{'Correy', 'Khan', 'Li', \"O'Tooley\"}"
      ]
     },
     "execution_count": 6,
     "metadata": {},
     "output_type": "execute_result"
    }
   ],
   "source": [
    "voters_uniq = set(voter_ls)\n",
    "voters_uniq"
   ]
  },
  {
   "cell_type": "code",
   "execution_count": 7,
   "metadata": {},
   "outputs": [],
   "source": [
    "# based on the unique candidates list as shown above, now counts each person's votes\n",
    "\n",
    "corry_count = voter_ls.count('Correy')\n",
    "khan_count = voter_ls.count('Khan')\n",
    "li_count = voter_ls.count('Li')\n",
    "ot_count = voter_ls.count(\"O'Tooley\")\n",
    "\n",
    "# summary all results together, and find the winner: \n",
    "result_dict = {\"Correy\": corry_count,\"Khan\": khan_count,\"Li\": li_count,\"O'Tooley\": ot_count}\n",
    "winner = max(result_dict, key = result_dict.get)\n",
    "\n"
   ]
  },
  {
   "cell_type": "code",
   "execution_count": 9,
   "metadata": {},
   "outputs": [
    {
     "name": "stdout",
     "output_type": "stream",
     "text": [
      "\n",
      "Election Results\n",
      "------------------------------\n",
      "Total Votes: 3521001\n",
      "------------------------------\n",
      "Correy: 20.0% (704200)\n",
      "Khan: 63.0% (2218231)\n",
      "Li: 14.0% (492940)\n",
      "O'Tooley: 3.0% (105630)\n",
      "------------------------------\n",
      "winner: Khan\n"
     ]
    }
   ],
   "source": [
    "print(\"\\nElection Results\")\n",
    "print(\"-\"*30)\n",
    "print(\"Total Votes: \" + str(total_votes))\n",
    "print(\"-\"*30)\n",
    "\n",
    "# print each candidate's status: percentage and total number of votes: \n",
    "for i in result_dict:\n",
    "    p = float(result_dict[i]) / float(total_votes) * 100.00\n",
    "    print(i + \": \" + str(round(p,2)) + \"%\" + \" (\" + str(result_dict[i]) + \")\")\n",
    "    \n",
    "print(\"-\"*30)\n",
    "print(\"winner: \" + winner)"
   ]
  },
  {
   "cell_type": "code",
   "execution_count": null,
   "metadata": {},
   "outputs": [],
   "source": []
  }
 ],
 "metadata": {
  "kernelspec": {
   "display_name": "Python 3",
   "language": "python",
   "name": "python3"
  },
  "language_info": {
   "codemirror_mode": {
    "name": "ipython",
    "version": 3
   },
   "file_extension": ".py",
   "mimetype": "text/x-python",
   "name": "python",
   "nbconvert_exporter": "python",
   "pygments_lexer": "ipython3",
   "version": "3.8.3"
  }
 },
 "nbformat": 4,
 "nbformat_minor": 4
}
