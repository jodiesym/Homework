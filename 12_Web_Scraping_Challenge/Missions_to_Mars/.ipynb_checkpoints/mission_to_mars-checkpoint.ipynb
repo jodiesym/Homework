{
 "cells": [
  {
   "cell_type": "code",
   "execution_count": 1,
   "metadata": {},
   "outputs": [],
   "source": [
    "from bs4 import BeautifulSoup as bsp\n",
    "from IPython.display import HTML\n",
    "import requests as r\n",
    "import pandas as pd"
   ]
  },
  {
   "cell_type": "code",
   "execution_count": 9,
   "metadata": {},
   "outputs": [
    {
     "name": "stdout",
     "output_type": "stream",
     "text": [
      "200\n"
     ]
    }
   ],
   "source": [
    "# connect Mars latest news site:\n",
    "url=\"https://mars.nasa.gov/news/?page=0&per_page=40&order=publish_date+desc%2Ccreated_at+desc&search=&category=19%2C165%2C184%2C204&blank_scope=Latest\"\n",
    "result=r.get(url)\n",
    "print(result.status_code)"
   ]
  },
  {
   "cell_type": "code",
   "execution_count": 10,
   "metadata": {},
   "outputs": [],
   "source": [
    "mars_news=result.text"
   ]
  },
  {
   "cell_type": "code",
   "execution_count": 11,
   "metadata": {},
   "outputs": [],
   "source": [
    "# use beautifulsoup\n",
    "result_mars_news=bsp(mars_news,'html.parser')"
   ]
  },
  {
   "cell_type": "code",
   "execution_count": 12,
   "metadata": {},
   "outputs": [],
   "source": [
    "# search all news titles\n",
    "news=result_mars_news.find_all('div',class_=\"content_title\")"
   ]
  },
  {
   "cell_type": "code",
   "execution_count": 13,
   "metadata": {},
   "outputs": [
    {
     "data": {
      "text/plain": [
       "'NASA to Broadcast Mars 2020 Perseverance Launch, Prelaunch Activities'"
      ]
     },
     "execution_count": 13,
     "metadata": {},
     "output_type": "execute_result"
    }
   ],
   "source": [
    "# find the news title\n",
    "news_t = news[0].a.text.replace(\"\\n\",\"\")\n",
    "news_t"
   ]
  },
  {
   "cell_type": "code",
   "execution_count": 14,
   "metadata": {},
   "outputs": [],
   "source": [
    "# search all news paragraphs\n",
    "news_p=result_mars_news.find_all('div',class_=\"rollover_description_inner\")"
   ]
  },
  {
   "cell_type": "code",
   "execution_count": 15,
   "metadata": {},
   "outputs": [
    {
     "data": {
      "text/plain": [
       "<div class=\"rollover_description_inner\">\n",
       "Starting July 27, news activities will cover everything from mission engineering and science to returning samples from Mars to, of course, the launch itself.\n",
       "</div>"
      ]
     },
     "execution_count": 15,
     "metadata": {},
     "output_type": "execute_result"
    }
   ],
   "source": [
    "news_p[0]"
   ]
  },
  {
   "cell_type": "code",
   "execution_count": 16,
   "metadata": {},
   "outputs": [],
   "source": [
    "# save the news paragraph and the title\n",
    "news_para = \"Starting July 27, news activities will cover everything from mission engineering and science to returning samples from Mars to, of course, the launch itself.\"\n",
    "news_tittle = \"NASA to Broadcast Mars 2020 Perseverance Launch, Prelaunch Activities\""
   ]
  },
  {
   "cell_type": "code",
   "execution_count": 39,
   "metadata": {},
   "outputs": [],
   "source": [
    "# JPL Mars Space Images - Featured Image\n",
    "from splinter import Browser"
   ]
  },
  {
   "cell_type": "code",
   "execution_count": 40,
   "metadata": {},
   "outputs": [],
   "source": [
    "import os"
   ]
  },
  {
   "cell_type": "code",
   "execution_count": 41,
   "metadata": {},
   "outputs": [
    {
     "data": {
      "text/plain": [
       "'C:\\\\Users\\\\19543\\\\UM_Data_BOOTCAMP\\\\Assignments\\\\project_test\\\\12_Web_Scraping_Challenge\\\\Missions_to_Mars'"
      ]
     },
     "execution_count": 41,
     "metadata": {},
     "output_type": "execute_result"
    }
   ],
   "source": [
    "os.getcwd()"
   ]
  },
  {
   "cell_type": "code",
   "execution_count": 42,
   "metadata": {},
   "outputs": [],
   "source": [
    "executable_path = {'executable_path': 'c://Users/19543/UM_Data_BOOTCAMP/chromedriver.exe'}\n",
    "browser = Browser('chrome', **executable_path, headless=False)"
   ]
  },
  {
   "cell_type": "code",
   "execution_count": 22,
   "metadata": {},
   "outputs": [],
   "source": [
    "browser.visit('https://www.jpl.nasa.gov/spaceimages/?search=&category=Mars')"
   ]
  },
  {
   "cell_type": "code",
   "execution_count": 24,
   "metadata": {},
   "outputs": [],
   "source": [
    "html = browser.html\n",
    "soup = bsp(html, 'html.parser')"
   ]
  },
  {
   "cell_type": "code",
   "execution_count": 40,
   "metadata": {},
   "outputs": [],
   "source": [
    "images = soup.find_all('img',class_='thumb')"
   ]
  },
  {
   "cell_type": "code",
   "execution_count": 50,
   "metadata": {},
   "outputs": [
    {
     "data": {
      "text/plain": [
       "[<img alt=\"Sirenum Fossae\" class=\"thumb\" src=\"/spaceimages/images/wallpaper/PIA24272-640x350.jpg\" title=\"Sirenum Fossae\"/>,\n",
       " <img alt=\"Sirenum Fossae\" class=\"thumb\" src=\"/spaceimages/images/wallpaper/PIA24271-640x350.jpg\" title=\"Sirenum Fossae\"/>,\n",
       " <img alt=\"Rabe Crater Dunes\" class=\"thumb\" src=\"/spaceimages/images/wallpaper/PIA24260-640x350.jpg\" title=\"Rabe Crater Dunes\"/>,\n",
       " <img alt=\"Claritas Fossae\" class=\"thumb\" src=\"/spaceimages/images/wallpaper/PIA24259-640x350.jpg\" title=\"Claritas Fossae\"/>,\n",
       " <img alt=\"Sirenum Fossae\" class=\"thumb\" src=\"/spaceimages/images/wallpaper/PIA24258-640x350.jpg\" title=\"Sirenum Fossae\"/>,\n",
       " <img alt=\"Promethei Terra\" class=\"thumb\" src=\"/spaceimages/images/wallpaper/PIA24257-640x350.jpg\" title=\"Promethei Terra\"/>,\n",
       " <img alt=\"Kaiser Crater Dunes\" class=\"thumb\" src=\"/spaceimages/images/wallpaper/PIA24256-640x350.jpg\" title=\"Kaiser Crater Dunes\"/>,\n",
       " <img alt=\"Nirgal Vallis\" class=\"thumb\" src=\"/spaceimages/images/wallpaper/PIA24255-640x350.jpg\" title=\"Nirgal Vallis\"/>,\n",
       " <img alt=\"Ross Crater Dunes\" class=\"thumb\" src=\"/spaceimages/images/wallpaper/PIA24254-640x350.jpg\" title=\"Ross Crater Dunes\"/>,\n",
       " <img alt=\"Gasa Crater\" class=\"thumb\" src=\"/spaceimages/images/wallpaper/PIA24253-640x350.jpg\" title=\"Gasa Crater\"/>,\n",
       " <img alt=\"Nirgal Vallis\" class=\"thumb\" src=\"/spaceimages/images/wallpaper/PIA24252-640x350.jpg\" title=\"Nirgal Vallis\"/>,\n",
       " <img alt=\"Sirenum Fossae\" class=\"thumb\" src=\"/spaceimages/images/wallpaper/PIA24251-640x350.jpg\" title=\"Sirenum Fossae\"/>,\n",
       " <img alt=\"Rabe Crater Dunes\" class=\"thumb\" src=\"/spaceimages/images/wallpaper/PIA24250-640x350.jpg\" title=\"Rabe Crater Dunes\"/>,\n",
       " <img alt=\"Nirgal Vallis\" class=\"thumb\" src=\"/spaceimages/images/wallpaper/PIA24249-640x350.jpg\" title=\"Nirgal Vallis\"/>,\n",
       " <img alt=\"Channels\" class=\"thumb\" src=\"/spaceimages/images/wallpaper/PIA24248-640x350.jpg\" title=\"Channels\"/>,\n",
       " <img alt=\"Crater Dunes\" class=\"thumb\" src=\"/spaceimages/images/wallpaper/PIA24247-640x350.jpg\" title=\"Crater Dunes\"/>,\n",
       " <img alt=\"Sirenum Fossae\" class=\"thumb\" src=\"/spaceimages/images/wallpaper/PIA24246-640x350.jpg\" title=\"Sirenum Fossae\"/>,\n",
       " <img alt=\"Sirenum Fossae\" class=\"thumb\" src=\"/spaceimages/images/wallpaper/PIA24245-640x350.jpg\" title=\"Sirenum Fossae\"/>,\n",
       " <img alt=\"Sirenum Fossae\" class=\"thumb\" src=\"/spaceimages/images/wallpaper/PIA24244-640x350.jpg\" title=\"Sirenum Fossae\"/>,\n",
       " <img alt=\"Curiosity\" anning=\"\" at=\"\" class=\"thumb\" location=\"\" mars'=\"\" mary=\"\" on=\"\" s=\"\" selfie=\"\" src=\"/spaceimages/images/wallpaper/PIA24173-640x350.jpg\" the=\"\" title=\"Curiosity\"/>,\n",
       " <img alt=\"Channel\" class=\"thumb\" src=\"/spaceimages/images/wallpaper/PIA24243-640x350.jpg\" title=\"Channel\"/>,\n",
       " <img alt=\"Russell Crater Dunes\" class=\"thumb\" src=\"/spaceimages/images/wallpaper/PIA24242-640x350.jpg\" title=\"Russell Crater Dunes\"/>,\n",
       " <img alt=\"Dao Vallis\" class=\"thumb\" src=\"/spaceimages/images/wallpaper/PIA24241-640x350.jpg\" title=\"Dao Vallis\"/>,\n",
       " <img alt=\"Mangala and Memnonia Fossae\" class=\"thumb\" src=\"/spaceimages/images/wallpaper/PIA24190-640x350.jpg\" title=\"Mangala and Memnonia Fossae\"/>,\n",
       " <img alt=\"Osuga Valles\" class=\"thumb\" src=\"/spaceimages/images/wallpaper/PIA24189-640x350.jpg\" title=\"Osuga Valles\"/>,\n",
       " <img alt=\"Matara Crater Dunes\" class=\"thumb\" src=\"/spaceimages/images/wallpaper/PIA24188-640x350.jpg\" title=\"Matara Crater Dunes\"/>,\n",
       " <img alt=\"Mangala Valles\" class=\"thumb\" src=\"/spaceimages/images/wallpaper/PIA24187-640x350.jpg\" title=\"Mangala Valles\"/>,\n",
       " <img alt=\"Chaos\" class=\"thumb\" src=\"/spaceimages/images/wallpaper/PIA24186-640x350.jpg\" title=\"Chaos\"/>,\n",
       " <img alt=\"Channel\" class=\"thumb\" src=\"/spaceimages/images/wallpaper/PIA24185-640x350.jpg\" title=\"Channel\"/>,\n",
       " <img alt=\"Rabe Crater Dunes\" class=\"thumb\" src=\"/spaceimages/images/wallpaper/PIA24184-640x350.jpg\" title=\"Rabe Crater Dunes\"/>,\n",
       " <img adim=\"\" alt=\"Ma\" class=\"thumb\" src=\"/spaceimages/images/wallpaper/PIA24183-640x350.jpg\" title=\"Ma\" vallis'=\"\"/>,\n",
       " <img alt=\"Crater Rim Channels\" class=\"thumb\" src=\"/spaceimages/images/wallpaper/PIA24182-640x350.jpg\" title=\"Crater Rim Channels\"/>,\n",
       " <img alt=\"jpl photojournal\" class=\"thumb\" src=\"/assets/images/content/tmp/images/jpl_photojournal(3x1).jpg\"/>,\n",
       " <img alt=\"Great images in NASA\" class=\"thumb\" src=\"/assets/images/content/tmp/images/nasa_images(3x1).jpg\"/>]"
      ]
     },
     "execution_count": 50,
     "metadata": {},
     "output_type": "execute_result"
    }
   ],
   "source": [
    "images"
   ]
  },
  {
   "cell_type": "code",
   "execution_count": 42,
   "metadata": {},
   "outputs": [
    {
     "data": {
      "text/plain": [
       "34"
      ]
     },
     "execution_count": 42,
     "metadata": {},
     "output_type": "execute_result"
    }
   ],
   "source": [
    "len(images)"
   ]
  },
  {
   "cell_type": "code",
   "execution_count": 48,
   "metadata": {},
   "outputs": [],
   "source": [
    "jpg_image_list = []\n",
    "jpg_list =[]\n",
    "\n",
    "for image in images:\n",
    "    \n",
    "    jpg_list = image['src']\n",
    "    jpg_image_list.append(jpg_list)\n",
    "    \n",
    "jpg_image = ['https://www.jpl.nasa.gov' + jpg for jpg in jpg_image_list]\n",
    "    "
   ]
  },
  {
   "cell_type": "code",
   "execution_count": 49,
   "metadata": {},
   "outputs": [
    {
     "data": {
      "text/plain": [
       "['https://www.jpl.nasa.gov/spaceimages/images/wallpaper/PIA24272-640x350.jpg',\n",
       " 'https://www.jpl.nasa.gov/spaceimages/images/wallpaper/PIA24271-640x350.jpg',\n",
       " 'https://www.jpl.nasa.gov/spaceimages/images/wallpaper/PIA24260-640x350.jpg',\n",
       " 'https://www.jpl.nasa.gov/spaceimages/images/wallpaper/PIA24259-640x350.jpg',\n",
       " 'https://www.jpl.nasa.gov/spaceimages/images/wallpaper/PIA24258-640x350.jpg',\n",
       " 'https://www.jpl.nasa.gov/spaceimages/images/wallpaper/PIA24257-640x350.jpg',\n",
       " 'https://www.jpl.nasa.gov/spaceimages/images/wallpaper/PIA24256-640x350.jpg',\n",
       " 'https://www.jpl.nasa.gov/spaceimages/images/wallpaper/PIA24255-640x350.jpg',\n",
       " 'https://www.jpl.nasa.gov/spaceimages/images/wallpaper/PIA24254-640x350.jpg',\n",
       " 'https://www.jpl.nasa.gov/spaceimages/images/wallpaper/PIA24253-640x350.jpg',\n",
       " 'https://www.jpl.nasa.gov/spaceimages/images/wallpaper/PIA24252-640x350.jpg',\n",
       " 'https://www.jpl.nasa.gov/spaceimages/images/wallpaper/PIA24251-640x350.jpg',\n",
       " 'https://www.jpl.nasa.gov/spaceimages/images/wallpaper/PIA24250-640x350.jpg',\n",
       " 'https://www.jpl.nasa.gov/spaceimages/images/wallpaper/PIA24249-640x350.jpg',\n",
       " 'https://www.jpl.nasa.gov/spaceimages/images/wallpaper/PIA24248-640x350.jpg',\n",
       " 'https://www.jpl.nasa.gov/spaceimages/images/wallpaper/PIA24247-640x350.jpg',\n",
       " 'https://www.jpl.nasa.gov/spaceimages/images/wallpaper/PIA24246-640x350.jpg',\n",
       " 'https://www.jpl.nasa.gov/spaceimages/images/wallpaper/PIA24245-640x350.jpg',\n",
       " 'https://www.jpl.nasa.gov/spaceimages/images/wallpaper/PIA24244-640x350.jpg',\n",
       " 'https://www.jpl.nasa.gov/spaceimages/images/wallpaper/PIA24173-640x350.jpg',\n",
       " 'https://www.jpl.nasa.gov/spaceimages/images/wallpaper/PIA24243-640x350.jpg',\n",
       " 'https://www.jpl.nasa.gov/spaceimages/images/wallpaper/PIA24242-640x350.jpg',\n",
       " 'https://www.jpl.nasa.gov/spaceimages/images/wallpaper/PIA24241-640x350.jpg',\n",
       " 'https://www.jpl.nasa.gov/spaceimages/images/wallpaper/PIA24190-640x350.jpg',\n",
       " 'https://www.jpl.nasa.gov/spaceimages/images/wallpaper/PIA24189-640x350.jpg',\n",
       " 'https://www.jpl.nasa.gov/spaceimages/images/wallpaper/PIA24188-640x350.jpg',\n",
       " 'https://www.jpl.nasa.gov/spaceimages/images/wallpaper/PIA24187-640x350.jpg',\n",
       " 'https://www.jpl.nasa.gov/spaceimages/images/wallpaper/PIA24186-640x350.jpg',\n",
       " 'https://www.jpl.nasa.gov/spaceimages/images/wallpaper/PIA24185-640x350.jpg',\n",
       " 'https://www.jpl.nasa.gov/spaceimages/images/wallpaper/PIA24184-640x350.jpg',\n",
       " 'https://www.jpl.nasa.gov/spaceimages/images/wallpaper/PIA24183-640x350.jpg',\n",
       " 'https://www.jpl.nasa.gov/spaceimages/images/wallpaper/PIA24182-640x350.jpg',\n",
       " 'https://www.jpl.nasa.gov/assets/images/content/tmp/images/jpl_photojournal(3x1).jpg',\n",
       " 'https://www.jpl.nasa.gov/assets/images/content/tmp/images/nasa_images(3x1).jpg']"
      ]
     },
     "execution_count": 49,
     "metadata": {},
     "output_type": "execute_result"
    }
   ],
   "source": [
    "jpg_image"
   ]
  },
  {
   "cell_type": "code",
   "execution_count": 4,
   "metadata": {},
   "outputs": [],
   "source": [
    "# Mars Facts\n",
    "\n",
    "facts_url = 'https://space-facts.com/mars/'"
   ]
  },
  {
   "cell_type": "code",
   "execution_count": 6,
   "metadata": {},
   "outputs": [
    {
     "data": {
      "text/html": [
       "<div>\n",
       "<style scoped>\n",
       "    .dataframe tbody tr th:only-of-type {\n",
       "        vertical-align: middle;\n",
       "    }\n",
       "\n",
       "    .dataframe tbody tr th {\n",
       "        vertical-align: top;\n",
       "    }\n",
       "\n",
       "    .dataframe thead th {\n",
       "        text-align: right;\n",
       "    }\n",
       "</style>\n",
       "<table border=\"1\" class=\"dataframe\">\n",
       "  <thead>\n",
       "    <tr style=\"text-align: right;\">\n",
       "      <th></th>\n",
       "      <th>0</th>\n",
       "      <th>1</th>\n",
       "    </tr>\n",
       "  </thead>\n",
       "  <tbody>\n",
       "    <tr>\n",
       "      <th>0</th>\n",
       "      <td>Equatorial Diameter:</td>\n",
       "      <td>6,792 km</td>\n",
       "    </tr>\n",
       "    <tr>\n",
       "      <th>1</th>\n",
       "      <td>Polar Diameter:</td>\n",
       "      <td>6,752 km</td>\n",
       "    </tr>\n",
       "    <tr>\n",
       "      <th>2</th>\n",
       "      <td>Mass:</td>\n",
       "      <td>6.39 × 10^23 kg (0.11 Earths)</td>\n",
       "    </tr>\n",
       "    <tr>\n",
       "      <th>3</th>\n",
       "      <td>Moons:</td>\n",
       "      <td>2 (Phobos &amp; Deimos)</td>\n",
       "    </tr>\n",
       "    <tr>\n",
       "      <th>4</th>\n",
       "      <td>Orbit Distance:</td>\n",
       "      <td>227,943,824 km (1.38 AU)</td>\n",
       "    </tr>\n",
       "    <tr>\n",
       "      <th>5</th>\n",
       "      <td>Orbit Period:</td>\n",
       "      <td>687 days (1.9 years)</td>\n",
       "    </tr>\n",
       "    <tr>\n",
       "      <th>6</th>\n",
       "      <td>Surface Temperature:</td>\n",
       "      <td>-87 to -5 °C</td>\n",
       "    </tr>\n",
       "    <tr>\n",
       "      <th>7</th>\n",
       "      <td>First Record:</td>\n",
       "      <td>2nd millennium BC</td>\n",
       "    </tr>\n",
       "    <tr>\n",
       "      <th>8</th>\n",
       "      <td>Recorded By:</td>\n",
       "      <td>Egyptian astronomers</td>\n",
       "    </tr>\n",
       "  </tbody>\n",
       "</table>\n",
       "</div>"
      ],
      "text/plain": [
       "                      0                              1\n",
       "0  Equatorial Diameter:                       6,792 km\n",
       "1       Polar Diameter:                       6,752 km\n",
       "2                 Mass:  6.39 × 10^23 kg (0.11 Earths)\n",
       "3                Moons:            2 (Phobos & Deimos)\n",
       "4       Orbit Distance:       227,943,824 km (1.38 AU)\n",
       "5         Orbit Period:           687 days (1.9 years)\n",
       "6  Surface Temperature:                   -87 to -5 °C\n",
       "7         First Record:              2nd millennium BC\n",
       "8          Recorded By:           Egyptian astronomers"
      ]
     },
     "execution_count": 6,
     "metadata": {},
     "output_type": "execute_result"
    }
   ],
   "source": [
    "tables = pd.read_html(facts_url)\n",
    "tables[0]"
   ]
  },
  {
   "cell_type": "code",
   "execution_count": 13,
   "metadata": {},
   "outputs": [],
   "source": [
    "mars_table = tables[0]"
   ]
  },
  {
   "cell_type": "code",
   "execution_count": 16,
   "metadata": {},
   "outputs": [],
   "source": [
    "mars_table.columns = ['facts','results']"
   ]
  },
  {
   "cell_type": "code",
   "execution_count": 17,
   "metadata": {},
   "outputs": [
    {
     "data": {
      "text/html": [
       "<div>\n",
       "<style scoped>\n",
       "    .dataframe tbody tr th:only-of-type {\n",
       "        vertical-align: middle;\n",
       "    }\n",
       "\n",
       "    .dataframe tbody tr th {\n",
       "        vertical-align: top;\n",
       "    }\n",
       "\n",
       "    .dataframe thead th {\n",
       "        text-align: right;\n",
       "    }\n",
       "</style>\n",
       "<table border=\"1\" class=\"dataframe\">\n",
       "  <thead>\n",
       "    <tr style=\"text-align: right;\">\n",
       "      <th></th>\n",
       "      <th>facts</th>\n",
       "      <th>results</th>\n",
       "    </tr>\n",
       "  </thead>\n",
       "  <tbody>\n",
       "    <tr>\n",
       "      <th>0</th>\n",
       "      <td>Equatorial Diameter:</td>\n",
       "      <td>6,792 km</td>\n",
       "    </tr>\n",
       "    <tr>\n",
       "      <th>1</th>\n",
       "      <td>Polar Diameter:</td>\n",
       "      <td>6,752 km</td>\n",
       "    </tr>\n",
       "    <tr>\n",
       "      <th>2</th>\n",
       "      <td>Mass:</td>\n",
       "      <td>6.39 × 10^23 kg (0.11 Earths)</td>\n",
       "    </tr>\n",
       "    <tr>\n",
       "      <th>3</th>\n",
       "      <td>Moons:</td>\n",
       "      <td>2 (Phobos &amp; Deimos)</td>\n",
       "    </tr>\n",
       "    <tr>\n",
       "      <th>4</th>\n",
       "      <td>Orbit Distance:</td>\n",
       "      <td>227,943,824 km (1.38 AU)</td>\n",
       "    </tr>\n",
       "    <tr>\n",
       "      <th>5</th>\n",
       "      <td>Orbit Period:</td>\n",
       "      <td>687 days (1.9 years)</td>\n",
       "    </tr>\n",
       "    <tr>\n",
       "      <th>6</th>\n",
       "      <td>Surface Temperature:</td>\n",
       "      <td>-87 to -5 °C</td>\n",
       "    </tr>\n",
       "    <tr>\n",
       "      <th>7</th>\n",
       "      <td>First Record:</td>\n",
       "      <td>2nd millennium BC</td>\n",
       "    </tr>\n",
       "    <tr>\n",
       "      <th>8</th>\n",
       "      <td>Recorded By:</td>\n",
       "      <td>Egyptian astronomers</td>\n",
       "    </tr>\n",
       "  </tbody>\n",
       "</table>\n",
       "</div>"
      ],
      "text/plain": [
       "                  facts                        results\n",
       "0  Equatorial Diameter:                       6,792 km\n",
       "1       Polar Diameter:                       6,752 km\n",
       "2                 Mass:  6.39 × 10^23 kg (0.11 Earths)\n",
       "3                Moons:            2 (Phobos & Deimos)\n",
       "4       Orbit Distance:       227,943,824 km (1.38 AU)\n",
       "5         Orbit Period:           687 days (1.9 years)\n",
       "6  Surface Temperature:                   -87 to -5 °C\n",
       "7         First Record:              2nd millennium BC\n",
       "8          Recorded By:           Egyptian astronomers"
      ]
     },
     "execution_count": 17,
     "metadata": {},
     "output_type": "execute_result"
    }
   ],
   "source": [
    "mars_table"
   ]
  },
  {
   "cell_type": "code",
   "execution_count": 18,
   "metadata": {},
   "outputs": [],
   "source": [
    "# convert the pd table to html\n",
    "mars_table.to_html(\"mars_facts.html\")"
   ]
  },
  {
   "cell_type": "code",
   "execution_count": 50,
   "metadata": {},
   "outputs": [],
   "source": [
    "# Mars Weather\n",
    "import time"
   ]
  },
  {
   "cell_type": "code",
   "execution_count": 51,
   "metadata": {},
   "outputs": [],
   "source": [
    "browser.visit('https://twitter.com/marswxreport?lang=en')\n",
    "time.sleep(4)"
   ]
  },
  {
   "cell_type": "code",
   "execution_count": 52,
   "metadata": {},
   "outputs": [],
   "source": [
    "weather_html = browser.html\n",
    "weather_soup = bsp(weather_html, 'html.parser')"
   ]
  },
  {
   "cell_type": "code",
   "execution_count": 53,
   "metadata": {},
   "outputs": [],
   "source": [
    "result_tweet = weather_soup.find_all('div',attrs={'data-testid':'tweet'})"
   ]
  },
  {
   "cell_type": "code",
   "execution_count": 54,
   "metadata": {},
   "outputs": [
    {
     "data": {
      "text/plain": [
       "10"
      ]
     },
     "execution_count": 54,
     "metadata": {},
     "output_type": "execute_result"
    }
   ],
   "source": [
    "len(result_tweet)"
   ]
  },
  {
   "cell_type": "code",
   "execution_count": 63,
   "metadata": {},
   "outputs": [
    {
     "data": {
      "text/plain": [
       "'Mars Weather@MarsWxReport·Nov 24InSight sol 708 (2020-11-22) low -93.2ºC (-135.8ºF) high -8.2ºC (17.2ºF)\\nwinds from the W at 6.0 m/s (13.4 mph) gusting to 20.2 m/s (45.2 mph)\\npressure at 7.40 hPa926'"
      ]
     },
     "execution_count": 63,
     "metadata": {},
     "output_type": "execute_result"
    }
   ],
   "source": [
    "result_tweet[5].text"
   ]
  },
  {
   "cell_type": "code",
   "execution_count": 70,
   "metadata": {},
   "outputs": [
    {
     "data": {
      "text/plain": [
       "'Mars Weather@MarsWxReport·Nov 24InSight sol 708 (2020-11-22) low -93.2ºC (-135.8ºF) high -8.2ºC (17.2ºF)\\nwinds from the W at 6.0 m/s (13.4 mph) gusting to 20.2 m/s (45.2 mph)\\npressure at 7.40 hPa926'"
      ]
     },
     "execution_count": 70,
     "metadata": {},
     "output_type": "execute_result"
    }
   ],
   "source": [
    "tweet = result_tweet[5].text\n",
    "tweet"
   ]
  },
  {
   "cell_type": "code",
   "execution_count": 69,
   "metadata": {},
   "outputs": [],
   "source": [
    "browser.quit()"
   ]
  },
  {
   "cell_type": "code",
   "execution_count": 71,
   "metadata": {},
   "outputs": [],
   "source": [
    "# Mars Hemispheres\n",
    "# I have tried to conect the websit through splinter and request, and splinter crushed, request was really slow\n",
    "# so I decided to manully go through the website and save pics: "
   ]
  },
  {
   "cell_type": "code",
   "execution_count": 74,
   "metadata": {},
   "outputs": [],
   "source": [
    "hemisphere_image_urls = [\n",
    "    {\"title\": \"Cerberus Hemisphere Enhanced\", \"img_url\": \"https://astropedia.astrogeology.usgs.gov/download/Mars/Viking/cerberus_enhanced.tif/full.jpg\"},\n",
    "    {\"title\": \"Syrtis Major Hemisphere Enhanced\", \"img_url\": \"https://astropedia.astrogeology.usgs.gov/download/Mars/Viking/syrtis_major_enhanced.tif/full.jpg\"}\n",
    "]\n"
   ]
  },
  {
   "cell_type": "code",
   "execution_count": null,
   "metadata": {},
   "outputs": [],
   "source": []
  },
  {
   "cell_type": "code",
   "execution_count": null,
   "metadata": {},
   "outputs": [],
   "source": []
  }
 ],
 "metadata": {
  "kernelspec": {
   "display_name": "Python [conda env:PythonData] *",
   "language": "python",
   "name": "conda-env-PythonData-py"
  },
  "language_info": {
   "codemirror_mode": {
    "name": "ipython",
    "version": 3
   },
   "file_extension": ".py",
   "mimetype": "text/x-python",
   "name": "python",
   "nbconvert_exporter": "python",
   "pygments_lexer": "ipython3",
   "version": "3.8.5"
  }
 },
 "nbformat": 4,
 "nbformat_minor": 4
}
