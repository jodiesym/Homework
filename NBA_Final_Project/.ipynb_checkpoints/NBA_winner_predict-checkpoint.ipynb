{
 "cells": [
  {
   "cell_type": "code",
   "execution_count": 1,
   "id": "ongoing-mapping",
   "metadata": {},
   "outputs": [],
   "source": [
    "import random\n",
    "import numpy as np\n",
    "import matplotlib.pyplot as plt\n",
    "import pandas as pd"
   ]
  },
  {
   "cell_type": "markdown",
   "id": "alternative-night",
   "metadata": {},
   "source": [
    "# Experiment Setup -- Read Data"
   ]
  },
  {
   "cell_type": "code",
   "execution_count": 6,
   "id": "indian-salad",
   "metadata": {},
   "outputs": [],
   "source": [
    "# first of all read all csvs from the data folder: \n",
    "# We use 2018 to train so for now only 2018 data -- no need to take a too large dataframe\n",
    "df_games_2018 = pd.read_csv('./Data/games.csv')\n",
    "df_games_2018 = df_games_2018[df_games_2018.SEASON == 2018]"
   ]
  },
  {
   "cell_type": "code",
   "execution_count": 8,
   "id": "quarterly-ordinary",
   "metadata": {},
   "outputs": [
    {
     "data": {
      "text/html": [
       "<div>\n",
       "<style scoped>\n",
       "    .dataframe tbody tr th:only-of-type {\n",
       "        vertical-align: middle;\n",
       "    }\n",
       "\n",
       "    .dataframe tbody tr th {\n",
       "        vertical-align: top;\n",
       "    }\n",
       "\n",
       "    .dataframe thead th {\n",
       "        text-align: right;\n",
       "    }\n",
       "</style>\n",
       "<table border=\"1\" class=\"dataframe\">\n",
       "  <thead>\n",
       "    <tr style=\"text-align: right;\">\n",
       "      <th></th>\n",
       "      <th>GAME_DATE_EST</th>\n",
       "      <th>GAME_ID</th>\n",
       "      <th>GAME_STATUS_TEXT</th>\n",
       "      <th>HOME_TEAM_ID</th>\n",
       "      <th>VISITOR_TEAM_ID</th>\n",
       "      <th>SEASON</th>\n",
       "      <th>TEAM_ID_home</th>\n",
       "      <th>PTS_home</th>\n",
       "      <th>FG_PCT_home</th>\n",
       "      <th>FT_PCT_home</th>\n",
       "      <th>...</th>\n",
       "      <th>AST_home</th>\n",
       "      <th>REB_home</th>\n",
       "      <th>TEAM_ID_away</th>\n",
       "      <th>PTS_away</th>\n",
       "      <th>FG_PCT_away</th>\n",
       "      <th>FT_PCT_away</th>\n",
       "      <th>FG3_PCT_away</th>\n",
       "      <th>AST_away</th>\n",
       "      <th>REB_away</th>\n",
       "      <th>HOME_TEAM_WINS</th>\n",
       "    </tr>\n",
       "  </thead>\n",
       "  <tbody>\n",
       "    <tr>\n",
       "      <th>16521</th>\n",
       "      <td>2019-06-13</td>\n",
       "      <td>41800406</td>\n",
       "      <td>Final</td>\n",
       "      <td>1610612744</td>\n",
       "      <td>1610612761</td>\n",
       "      <td>2018</td>\n",
       "      <td>1610612744</td>\n",
       "      <td>110.0</td>\n",
       "      <td>0.488</td>\n",
       "      <td>0.700</td>\n",
       "      <td>...</td>\n",
       "      <td>28.0</td>\n",
       "      <td>42.0</td>\n",
       "      <td>1610612761</td>\n",
       "      <td>114.0</td>\n",
       "      <td>0.476</td>\n",
       "      <td>0.793</td>\n",
       "      <td>0.394</td>\n",
       "      <td>25.0</td>\n",
       "      <td>39.0</td>\n",
       "      <td>0</td>\n",
       "    </tr>\n",
       "    <tr>\n",
       "      <th>16522</th>\n",
       "      <td>2019-06-10</td>\n",
       "      <td>41800405</td>\n",
       "      <td>Final</td>\n",
       "      <td>1610612761</td>\n",
       "      <td>1610612744</td>\n",
       "      <td>2018</td>\n",
       "      <td>1610612761</td>\n",
       "      <td>105.0</td>\n",
       "      <td>0.447</td>\n",
       "      <td>0.778</td>\n",
       "      <td>...</td>\n",
       "      <td>19.0</td>\n",
       "      <td>43.0</td>\n",
       "      <td>1610612744</td>\n",
       "      <td>106.0</td>\n",
       "      <td>0.463</td>\n",
       "      <td>0.714</td>\n",
       "      <td>0.476</td>\n",
       "      <td>27.0</td>\n",
       "      <td>37.0</td>\n",
       "      <td>0</td>\n",
       "    </tr>\n",
       "    <tr>\n",
       "      <th>16523</th>\n",
       "      <td>2019-06-07</td>\n",
       "      <td>41800404</td>\n",
       "      <td>Final</td>\n",
       "      <td>1610612744</td>\n",
       "      <td>1610612761</td>\n",
       "      <td>2018</td>\n",
       "      <td>1610612744</td>\n",
       "      <td>92.0</td>\n",
       "      <td>0.449</td>\n",
       "      <td>0.667</td>\n",
       "      <td>...</td>\n",
       "      <td>26.0</td>\n",
       "      <td>42.0</td>\n",
       "      <td>1610612761</td>\n",
       "      <td>105.0</td>\n",
       "      <td>0.419</td>\n",
       "      <td>0.958</td>\n",
       "      <td>0.313</td>\n",
       "      <td>22.0</td>\n",
       "      <td>39.0</td>\n",
       "      <td>0</td>\n",
       "    </tr>\n",
       "    <tr>\n",
       "      <th>16524</th>\n",
       "      <td>2019-06-05</td>\n",
       "      <td>41800403</td>\n",
       "      <td>Final</td>\n",
       "      <td>1610612744</td>\n",
       "      <td>1610612761</td>\n",
       "      <td>2018</td>\n",
       "      <td>1610612744</td>\n",
       "      <td>109.0</td>\n",
       "      <td>0.396</td>\n",
       "      <td>0.833</td>\n",
       "      <td>...</td>\n",
       "      <td>25.0</td>\n",
       "      <td>41.0</td>\n",
       "      <td>1610612761</td>\n",
       "      <td>123.0</td>\n",
       "      <td>0.524</td>\n",
       "      <td>0.952</td>\n",
       "      <td>0.447</td>\n",
       "      <td>30.0</td>\n",
       "      <td>40.0</td>\n",
       "      <td>0</td>\n",
       "    </tr>\n",
       "    <tr>\n",
       "      <th>16525</th>\n",
       "      <td>2019-06-02</td>\n",
       "      <td>41800402</td>\n",
       "      <td>Final</td>\n",
       "      <td>1610612761</td>\n",
       "      <td>1610612744</td>\n",
       "      <td>2018</td>\n",
       "      <td>1610612761</td>\n",
       "      <td>104.0</td>\n",
       "      <td>0.372</td>\n",
       "      <td>0.885</td>\n",
       "      <td>...</td>\n",
       "      <td>17.0</td>\n",
       "      <td>49.0</td>\n",
       "      <td>1610612744</td>\n",
       "      <td>109.0</td>\n",
       "      <td>0.463</td>\n",
       "      <td>0.870</td>\n",
       "      <td>0.382</td>\n",
       "      <td>34.0</td>\n",
       "      <td>42.0</td>\n",
       "      <td>0</td>\n",
       "    </tr>\n",
       "  </tbody>\n",
       "</table>\n",
       "<p>5 rows × 21 columns</p>\n",
       "</div>"
      ],
      "text/plain": [
       "      GAME_DATE_EST   GAME_ID GAME_STATUS_TEXT  HOME_TEAM_ID  VISITOR_TEAM_ID  \\\n",
       "16521    2019-06-13  41800406            Final    1610612744       1610612761   \n",
       "16522    2019-06-10  41800405            Final    1610612761       1610612744   \n",
       "16523    2019-06-07  41800404            Final    1610612744       1610612761   \n",
       "16524    2019-06-05  41800403            Final    1610612744       1610612761   \n",
       "16525    2019-06-02  41800402            Final    1610612761       1610612744   \n",
       "\n",
       "       SEASON  TEAM_ID_home  PTS_home  FG_PCT_home  FT_PCT_home  ...  \\\n",
       "16521    2018    1610612744     110.0        0.488        0.700  ...   \n",
       "16522    2018    1610612761     105.0        0.447        0.778  ...   \n",
       "16523    2018    1610612744      92.0        0.449        0.667  ...   \n",
       "16524    2018    1610612744     109.0        0.396        0.833  ...   \n",
       "16525    2018    1610612761     104.0        0.372        0.885  ...   \n",
       "\n",
       "       AST_home  REB_home  TEAM_ID_away  PTS_away  FG_PCT_away  FT_PCT_away  \\\n",
       "16521      28.0      42.0    1610612761     114.0        0.476        0.793   \n",
       "16522      19.0      43.0    1610612744     106.0        0.463        0.714   \n",
       "16523      26.0      42.0    1610612761     105.0        0.419        0.958   \n",
       "16524      25.0      41.0    1610612761     123.0        0.524        0.952   \n",
       "16525      17.0      49.0    1610612744     109.0        0.463        0.870   \n",
       "\n",
       "       FG3_PCT_away  AST_away  REB_away  HOME_TEAM_WINS  \n",
       "16521         0.394      25.0      39.0               0  \n",
       "16522         0.476      27.0      37.0               0  \n",
       "16523         0.313      22.0      39.0               0  \n",
       "16524         0.447      30.0      40.0               0  \n",
       "16525         0.382      34.0      42.0               0  \n",
       "\n",
       "[5 rows x 21 columns]"
      ]
     },
     "execution_count": 8,
     "metadata": {},
     "output_type": "execute_result"
    }
   ],
   "source": [
    "df_games_2018.head()"
   ]
  },
  {
   "cell_type": "code",
   "execution_count": 9,
   "id": "continent-detection",
   "metadata": {},
   "outputs": [],
   "source": [
    "df_games_detail = pd.read_csv('./Data/games_details.csv')"
   ]
  },
  {
   "cell_type": "code",
   "execution_count": 11,
   "id": "selective-africa",
   "metadata": {},
   "outputs": [
    {
     "data": {
      "text/html": [
       "<div>\n",
       "<style scoped>\n",
       "    .dataframe tbody tr th:only-of-type {\n",
       "        vertical-align: middle;\n",
       "    }\n",
       "\n",
       "    .dataframe tbody tr th {\n",
       "        vertical-align: top;\n",
       "    }\n",
       "\n",
       "    .dataframe thead th {\n",
       "        text-align: right;\n",
       "    }\n",
       "</style>\n",
       "<table border=\"1\" class=\"dataframe\">\n",
       "  <thead>\n",
       "    <tr style=\"text-align: right;\">\n",
       "      <th></th>\n",
       "      <th>GAME_ID</th>\n",
       "      <th>TEAM_ID</th>\n",
       "      <th>TEAM_ABBREVIATION</th>\n",
       "      <th>TEAM_CITY</th>\n",
       "      <th>PLAYER_ID</th>\n",
       "      <th>PLAYER_NAME</th>\n",
       "      <th>START_POSITION</th>\n",
       "      <th>COMMENT</th>\n",
       "      <th>MIN</th>\n",
       "      <th>FGM</th>\n",
       "      <th>...</th>\n",
       "      <th>OREB</th>\n",
       "      <th>DREB</th>\n",
       "      <th>REB</th>\n",
       "      <th>AST</th>\n",
       "      <th>STL</th>\n",
       "      <th>BLK</th>\n",
       "      <th>TO</th>\n",
       "      <th>PF</th>\n",
       "      <th>PTS</th>\n",
       "      <th>PLUS_MINUS</th>\n",
       "    </tr>\n",
       "  </thead>\n",
       "  <tbody>\n",
       "    <tr>\n",
       "      <th>0</th>\n",
       "      <td>12000047</td>\n",
       "      <td>1610612766</td>\n",
       "      <td>CHA</td>\n",
       "      <td>Charlotte</td>\n",
       "      <td>1628998</td>\n",
       "      <td>Cody Martin</td>\n",
       "      <td>F</td>\n",
       "      <td>NaN</td>\n",
       "      <td>17:06</td>\n",
       "      <td>0.0</td>\n",
       "      <td>...</td>\n",
       "      <td>0.0</td>\n",
       "      <td>2.0</td>\n",
       "      <td>2.0</td>\n",
       "      <td>1.0</td>\n",
       "      <td>0.0</td>\n",
       "      <td>1.0</td>\n",
       "      <td>1.0</td>\n",
       "      <td>2.0</td>\n",
       "      <td>0.0</td>\n",
       "      <td>-31.0</td>\n",
       "    </tr>\n",
       "    <tr>\n",
       "      <th>1</th>\n",
       "      <td>12000047</td>\n",
       "      <td>1610612766</td>\n",
       "      <td>CHA</td>\n",
       "      <td>Charlotte</td>\n",
       "      <td>1629023</td>\n",
       "      <td>P.J. Washington</td>\n",
       "      <td>F</td>\n",
       "      <td>NaN</td>\n",
       "      <td>24:58</td>\n",
       "      <td>4.0</td>\n",
       "      <td>...</td>\n",
       "      <td>1.0</td>\n",
       "      <td>6.0</td>\n",
       "      <td>7.0</td>\n",
       "      <td>2.0</td>\n",
       "      <td>2.0</td>\n",
       "      <td>1.0</td>\n",
       "      <td>5.0</td>\n",
       "      <td>3.0</td>\n",
       "      <td>9.0</td>\n",
       "      <td>-2.0</td>\n",
       "    </tr>\n",
       "    <tr>\n",
       "      <th>2</th>\n",
       "      <td>12000047</td>\n",
       "      <td>1610612766</td>\n",
       "      <td>CHA</td>\n",
       "      <td>Charlotte</td>\n",
       "      <td>203469</td>\n",
       "      <td>Cody Zeller</td>\n",
       "      <td>C</td>\n",
       "      <td>NaN</td>\n",
       "      <td>22:45</td>\n",
       "      <td>5.0</td>\n",
       "      <td>...</td>\n",
       "      <td>2.0</td>\n",
       "      <td>2.0</td>\n",
       "      <td>4.0</td>\n",
       "      <td>0.0</td>\n",
       "      <td>0.0</td>\n",
       "      <td>1.0</td>\n",
       "      <td>0.0</td>\n",
       "      <td>2.0</td>\n",
       "      <td>13.0</td>\n",
       "      <td>-23.0</td>\n",
       "    </tr>\n",
       "    <tr>\n",
       "      <th>3</th>\n",
       "      <td>12000047</td>\n",
       "      <td>1610612766</td>\n",
       "      <td>CHA</td>\n",
       "      <td>Charlotte</td>\n",
       "      <td>1628984</td>\n",
       "      <td>Devonte' Graham</td>\n",
       "      <td>G</td>\n",
       "      <td>NaN</td>\n",
       "      <td>31:30</td>\n",
       "      <td>8.0</td>\n",
       "      <td>...</td>\n",
       "      <td>1.0</td>\n",
       "      <td>3.0</td>\n",
       "      <td>4.0</td>\n",
       "      <td>3.0</td>\n",
       "      <td>2.0</td>\n",
       "      <td>0.0</td>\n",
       "      <td>4.0</td>\n",
       "      <td>0.0</td>\n",
       "      <td>25.0</td>\n",
       "      <td>-7.0</td>\n",
       "    </tr>\n",
       "    <tr>\n",
       "      <th>4</th>\n",
       "      <td>12000047</td>\n",
       "      <td>1610612766</td>\n",
       "      <td>CHA</td>\n",
       "      <td>Charlotte</td>\n",
       "      <td>1626179</td>\n",
       "      <td>Terry Rozier</td>\n",
       "      <td>G</td>\n",
       "      <td>NaN</td>\n",
       "      <td>26:48</td>\n",
       "      <td>8.0</td>\n",
       "      <td>...</td>\n",
       "      <td>1.0</td>\n",
       "      <td>4.0</td>\n",
       "      <td>5.0</td>\n",
       "      <td>6.0</td>\n",
       "      <td>1.0</td>\n",
       "      <td>0.0</td>\n",
       "      <td>0.0</td>\n",
       "      <td>2.0</td>\n",
       "      <td>24.0</td>\n",
       "      <td>22.0</td>\n",
       "    </tr>\n",
       "  </tbody>\n",
       "</table>\n",
       "<p>5 rows × 28 columns</p>\n",
       "</div>"
      ],
      "text/plain": [
       "    GAME_ID     TEAM_ID TEAM_ABBREVIATION  TEAM_CITY  PLAYER_ID  \\\n",
       "0  12000047  1610612766               CHA  Charlotte    1628998   \n",
       "1  12000047  1610612766               CHA  Charlotte    1629023   \n",
       "2  12000047  1610612766               CHA  Charlotte     203469   \n",
       "3  12000047  1610612766               CHA  Charlotte    1628984   \n",
       "4  12000047  1610612766               CHA  Charlotte    1626179   \n",
       "\n",
       "       PLAYER_NAME START_POSITION COMMENT    MIN  FGM  ...  OREB  DREB  REB  \\\n",
       "0      Cody Martin              F     NaN  17:06  0.0  ...   0.0   2.0  2.0   \n",
       "1  P.J. Washington              F     NaN  24:58  4.0  ...   1.0   6.0  7.0   \n",
       "2      Cody Zeller              C     NaN  22:45  5.0  ...   2.0   2.0  4.0   \n",
       "3  Devonte' Graham              G     NaN  31:30  8.0  ...   1.0   3.0  4.0   \n",
       "4     Terry Rozier              G     NaN  26:48  8.0  ...   1.0   4.0  5.0   \n",
       "\n",
       "   AST  STL  BLK   TO   PF   PTS  PLUS_MINUS  \n",
       "0  1.0  0.0  1.0  1.0  2.0   0.0       -31.0  \n",
       "1  2.0  2.0  1.0  5.0  3.0   9.0        -2.0  \n",
       "2  0.0  0.0  1.0  0.0  2.0  13.0       -23.0  \n",
       "3  3.0  2.0  0.0  4.0  0.0  25.0        -7.0  \n",
       "4  6.0  1.0  0.0  0.0  2.0  24.0        22.0  \n",
       "\n",
       "[5 rows x 28 columns]"
      ]
     },
     "execution_count": 11,
     "metadata": {},
     "output_type": "execute_result"
    }
   ],
   "source": [
    "df_games_detail.head()"
   ]
  },
  {
   "cell_type": "code",
   "execution_count": 18,
   "id": "swiss-layer",
   "metadata": {},
   "outputs": [],
   "source": [
    "df_player_2018 = pd.read_csv('./Data/players.csv')\n",
    "df_player_2018 = df_player_2018[df_player_2018.SEASON == 2018]"
   ]
  },
  {
   "cell_type": "code",
   "execution_count": 19,
   "id": "obvious-techno",
   "metadata": {},
   "outputs": [
    {
     "data": {
      "text/html": [
       "<div>\n",
       "<style scoped>\n",
       "    .dataframe tbody tr th:only-of-type {\n",
       "        vertical-align: middle;\n",
       "    }\n",
       "\n",
       "    .dataframe tbody tr th {\n",
       "        vertical-align: top;\n",
       "    }\n",
       "\n",
       "    .dataframe thead th {\n",
       "        text-align: right;\n",
       "    }\n",
       "</style>\n",
       "<table border=\"1\" class=\"dataframe\">\n",
       "  <thead>\n",
       "    <tr style=\"text-align: right;\">\n",
       "      <th></th>\n",
       "      <th>PLAYER_NAME</th>\n",
       "      <th>TEAM_ID</th>\n",
       "      <th>PLAYER_ID</th>\n",
       "      <th>SEASON</th>\n",
       "    </tr>\n",
       "  </thead>\n",
       "  <tbody>\n",
       "    <tr>\n",
       "      <th>626</th>\n",
       "      <td>Kawhi Leonard</td>\n",
       "      <td>1610612761</td>\n",
       "      <td>202695</td>\n",
       "      <td>2018</td>\n",
       "    </tr>\n",
       "    <tr>\n",
       "      <th>627</th>\n",
       "      <td>Pascal Siakam</td>\n",
       "      <td>1610612761</td>\n",
       "      <td>1627783</td>\n",
       "      <td>2018</td>\n",
       "    </tr>\n",
       "    <tr>\n",
       "      <th>628</th>\n",
       "      <td>Marc Gasol</td>\n",
       "      <td>1610612761</td>\n",
       "      <td>201188</td>\n",
       "      <td>2018</td>\n",
       "    </tr>\n",
       "    <tr>\n",
       "      <th>629</th>\n",
       "      <td>Danny Green</td>\n",
       "      <td>1610612761</td>\n",
       "      <td>201980</td>\n",
       "      <td>2018</td>\n",
       "    </tr>\n",
       "    <tr>\n",
       "      <th>630</th>\n",
       "      <td>Kyle Lowry</td>\n",
       "      <td>1610612761</td>\n",
       "      <td>200768</td>\n",
       "      <td>2018</td>\n",
       "    </tr>\n",
       "  </tbody>\n",
       "</table>\n",
       "</div>"
      ],
      "text/plain": [
       "       PLAYER_NAME     TEAM_ID  PLAYER_ID  SEASON\n",
       "626  Kawhi Leonard  1610612761     202695    2018\n",
       "627  Pascal Siakam  1610612761    1627783    2018\n",
       "628     Marc Gasol  1610612761     201188    2018\n",
       "629    Danny Green  1610612761     201980    2018\n",
       "630     Kyle Lowry  1610612761     200768    2018"
      ]
     },
     "execution_count": 19,
     "metadata": {},
     "output_type": "execute_result"
    }
   ],
   "source": [
    "df_player_2018.head()"
   ]
  },
  {
   "cell_type": "code",
   "execution_count": 20,
   "id": "exterior-place",
   "metadata": {},
   "outputs": [],
   "source": [
    "df_ranking = pd.read_csv('./Data/ranking.csv')"
   ]
  },
  {
   "cell_type": "code",
   "execution_count": 22,
   "id": "found-canal",
   "metadata": {},
   "outputs": [
    {
     "data": {
      "text/html": [
       "<div>\n",
       "<style scoped>\n",
       "    .dataframe tbody tr th:only-of-type {\n",
       "        vertical-align: middle;\n",
       "    }\n",
       "\n",
       "    .dataframe tbody tr th {\n",
       "        vertical-align: top;\n",
       "    }\n",
       "\n",
       "    .dataframe thead th {\n",
       "        text-align: right;\n",
       "    }\n",
       "</style>\n",
       "<table border=\"1\" class=\"dataframe\">\n",
       "  <thead>\n",
       "    <tr style=\"text-align: right;\">\n",
       "      <th></th>\n",
       "      <th>TEAM_ID</th>\n",
       "      <th>LEAGUE_ID</th>\n",
       "      <th>SEASON_ID</th>\n",
       "      <th>STANDINGSDATE</th>\n",
       "      <th>CONFERENCE</th>\n",
       "      <th>TEAM</th>\n",
       "      <th>G</th>\n",
       "      <th>W</th>\n",
       "      <th>L</th>\n",
       "      <th>W_PCT</th>\n",
       "      <th>HOME_RECORD</th>\n",
       "      <th>ROAD_RECORD</th>\n",
       "      <th>RETURNTOPLAY</th>\n",
       "    </tr>\n",
       "  </thead>\n",
       "  <tbody>\n",
       "    <tr>\n",
       "      <th>0</th>\n",
       "      <td>1610612747</td>\n",
       "      <td>0</td>\n",
       "      <td>12020</td>\n",
       "      <td>2020-12-21</td>\n",
       "      <td>West</td>\n",
       "      <td>L.A. Lakers</td>\n",
       "      <td>4</td>\n",
       "      <td>4</td>\n",
       "      <td>0</td>\n",
       "      <td>1.00</td>\n",
       "      <td>2-0</td>\n",
       "      <td>2-0</td>\n",
       "      <td>NaN</td>\n",
       "    </tr>\n",
       "    <tr>\n",
       "      <th>1</th>\n",
       "      <td>1610612762</td>\n",
       "      <td>0</td>\n",
       "      <td>12020</td>\n",
       "      <td>2020-12-21</td>\n",
       "      <td>West</td>\n",
       "      <td>Utah</td>\n",
       "      <td>3</td>\n",
       "      <td>3</td>\n",
       "      <td>0</td>\n",
       "      <td>1.00</td>\n",
       "      <td>2-0</td>\n",
       "      <td>1-0</td>\n",
       "      <td>NaN</td>\n",
       "    </tr>\n",
       "    <tr>\n",
       "      <th>2</th>\n",
       "      <td>1610612740</td>\n",
       "      <td>0</td>\n",
       "      <td>12020</td>\n",
       "      <td>2020-12-21</td>\n",
       "      <td>West</td>\n",
       "      <td>New Orleans</td>\n",
       "      <td>2</td>\n",
       "      <td>2</td>\n",
       "      <td>0</td>\n",
       "      <td>1.00</td>\n",
       "      <td>1-0</td>\n",
       "      <td>1-0</td>\n",
       "      <td>NaN</td>\n",
       "    </tr>\n",
       "    <tr>\n",
       "      <th>3</th>\n",
       "      <td>1610612745</td>\n",
       "      <td>0</td>\n",
       "      <td>12020</td>\n",
       "      <td>2020-12-21</td>\n",
       "      <td>West</td>\n",
       "      <td>Houston</td>\n",
       "      <td>4</td>\n",
       "      <td>3</td>\n",
       "      <td>1</td>\n",
       "      <td>0.75</td>\n",
       "      <td>2-0</td>\n",
       "      <td>1-1</td>\n",
       "      <td>NaN</td>\n",
       "    </tr>\n",
       "    <tr>\n",
       "      <th>4</th>\n",
       "      <td>1610612763</td>\n",
       "      <td>0</td>\n",
       "      <td>12020</td>\n",
       "      <td>2020-12-21</td>\n",
       "      <td>West</td>\n",
       "      <td>Memphis</td>\n",
       "      <td>4</td>\n",
       "      <td>3</td>\n",
       "      <td>1</td>\n",
       "      <td>0.75</td>\n",
       "      <td>1-1</td>\n",
       "      <td>2-0</td>\n",
       "      <td>NaN</td>\n",
       "    </tr>\n",
       "  </tbody>\n",
       "</table>\n",
       "</div>"
      ],
      "text/plain": [
       "      TEAM_ID  LEAGUE_ID  SEASON_ID STANDINGSDATE CONFERENCE         TEAM  G  \\\n",
       "0  1610612747          0      12020    2020-12-21       West  L.A. Lakers  4   \n",
       "1  1610612762          0      12020    2020-12-21       West         Utah  3   \n",
       "2  1610612740          0      12020    2020-12-21       West  New Orleans  2   \n",
       "3  1610612745          0      12020    2020-12-21       West      Houston  4   \n",
       "4  1610612763          0      12020    2020-12-21       West      Memphis  4   \n",
       "\n",
       "   W  L  W_PCT HOME_RECORD ROAD_RECORD  RETURNTOPLAY  \n",
       "0  4  0   1.00         2-0         2-0           NaN  \n",
       "1  3  0   1.00         2-0         1-0           NaN  \n",
       "2  2  0   1.00         1-0         1-0           NaN  \n",
       "3  3  1   0.75         2-0         1-1           NaN  \n",
       "4  3  1   0.75         1-1         2-0           NaN  "
      ]
     },
     "execution_count": 22,
     "metadata": {},
     "output_type": "execute_result"
    }
   ],
   "source": [
    "df_ranking.head()"
   ]
  },
  {
   "cell_type": "code",
   "execution_count": 26,
   "id": "certain-textbook",
   "metadata": {},
   "outputs": [],
   "source": [
    "df_team = pd.read_csv('./Data/teams.csv')"
   ]
  },
  {
   "cell_type": "code",
   "execution_count": 27,
   "id": "centered-fields",
   "metadata": {},
   "outputs": [
    {
     "data": {
      "text/html": [
       "<div>\n",
       "<style scoped>\n",
       "    .dataframe tbody tr th:only-of-type {\n",
       "        vertical-align: middle;\n",
       "    }\n",
       "\n",
       "    .dataframe tbody tr th {\n",
       "        vertical-align: top;\n",
       "    }\n",
       "\n",
       "    .dataframe thead th {\n",
       "        text-align: right;\n",
       "    }\n",
       "</style>\n",
       "<table border=\"1\" class=\"dataframe\">\n",
       "  <thead>\n",
       "    <tr style=\"text-align: right;\">\n",
       "      <th></th>\n",
       "      <th>LEAGUE_ID</th>\n",
       "      <th>TEAM_ID</th>\n",
       "      <th>MIN_YEAR</th>\n",
       "      <th>MAX_YEAR</th>\n",
       "      <th>ABBREVIATION</th>\n",
       "      <th>NICKNAME</th>\n",
       "      <th>YEARFOUNDED</th>\n",
       "      <th>CITY</th>\n",
       "      <th>ARENA</th>\n",
       "      <th>ARENACAPACITY</th>\n",
       "      <th>OWNER</th>\n",
       "      <th>GENERALMANAGER</th>\n",
       "      <th>HEADCOACH</th>\n",
       "      <th>DLEAGUEAFFILIATION</th>\n",
       "    </tr>\n",
       "  </thead>\n",
       "  <tbody>\n",
       "    <tr>\n",
       "      <th>0</th>\n",
       "      <td>0</td>\n",
       "      <td>1610612737</td>\n",
       "      <td>1949</td>\n",
       "      <td>2019</td>\n",
       "      <td>ATL</td>\n",
       "      <td>Hawks</td>\n",
       "      <td>1949</td>\n",
       "      <td>Atlanta</td>\n",
       "      <td>State Farm Arena</td>\n",
       "      <td>18729.0</td>\n",
       "      <td>Tony Ressler</td>\n",
       "      <td>Travis Schlenk</td>\n",
       "      <td>Lloyd Pierce</td>\n",
       "      <td>Erie Bayhawks</td>\n",
       "    </tr>\n",
       "    <tr>\n",
       "      <th>1</th>\n",
       "      <td>0</td>\n",
       "      <td>1610612738</td>\n",
       "      <td>1946</td>\n",
       "      <td>2019</td>\n",
       "      <td>BOS</td>\n",
       "      <td>Celtics</td>\n",
       "      <td>1946</td>\n",
       "      <td>Boston</td>\n",
       "      <td>TD Garden</td>\n",
       "      <td>18624.0</td>\n",
       "      <td>Wyc Grousbeck</td>\n",
       "      <td>Danny Ainge</td>\n",
       "      <td>Brad Stevens</td>\n",
       "      <td>Maine Red Claws</td>\n",
       "    </tr>\n",
       "    <tr>\n",
       "      <th>2</th>\n",
       "      <td>0</td>\n",
       "      <td>1610612740</td>\n",
       "      <td>2002</td>\n",
       "      <td>2019</td>\n",
       "      <td>NOP</td>\n",
       "      <td>Pelicans</td>\n",
       "      <td>2002</td>\n",
       "      <td>New Orleans</td>\n",
       "      <td>Smoothie King Center</td>\n",
       "      <td>NaN</td>\n",
       "      <td>Tom Benson</td>\n",
       "      <td>Trajan Langdon</td>\n",
       "      <td>Alvin Gentry</td>\n",
       "      <td>No Affiliate</td>\n",
       "    </tr>\n",
       "    <tr>\n",
       "      <th>3</th>\n",
       "      <td>0</td>\n",
       "      <td>1610612741</td>\n",
       "      <td>1966</td>\n",
       "      <td>2019</td>\n",
       "      <td>CHI</td>\n",
       "      <td>Bulls</td>\n",
       "      <td>1966</td>\n",
       "      <td>Chicago</td>\n",
       "      <td>United Center</td>\n",
       "      <td>21711.0</td>\n",
       "      <td>Jerry Reinsdorf</td>\n",
       "      <td>Gar Forman</td>\n",
       "      <td>Jim Boylen</td>\n",
       "      <td>Windy City Bulls</td>\n",
       "    </tr>\n",
       "    <tr>\n",
       "      <th>4</th>\n",
       "      <td>0</td>\n",
       "      <td>1610612742</td>\n",
       "      <td>1980</td>\n",
       "      <td>2019</td>\n",
       "      <td>DAL</td>\n",
       "      <td>Mavericks</td>\n",
       "      <td>1980</td>\n",
       "      <td>Dallas</td>\n",
       "      <td>American Airlines Center</td>\n",
       "      <td>19200.0</td>\n",
       "      <td>Mark Cuban</td>\n",
       "      <td>Donnie Nelson</td>\n",
       "      <td>Rick Carlisle</td>\n",
       "      <td>Texas Legends</td>\n",
       "    </tr>\n",
       "  </tbody>\n",
       "</table>\n",
       "</div>"
      ],
      "text/plain": [
       "   LEAGUE_ID     TEAM_ID  MIN_YEAR  MAX_YEAR ABBREVIATION   NICKNAME  \\\n",
       "0          0  1610612737      1949      2019          ATL      Hawks   \n",
       "1          0  1610612738      1946      2019          BOS    Celtics   \n",
       "2          0  1610612740      2002      2019          NOP   Pelicans   \n",
       "3          0  1610612741      1966      2019          CHI      Bulls   \n",
       "4          0  1610612742      1980      2019          DAL  Mavericks   \n",
       "\n",
       "   YEARFOUNDED         CITY                     ARENA  ARENACAPACITY  \\\n",
       "0         1949      Atlanta          State Farm Arena        18729.0   \n",
       "1         1946       Boston                 TD Garden        18624.0   \n",
       "2         2002  New Orleans      Smoothie King Center            NaN   \n",
       "3         1966      Chicago             United Center        21711.0   \n",
       "4         1980       Dallas  American Airlines Center        19200.0   \n",
       "\n",
       "             OWNER  GENERALMANAGER      HEADCOACH DLEAGUEAFFILIATION  \n",
       "0     Tony Ressler  Travis Schlenk   Lloyd Pierce      Erie Bayhawks  \n",
       "1    Wyc Grousbeck     Danny Ainge   Brad Stevens    Maine Red Claws  \n",
       "2       Tom Benson  Trajan Langdon   Alvin Gentry       No Affiliate  \n",
       "3  Jerry Reinsdorf      Gar Forman     Jim Boylen   Windy City Bulls  \n",
       "4       Mark Cuban   Donnie Nelson  Rick Carlisle      Texas Legends  "
      ]
     },
     "execution_count": 27,
     "metadata": {},
     "output_type": "execute_result"
    }
   ],
   "source": [
    "df_team.head()"
   ]
  },
  {
   "cell_type": "markdown",
   "id": "insured-polymer",
   "metadata": {},
   "source": [
    "# General Review"
   ]
  },
  {
   "cell_type": "code",
   "execution_count": 152,
   "id": "western-operation",
   "metadata": {},
   "outputs": [],
   "source": [
    "df_games = pd.read_csv('./Data/games.csv')\n",
    "df_games = df_games[(df_games.SEASON >= 2017) &(df_games.SEASON < 2020)]\n",
    "#2018 Game is actually season 2017, therefore past three season from year 2018 -2020 is season 2017, 2018 and 2019\n",
    "# merge with the team csv to get the team name instead of team ID: "
   ]
  },
  {
   "cell_type": "code",
   "execution_count": 153,
   "id": "solved-above",
   "metadata": {},
   "outputs": [
    {
     "data": {
      "text/html": [
       "<div>\n",
       "<style scoped>\n",
       "    .dataframe tbody tr th:only-of-type {\n",
       "        vertical-align: middle;\n",
       "    }\n",
       "\n",
       "    .dataframe tbody tr th {\n",
       "        vertical-align: top;\n",
       "    }\n",
       "\n",
       "    .dataframe thead th {\n",
       "        text-align: right;\n",
       "    }\n",
       "</style>\n",
       "<table border=\"1\" class=\"dataframe\">\n",
       "  <thead>\n",
       "    <tr style=\"text-align: right;\">\n",
       "      <th></th>\n",
       "      <th>GAME_DATE_EST</th>\n",
       "      <th>GAME_ID</th>\n",
       "      <th>GAME_STATUS_TEXT</th>\n",
       "      <th>HOME_TEAM_ID</th>\n",
       "      <th>VISITOR_TEAM_ID</th>\n",
       "      <th>SEASON</th>\n",
       "      <th>TEAM_ID_home</th>\n",
       "      <th>PTS_home</th>\n",
       "      <th>FG_PCT_home</th>\n",
       "      <th>FT_PCT_home</th>\n",
       "      <th>...</th>\n",
       "      <th>TEAM_ID_away</th>\n",
       "      <th>PTS_away</th>\n",
       "      <th>FG_PCT_away</th>\n",
       "      <th>FT_PCT_away</th>\n",
       "      <th>FG3_PCT_away</th>\n",
       "      <th>AST_away</th>\n",
       "      <th>REB_away</th>\n",
       "      <th>HOME_TEAM_WINS</th>\n",
       "      <th>TEAM_ID</th>\n",
       "      <th>NICKNAME</th>\n",
       "    </tr>\n",
       "  </thead>\n",
       "  <tbody>\n",
       "    <tr>\n",
       "      <th>0</th>\n",
       "      <td>2020-10-11</td>\n",
       "      <td>41900406</td>\n",
       "      <td>Final</td>\n",
       "      <td>1610612748</td>\n",
       "      <td>1610612747</td>\n",
       "      <td>2019</td>\n",
       "      <td>1610612748</td>\n",
       "      <td>93.0</td>\n",
       "      <td>0.443</td>\n",
       "      <td>0.591</td>\n",
       "      <td>...</td>\n",
       "      <td>1610612747</td>\n",
       "      <td>106.0</td>\n",
       "      <td>0.483</td>\n",
       "      <td>0.643</td>\n",
       "      <td>0.314</td>\n",
       "      <td>23.0</td>\n",
       "      <td>46.0</td>\n",
       "      <td>0</td>\n",
       "      <td>1610612748</td>\n",
       "      <td>Heat</td>\n",
       "    </tr>\n",
       "    <tr>\n",
       "      <th>1</th>\n",
       "      <td>2020-10-09</td>\n",
       "      <td>41900405</td>\n",
       "      <td>Final</td>\n",
       "      <td>1610612747</td>\n",
       "      <td>1610612748</td>\n",
       "      <td>2019</td>\n",
       "      <td>1610612747</td>\n",
       "      <td>108.0</td>\n",
       "      <td>0.463</td>\n",
       "      <td>0.857</td>\n",
       "      <td>...</td>\n",
       "      <td>1610612748</td>\n",
       "      <td>111.0</td>\n",
       "      <td>0.458</td>\n",
       "      <td>0.955</td>\n",
       "      <td>0.424</td>\n",
       "      <td>26.0</td>\n",
       "      <td>35.0</td>\n",
       "      <td>0</td>\n",
       "      <td>1610612747</td>\n",
       "      <td>Lakers</td>\n",
       "    </tr>\n",
       "    <tr>\n",
       "      <th>2</th>\n",
       "      <td>2020-10-06</td>\n",
       "      <td>41900404</td>\n",
       "      <td>Final</td>\n",
       "      <td>1610612748</td>\n",
       "      <td>1610612747</td>\n",
       "      <td>2019</td>\n",
       "      <td>1610612748</td>\n",
       "      <td>96.0</td>\n",
       "      <td>0.427</td>\n",
       "      <td>0.808</td>\n",
       "      <td>...</td>\n",
       "      <td>1610612747</td>\n",
       "      <td>102.0</td>\n",
       "      <td>0.443</td>\n",
       "      <td>0.857</td>\n",
       "      <td>0.359</td>\n",
       "      <td>25.0</td>\n",
       "      <td>42.0</td>\n",
       "      <td>0</td>\n",
       "      <td>1610612748</td>\n",
       "      <td>Heat</td>\n",
       "    </tr>\n",
       "    <tr>\n",
       "      <th>3</th>\n",
       "      <td>2020-10-04</td>\n",
       "      <td>41900403</td>\n",
       "      <td>Final</td>\n",
       "      <td>1610612748</td>\n",
       "      <td>1610612747</td>\n",
       "      <td>2019</td>\n",
       "      <td>1610612748</td>\n",
       "      <td>115.0</td>\n",
       "      <td>0.513</td>\n",
       "      <td>0.913</td>\n",
       "      <td>...</td>\n",
       "      <td>1610612747</td>\n",
       "      <td>104.0</td>\n",
       "      <td>0.430</td>\n",
       "      <td>0.759</td>\n",
       "      <td>0.333</td>\n",
       "      <td>23.0</td>\n",
       "      <td>43.0</td>\n",
       "      <td>1</td>\n",
       "      <td>1610612748</td>\n",
       "      <td>Heat</td>\n",
       "    </tr>\n",
       "    <tr>\n",
       "      <th>4</th>\n",
       "      <td>2020-10-02</td>\n",
       "      <td>41900402</td>\n",
       "      <td>Final</td>\n",
       "      <td>1610612747</td>\n",
       "      <td>1610612748</td>\n",
       "      <td>2019</td>\n",
       "      <td>1610612747</td>\n",
       "      <td>124.0</td>\n",
       "      <td>0.505</td>\n",
       "      <td>0.588</td>\n",
       "      <td>...</td>\n",
       "      <td>1610612748</td>\n",
       "      <td>114.0</td>\n",
       "      <td>0.507</td>\n",
       "      <td>0.912</td>\n",
       "      <td>0.407</td>\n",
       "      <td>29.0</td>\n",
       "      <td>37.0</td>\n",
       "      <td>1</td>\n",
       "      <td>1610612747</td>\n",
       "      <td>Lakers</td>\n",
       "    </tr>\n",
       "  </tbody>\n",
       "</table>\n",
       "<p>5 rows × 23 columns</p>\n",
       "</div>"
      ],
      "text/plain": [
       "  GAME_DATE_EST   GAME_ID GAME_STATUS_TEXT  HOME_TEAM_ID  VISITOR_TEAM_ID  \\\n",
       "0    2020-10-11  41900406            Final    1610612748       1610612747   \n",
       "1    2020-10-09  41900405            Final    1610612747       1610612748   \n",
       "2    2020-10-06  41900404            Final    1610612748       1610612747   \n",
       "3    2020-10-04  41900403            Final    1610612748       1610612747   \n",
       "4    2020-10-02  41900402            Final    1610612747       1610612748   \n",
       "\n",
       "   SEASON  TEAM_ID_home  PTS_home  FG_PCT_home  FT_PCT_home  ...  \\\n",
       "0    2019    1610612748      93.0        0.443        0.591  ...   \n",
       "1    2019    1610612747     108.0        0.463        0.857  ...   \n",
       "2    2019    1610612748      96.0        0.427        0.808  ...   \n",
       "3    2019    1610612748     115.0        0.513        0.913  ...   \n",
       "4    2019    1610612747     124.0        0.505        0.588  ...   \n",
       "\n",
       "   TEAM_ID_away  PTS_away  FG_PCT_away  FT_PCT_away  FG3_PCT_away  AST_away  \\\n",
       "0    1610612747     106.0        0.483        0.643         0.314      23.0   \n",
       "1    1610612748     111.0        0.458        0.955         0.424      26.0   \n",
       "2    1610612747     102.0        0.443        0.857         0.359      25.0   \n",
       "3    1610612747     104.0        0.430        0.759         0.333      23.0   \n",
       "4    1610612748     114.0        0.507        0.912         0.407      29.0   \n",
       "\n",
       "   REB_away  HOME_TEAM_WINS     TEAM_ID  NICKNAME  \n",
       "0      46.0               0  1610612748      Heat  \n",
       "1      35.0               0  1610612747    Lakers  \n",
       "2      42.0               0  1610612748      Heat  \n",
       "3      43.0               1  1610612748      Heat  \n",
       "4      37.0               1  1610612747    Lakers  \n",
       "\n",
       "[5 rows x 23 columns]"
      ]
     },
     "execution_count": 153,
     "metadata": {},
     "output_type": "execute_result"
    }
   ],
   "source": [
    "df_games = df_games.merge(df_team[[\"TEAM_ID\",\"NICKNAME\"]], how='left', left_on='HOME_TEAM_ID', right_on='TEAM_ID')\n",
    "df_games.head()"
   ]
  },
  {
   "cell_type": "code",
   "execution_count": 154,
   "id": "manual-melbourne",
   "metadata": {},
   "outputs": [
    {
     "data": {
      "text/html": [
       "<div>\n",
       "<style scoped>\n",
       "    .dataframe tbody tr th:only-of-type {\n",
       "        vertical-align: middle;\n",
       "    }\n",
       "\n",
       "    .dataframe tbody tr th {\n",
       "        vertical-align: top;\n",
       "    }\n",
       "\n",
       "    .dataframe thead th {\n",
       "        text-align: right;\n",
       "    }\n",
       "</style>\n",
       "<table border=\"1\" class=\"dataframe\">\n",
       "  <thead>\n",
       "    <tr style=\"text-align: right;\">\n",
       "      <th></th>\n",
       "      <th>GAME_DATE_EST</th>\n",
       "      <th>GAME_ID</th>\n",
       "      <th>GAME_STATUS_TEXT</th>\n",
       "      <th>HOME_TEAM_ID</th>\n",
       "      <th>VISITOR_TEAM_ID</th>\n",
       "      <th>SEASON</th>\n",
       "      <th>TEAM_ID_home</th>\n",
       "      <th>PTS_home</th>\n",
       "      <th>FG_PCT_home</th>\n",
       "      <th>FT_PCT_home</th>\n",
       "      <th>...</th>\n",
       "      <th>TEAM_ID_away</th>\n",
       "      <th>PTS_away</th>\n",
       "      <th>FG_PCT_away</th>\n",
       "      <th>FT_PCT_away</th>\n",
       "      <th>FG3_PCT_away</th>\n",
       "      <th>AST_away</th>\n",
       "      <th>REB_away</th>\n",
       "      <th>HOME_TEAM_WINS</th>\n",
       "      <th>TEAM_ID</th>\n",
       "      <th>HOME_TEAM_NAME</th>\n",
       "    </tr>\n",
       "  </thead>\n",
       "  <tbody>\n",
       "    <tr>\n",
       "      <th>0</th>\n",
       "      <td>2020-10-11</td>\n",
       "      <td>41900406</td>\n",
       "      <td>Final</td>\n",
       "      <td>1610612748</td>\n",
       "      <td>1610612747</td>\n",
       "      <td>2019</td>\n",
       "      <td>1610612748</td>\n",
       "      <td>93.0</td>\n",
       "      <td>0.443</td>\n",
       "      <td>0.591</td>\n",
       "      <td>...</td>\n",
       "      <td>1610612747</td>\n",
       "      <td>106.0</td>\n",
       "      <td>0.483</td>\n",
       "      <td>0.643</td>\n",
       "      <td>0.314</td>\n",
       "      <td>23.0</td>\n",
       "      <td>46.0</td>\n",
       "      <td>0</td>\n",
       "      <td>1610612748</td>\n",
       "      <td>Heat</td>\n",
       "    </tr>\n",
       "    <tr>\n",
       "      <th>1</th>\n",
       "      <td>2020-10-09</td>\n",
       "      <td>41900405</td>\n",
       "      <td>Final</td>\n",
       "      <td>1610612747</td>\n",
       "      <td>1610612748</td>\n",
       "      <td>2019</td>\n",
       "      <td>1610612747</td>\n",
       "      <td>108.0</td>\n",
       "      <td>0.463</td>\n",
       "      <td>0.857</td>\n",
       "      <td>...</td>\n",
       "      <td>1610612748</td>\n",
       "      <td>111.0</td>\n",
       "      <td>0.458</td>\n",
       "      <td>0.955</td>\n",
       "      <td>0.424</td>\n",
       "      <td>26.0</td>\n",
       "      <td>35.0</td>\n",
       "      <td>0</td>\n",
       "      <td>1610612747</td>\n",
       "      <td>Lakers</td>\n",
       "    </tr>\n",
       "    <tr>\n",
       "      <th>2</th>\n",
       "      <td>2020-10-06</td>\n",
       "      <td>41900404</td>\n",
       "      <td>Final</td>\n",
       "      <td>1610612748</td>\n",
       "      <td>1610612747</td>\n",
       "      <td>2019</td>\n",
       "      <td>1610612748</td>\n",
       "      <td>96.0</td>\n",
       "      <td>0.427</td>\n",
       "      <td>0.808</td>\n",
       "      <td>...</td>\n",
       "      <td>1610612747</td>\n",
       "      <td>102.0</td>\n",
       "      <td>0.443</td>\n",
       "      <td>0.857</td>\n",
       "      <td>0.359</td>\n",
       "      <td>25.0</td>\n",
       "      <td>42.0</td>\n",
       "      <td>0</td>\n",
       "      <td>1610612748</td>\n",
       "      <td>Heat</td>\n",
       "    </tr>\n",
       "    <tr>\n",
       "      <th>3</th>\n",
       "      <td>2020-10-04</td>\n",
       "      <td>41900403</td>\n",
       "      <td>Final</td>\n",
       "      <td>1610612748</td>\n",
       "      <td>1610612747</td>\n",
       "      <td>2019</td>\n",
       "      <td>1610612748</td>\n",
       "      <td>115.0</td>\n",
       "      <td>0.513</td>\n",
       "      <td>0.913</td>\n",
       "      <td>...</td>\n",
       "      <td>1610612747</td>\n",
       "      <td>104.0</td>\n",
       "      <td>0.430</td>\n",
       "      <td>0.759</td>\n",
       "      <td>0.333</td>\n",
       "      <td>23.0</td>\n",
       "      <td>43.0</td>\n",
       "      <td>1</td>\n",
       "      <td>1610612748</td>\n",
       "      <td>Heat</td>\n",
       "    </tr>\n",
       "    <tr>\n",
       "      <th>4</th>\n",
       "      <td>2020-10-02</td>\n",
       "      <td>41900402</td>\n",
       "      <td>Final</td>\n",
       "      <td>1610612747</td>\n",
       "      <td>1610612748</td>\n",
       "      <td>2019</td>\n",
       "      <td>1610612747</td>\n",
       "      <td>124.0</td>\n",
       "      <td>0.505</td>\n",
       "      <td>0.588</td>\n",
       "      <td>...</td>\n",
       "      <td>1610612748</td>\n",
       "      <td>114.0</td>\n",
       "      <td>0.507</td>\n",
       "      <td>0.912</td>\n",
       "      <td>0.407</td>\n",
       "      <td>29.0</td>\n",
       "      <td>37.0</td>\n",
       "      <td>1</td>\n",
       "      <td>1610612747</td>\n",
       "      <td>Lakers</td>\n",
       "    </tr>\n",
       "  </tbody>\n",
       "</table>\n",
       "<p>5 rows × 23 columns</p>\n",
       "</div>"
      ],
      "text/plain": [
       "  GAME_DATE_EST   GAME_ID GAME_STATUS_TEXT  HOME_TEAM_ID  VISITOR_TEAM_ID  \\\n",
       "0    2020-10-11  41900406            Final    1610612748       1610612747   \n",
       "1    2020-10-09  41900405            Final    1610612747       1610612748   \n",
       "2    2020-10-06  41900404            Final    1610612748       1610612747   \n",
       "3    2020-10-04  41900403            Final    1610612748       1610612747   \n",
       "4    2020-10-02  41900402            Final    1610612747       1610612748   \n",
       "\n",
       "   SEASON  TEAM_ID_home  PTS_home  FG_PCT_home  FT_PCT_home  ...  \\\n",
       "0    2019    1610612748      93.0        0.443        0.591  ...   \n",
       "1    2019    1610612747     108.0        0.463        0.857  ...   \n",
       "2    2019    1610612748      96.0        0.427        0.808  ...   \n",
       "3    2019    1610612748     115.0        0.513        0.913  ...   \n",
       "4    2019    1610612747     124.0        0.505        0.588  ...   \n",
       "\n",
       "   TEAM_ID_away  PTS_away  FG_PCT_away  FT_PCT_away  FG3_PCT_away  AST_away  \\\n",
       "0    1610612747     106.0        0.483        0.643         0.314      23.0   \n",
       "1    1610612748     111.0        0.458        0.955         0.424      26.0   \n",
       "2    1610612747     102.0        0.443        0.857         0.359      25.0   \n",
       "3    1610612747     104.0        0.430        0.759         0.333      23.0   \n",
       "4    1610612748     114.0        0.507        0.912         0.407      29.0   \n",
       "\n",
       "   REB_away  HOME_TEAM_WINS     TEAM_ID  HOME_TEAM_NAME  \n",
       "0      46.0               0  1610612748            Heat  \n",
       "1      35.0               0  1610612747          Lakers  \n",
       "2      42.0               0  1610612748            Heat  \n",
       "3      43.0               1  1610612748            Heat  \n",
       "4      37.0               1  1610612747          Lakers  \n",
       "\n",
       "[5 rows x 23 columns]"
      ]
     },
     "execution_count": 154,
     "metadata": {},
     "output_type": "execute_result"
    }
   ],
   "source": [
    "# now rename the team name to home team name\n",
    "df_games = df_games.rename(columns={\"NICKNAME\": \"HOME_TEAM_NAME\"})\n",
    "df_games.head()"
   ]
  },
  {
   "cell_type": "code",
   "execution_count": 155,
   "id": "broke-migration",
   "metadata": {},
   "outputs": [
    {
     "data": {
      "text/html": [
       "<div>\n",
       "<style scoped>\n",
       "    .dataframe tbody tr th:only-of-type {\n",
       "        vertical-align: middle;\n",
       "    }\n",
       "\n",
       "    .dataframe tbody tr th {\n",
       "        vertical-align: top;\n",
       "    }\n",
       "\n",
       "    .dataframe thead th {\n",
       "        text-align: right;\n",
       "    }\n",
       "</style>\n",
       "<table border=\"1\" class=\"dataframe\">\n",
       "  <thead>\n",
       "    <tr style=\"text-align: right;\">\n",
       "      <th></th>\n",
       "      <th>GAME_DATE_EST</th>\n",
       "      <th>GAME_ID</th>\n",
       "      <th>GAME_STATUS_TEXT</th>\n",
       "      <th>HOME_TEAM_ID</th>\n",
       "      <th>VISITOR_TEAM_ID</th>\n",
       "      <th>SEASON</th>\n",
       "      <th>TEAM_ID_home</th>\n",
       "      <th>PTS_home</th>\n",
       "      <th>FG_PCT_home</th>\n",
       "      <th>FT_PCT_home</th>\n",
       "      <th>...</th>\n",
       "      <th>FG_PCT_away</th>\n",
       "      <th>FT_PCT_away</th>\n",
       "      <th>FG3_PCT_away</th>\n",
       "      <th>AST_away</th>\n",
       "      <th>REB_away</th>\n",
       "      <th>HOME_TEAM_WINS</th>\n",
       "      <th>TEAM_ID_x</th>\n",
       "      <th>HOME_TEAM_NAME</th>\n",
       "      <th>TEAM_ID_y</th>\n",
       "      <th>NICKNAME</th>\n",
       "    </tr>\n",
       "  </thead>\n",
       "  <tbody>\n",
       "    <tr>\n",
       "      <th>0</th>\n",
       "      <td>2020-10-11</td>\n",
       "      <td>41900406</td>\n",
       "      <td>Final</td>\n",
       "      <td>1610612748</td>\n",
       "      <td>1610612747</td>\n",
       "      <td>2019</td>\n",
       "      <td>1610612748</td>\n",
       "      <td>93.0</td>\n",
       "      <td>0.443</td>\n",
       "      <td>0.591</td>\n",
       "      <td>...</td>\n",
       "      <td>0.483</td>\n",
       "      <td>0.643</td>\n",
       "      <td>0.314</td>\n",
       "      <td>23.0</td>\n",
       "      <td>46.0</td>\n",
       "      <td>0</td>\n",
       "      <td>1610612748</td>\n",
       "      <td>Heat</td>\n",
       "      <td>1610612747</td>\n",
       "      <td>Lakers</td>\n",
       "    </tr>\n",
       "    <tr>\n",
       "      <th>1</th>\n",
       "      <td>2020-10-09</td>\n",
       "      <td>41900405</td>\n",
       "      <td>Final</td>\n",
       "      <td>1610612747</td>\n",
       "      <td>1610612748</td>\n",
       "      <td>2019</td>\n",
       "      <td>1610612747</td>\n",
       "      <td>108.0</td>\n",
       "      <td>0.463</td>\n",
       "      <td>0.857</td>\n",
       "      <td>...</td>\n",
       "      <td>0.458</td>\n",
       "      <td>0.955</td>\n",
       "      <td>0.424</td>\n",
       "      <td>26.0</td>\n",
       "      <td>35.0</td>\n",
       "      <td>0</td>\n",
       "      <td>1610612747</td>\n",
       "      <td>Lakers</td>\n",
       "      <td>1610612748</td>\n",
       "      <td>Heat</td>\n",
       "    </tr>\n",
       "    <tr>\n",
       "      <th>2</th>\n",
       "      <td>2020-10-06</td>\n",
       "      <td>41900404</td>\n",
       "      <td>Final</td>\n",
       "      <td>1610612748</td>\n",
       "      <td>1610612747</td>\n",
       "      <td>2019</td>\n",
       "      <td>1610612748</td>\n",
       "      <td>96.0</td>\n",
       "      <td>0.427</td>\n",
       "      <td>0.808</td>\n",
       "      <td>...</td>\n",
       "      <td>0.443</td>\n",
       "      <td>0.857</td>\n",
       "      <td>0.359</td>\n",
       "      <td>25.0</td>\n",
       "      <td>42.0</td>\n",
       "      <td>0</td>\n",
       "      <td>1610612748</td>\n",
       "      <td>Heat</td>\n",
       "      <td>1610612747</td>\n",
       "      <td>Lakers</td>\n",
       "    </tr>\n",
       "    <tr>\n",
       "      <th>3</th>\n",
       "      <td>2020-10-04</td>\n",
       "      <td>41900403</td>\n",
       "      <td>Final</td>\n",
       "      <td>1610612748</td>\n",
       "      <td>1610612747</td>\n",
       "      <td>2019</td>\n",
       "      <td>1610612748</td>\n",
       "      <td>115.0</td>\n",
       "      <td>0.513</td>\n",
       "      <td>0.913</td>\n",
       "      <td>...</td>\n",
       "      <td>0.430</td>\n",
       "      <td>0.759</td>\n",
       "      <td>0.333</td>\n",
       "      <td>23.0</td>\n",
       "      <td>43.0</td>\n",
       "      <td>1</td>\n",
       "      <td>1610612748</td>\n",
       "      <td>Heat</td>\n",
       "      <td>1610612747</td>\n",
       "      <td>Lakers</td>\n",
       "    </tr>\n",
       "    <tr>\n",
       "      <th>4</th>\n",
       "      <td>2020-10-02</td>\n",
       "      <td>41900402</td>\n",
       "      <td>Final</td>\n",
       "      <td>1610612747</td>\n",
       "      <td>1610612748</td>\n",
       "      <td>2019</td>\n",
       "      <td>1610612747</td>\n",
       "      <td>124.0</td>\n",
       "      <td>0.505</td>\n",
       "      <td>0.588</td>\n",
       "      <td>...</td>\n",
       "      <td>0.507</td>\n",
       "      <td>0.912</td>\n",
       "      <td>0.407</td>\n",
       "      <td>29.0</td>\n",
       "      <td>37.0</td>\n",
       "      <td>1</td>\n",
       "      <td>1610612747</td>\n",
       "      <td>Lakers</td>\n",
       "      <td>1610612748</td>\n",
       "      <td>Heat</td>\n",
       "    </tr>\n",
       "  </tbody>\n",
       "</table>\n",
       "<p>5 rows × 25 columns</p>\n",
       "</div>"
      ],
      "text/plain": [
       "  GAME_DATE_EST   GAME_ID GAME_STATUS_TEXT  HOME_TEAM_ID  VISITOR_TEAM_ID  \\\n",
       "0    2020-10-11  41900406            Final    1610612748       1610612747   \n",
       "1    2020-10-09  41900405            Final    1610612747       1610612748   \n",
       "2    2020-10-06  41900404            Final    1610612748       1610612747   \n",
       "3    2020-10-04  41900403            Final    1610612748       1610612747   \n",
       "4    2020-10-02  41900402            Final    1610612747       1610612748   \n",
       "\n",
       "   SEASON  TEAM_ID_home  PTS_home  FG_PCT_home  FT_PCT_home  ...  FG_PCT_away  \\\n",
       "0    2019    1610612748      93.0        0.443        0.591  ...        0.483   \n",
       "1    2019    1610612747     108.0        0.463        0.857  ...        0.458   \n",
       "2    2019    1610612748      96.0        0.427        0.808  ...        0.443   \n",
       "3    2019    1610612748     115.0        0.513        0.913  ...        0.430   \n",
       "4    2019    1610612747     124.0        0.505        0.588  ...        0.507   \n",
       "\n",
       "   FT_PCT_away  FG3_PCT_away  AST_away  REB_away  HOME_TEAM_WINS   TEAM_ID_x  \\\n",
       "0        0.643         0.314      23.0      46.0               0  1610612748   \n",
       "1        0.955         0.424      26.0      35.0               0  1610612747   \n",
       "2        0.857         0.359      25.0      42.0               0  1610612748   \n",
       "3        0.759         0.333      23.0      43.0               1  1610612748   \n",
       "4        0.912         0.407      29.0      37.0               1  1610612747   \n",
       "\n",
       "   HOME_TEAM_NAME   TEAM_ID_y  NICKNAME  \n",
       "0            Heat  1610612747    Lakers  \n",
       "1          Lakers  1610612748      Heat  \n",
       "2            Heat  1610612747    Lakers  \n",
       "3            Heat  1610612747    Lakers  \n",
       "4          Lakers  1610612748      Heat  \n",
       "\n",
       "[5 rows x 25 columns]"
      ]
     },
     "execution_count": 155,
     "metadata": {},
     "output_type": "execute_result"
    }
   ],
   "source": [
    "# do the same thing to the visitor team name: \n",
    "df_games = df_games.merge(df_team[[\"TEAM_ID\",\"NICKNAME\"]], how='left', left_on='VISITOR_TEAM_ID', right_on='TEAM_ID')\n",
    "df_games.head()"
   ]
  },
  {
   "cell_type": "code",
   "execution_count": 156,
   "id": "viral-rhythm",
   "metadata": {},
   "outputs": [
    {
     "data": {
      "text/html": [
       "<div>\n",
       "<style scoped>\n",
       "    .dataframe tbody tr th:only-of-type {\n",
       "        vertical-align: middle;\n",
       "    }\n",
       "\n",
       "    .dataframe tbody tr th {\n",
       "        vertical-align: top;\n",
       "    }\n",
       "\n",
       "    .dataframe thead th {\n",
       "        text-align: right;\n",
       "    }\n",
       "</style>\n",
       "<table border=\"1\" class=\"dataframe\">\n",
       "  <thead>\n",
       "    <tr style=\"text-align: right;\">\n",
       "      <th></th>\n",
       "      <th>GAME_DATE_EST</th>\n",
       "      <th>GAME_ID</th>\n",
       "      <th>GAME_STATUS_TEXT</th>\n",
       "      <th>HOME_TEAM_ID</th>\n",
       "      <th>VISITOR_TEAM_ID</th>\n",
       "      <th>SEASON</th>\n",
       "      <th>TEAM_ID_home</th>\n",
       "      <th>PTS_home</th>\n",
       "      <th>FG_PCT_home</th>\n",
       "      <th>FT_PCT_home</th>\n",
       "      <th>...</th>\n",
       "      <th>FG_PCT_away</th>\n",
       "      <th>FT_PCT_away</th>\n",
       "      <th>FG3_PCT_away</th>\n",
       "      <th>AST_away</th>\n",
       "      <th>REB_away</th>\n",
       "      <th>HOME_TEAM_WINS</th>\n",
       "      <th>TEAM_ID_x</th>\n",
       "      <th>HOME_TEAM_NAME</th>\n",
       "      <th>TEAM_ID_y</th>\n",
       "      <th>VISITOR_TEAM_NAME</th>\n",
       "    </tr>\n",
       "  </thead>\n",
       "  <tbody>\n",
       "    <tr>\n",
       "      <th>0</th>\n",
       "      <td>2020-10-11</td>\n",
       "      <td>41900406</td>\n",
       "      <td>Final</td>\n",
       "      <td>1610612748</td>\n",
       "      <td>1610612747</td>\n",
       "      <td>2019</td>\n",
       "      <td>1610612748</td>\n",
       "      <td>93.0</td>\n",
       "      <td>0.443</td>\n",
       "      <td>0.591</td>\n",
       "      <td>...</td>\n",
       "      <td>0.483</td>\n",
       "      <td>0.643</td>\n",
       "      <td>0.314</td>\n",
       "      <td>23.0</td>\n",
       "      <td>46.0</td>\n",
       "      <td>0</td>\n",
       "      <td>1610612748</td>\n",
       "      <td>Heat</td>\n",
       "      <td>1610612747</td>\n",
       "      <td>Lakers</td>\n",
       "    </tr>\n",
       "    <tr>\n",
       "      <th>1</th>\n",
       "      <td>2020-10-09</td>\n",
       "      <td>41900405</td>\n",
       "      <td>Final</td>\n",
       "      <td>1610612747</td>\n",
       "      <td>1610612748</td>\n",
       "      <td>2019</td>\n",
       "      <td>1610612747</td>\n",
       "      <td>108.0</td>\n",
       "      <td>0.463</td>\n",
       "      <td>0.857</td>\n",
       "      <td>...</td>\n",
       "      <td>0.458</td>\n",
       "      <td>0.955</td>\n",
       "      <td>0.424</td>\n",
       "      <td>26.0</td>\n",
       "      <td>35.0</td>\n",
       "      <td>0</td>\n",
       "      <td>1610612747</td>\n",
       "      <td>Lakers</td>\n",
       "      <td>1610612748</td>\n",
       "      <td>Heat</td>\n",
       "    </tr>\n",
       "    <tr>\n",
       "      <th>2</th>\n",
       "      <td>2020-10-06</td>\n",
       "      <td>41900404</td>\n",
       "      <td>Final</td>\n",
       "      <td>1610612748</td>\n",
       "      <td>1610612747</td>\n",
       "      <td>2019</td>\n",
       "      <td>1610612748</td>\n",
       "      <td>96.0</td>\n",
       "      <td>0.427</td>\n",
       "      <td>0.808</td>\n",
       "      <td>...</td>\n",
       "      <td>0.443</td>\n",
       "      <td>0.857</td>\n",
       "      <td>0.359</td>\n",
       "      <td>25.0</td>\n",
       "      <td>42.0</td>\n",
       "      <td>0</td>\n",
       "      <td>1610612748</td>\n",
       "      <td>Heat</td>\n",
       "      <td>1610612747</td>\n",
       "      <td>Lakers</td>\n",
       "    </tr>\n",
       "    <tr>\n",
       "      <th>3</th>\n",
       "      <td>2020-10-04</td>\n",
       "      <td>41900403</td>\n",
       "      <td>Final</td>\n",
       "      <td>1610612748</td>\n",
       "      <td>1610612747</td>\n",
       "      <td>2019</td>\n",
       "      <td>1610612748</td>\n",
       "      <td>115.0</td>\n",
       "      <td>0.513</td>\n",
       "      <td>0.913</td>\n",
       "      <td>...</td>\n",
       "      <td>0.430</td>\n",
       "      <td>0.759</td>\n",
       "      <td>0.333</td>\n",
       "      <td>23.0</td>\n",
       "      <td>43.0</td>\n",
       "      <td>1</td>\n",
       "      <td>1610612748</td>\n",
       "      <td>Heat</td>\n",
       "      <td>1610612747</td>\n",
       "      <td>Lakers</td>\n",
       "    </tr>\n",
       "    <tr>\n",
       "      <th>4</th>\n",
       "      <td>2020-10-02</td>\n",
       "      <td>41900402</td>\n",
       "      <td>Final</td>\n",
       "      <td>1610612747</td>\n",
       "      <td>1610612748</td>\n",
       "      <td>2019</td>\n",
       "      <td>1610612747</td>\n",
       "      <td>124.0</td>\n",
       "      <td>0.505</td>\n",
       "      <td>0.588</td>\n",
       "      <td>...</td>\n",
       "      <td>0.507</td>\n",
       "      <td>0.912</td>\n",
       "      <td>0.407</td>\n",
       "      <td>29.0</td>\n",
       "      <td>37.0</td>\n",
       "      <td>1</td>\n",
       "      <td>1610612747</td>\n",
       "      <td>Lakers</td>\n",
       "      <td>1610612748</td>\n",
       "      <td>Heat</td>\n",
       "    </tr>\n",
       "  </tbody>\n",
       "</table>\n",
       "<p>5 rows × 25 columns</p>\n",
       "</div>"
      ],
      "text/plain": [
       "  GAME_DATE_EST   GAME_ID GAME_STATUS_TEXT  HOME_TEAM_ID  VISITOR_TEAM_ID  \\\n",
       "0    2020-10-11  41900406            Final    1610612748       1610612747   \n",
       "1    2020-10-09  41900405            Final    1610612747       1610612748   \n",
       "2    2020-10-06  41900404            Final    1610612748       1610612747   \n",
       "3    2020-10-04  41900403            Final    1610612748       1610612747   \n",
       "4    2020-10-02  41900402            Final    1610612747       1610612748   \n",
       "\n",
       "   SEASON  TEAM_ID_home  PTS_home  FG_PCT_home  FT_PCT_home  ...  FG_PCT_away  \\\n",
       "0    2019    1610612748      93.0        0.443        0.591  ...        0.483   \n",
       "1    2019    1610612747     108.0        0.463        0.857  ...        0.458   \n",
       "2    2019    1610612748      96.0        0.427        0.808  ...        0.443   \n",
       "3    2019    1610612748     115.0        0.513        0.913  ...        0.430   \n",
       "4    2019    1610612747     124.0        0.505        0.588  ...        0.507   \n",
       "\n",
       "   FT_PCT_away  FG3_PCT_away  AST_away  REB_away  HOME_TEAM_WINS   TEAM_ID_x  \\\n",
       "0        0.643         0.314      23.0      46.0               0  1610612748   \n",
       "1        0.955         0.424      26.0      35.0               0  1610612747   \n",
       "2        0.857         0.359      25.0      42.0               0  1610612748   \n",
       "3        0.759         0.333      23.0      43.0               1  1610612748   \n",
       "4        0.912         0.407      29.0      37.0               1  1610612747   \n",
       "\n",
       "   HOME_TEAM_NAME   TEAM_ID_y  VISITOR_TEAM_NAME  \n",
       "0            Heat  1610612747             Lakers  \n",
       "1          Lakers  1610612748               Heat  \n",
       "2            Heat  1610612747             Lakers  \n",
       "3            Heat  1610612747             Lakers  \n",
       "4          Lakers  1610612748               Heat  \n",
       "\n",
       "[5 rows x 25 columns]"
      ]
     },
     "execution_count": 156,
     "metadata": {},
     "output_type": "execute_result"
    }
   ],
   "source": [
    "df_games = df_games.rename(columns={\"NICKNAME\": \"VISITOR_TEAM_NAME\"})\n",
    "df_games.head()"
   ]
  },
  {
   "cell_type": "code",
   "execution_count": null,
   "id": "excellent-nicholas",
   "metadata": {},
   "outputs": [],
   "source": [
    "# As of now we have a game data that conatins each game general info and team name of from 2018 to 2020\n",
    "# df_games            ## checked how many rows in total --> 4001\n",
    "# df_games.dropna()   ## checked if there is any NA --> NO"
   ]
  },
  {
   "cell_type": "code",
   "execution_count": null,
   "id": "second-premises",
   "metadata": {},
   "outputs": [],
   "source": [
    "import plotly\n",
    "import plotly.express as px\n",
    "import plotly.io as pio"
   ]
  },
  {
   "cell_type": "code",
   "execution_count": 157,
   "id": "naughty-fantasy",
   "metadata": {},
   "outputs": [
    {
     "name": "stdout",
     "output_type": "stream",
     "text": [
      "  HOME_TEAM_NAME  SEASON  PTS_home\n",
      "0          76ers    2017    3902.0\n",
      "1          76ers    2018    4320.0\n",
      "2          76ers    2019    3734.0\n",
      "3          Bucks    2017    3143.0\n",
      "4          Bucks    2018    4996.0\n"
     ]
    }
   ],
   "source": [
    "# Let's foucs on the data when home team wins (home team win = 1) and guest team wins (home team win = 0)\n",
    "home_game_win = df_games[df_games.HOME_TEAM_WINS == 1]\n",
    "home_game_win = home_game_win.groupby(['HOME_TEAM_NAME','SEASON'],as_index=False)[['PTS_home']].sum()\n",
    "print(home_game_win.head())"
   ]
  },
  {
   "cell_type": "code",
   "execution_count": 92,
   "id": "certain-threshold",
   "metadata": {},
   "outputs": [
    {
     "data": {
      "application/vnd.plotly.v1+json": {
       "config": {
        "plotlyServerURL": "https://plot.ly"
       },
       "data": [
        {
         "alignmentgroup": "True",
         "hovertemplate": "Number of points scored=%{x}<br>Teams=%{y}<br>Season=%{marker.color}<extra></extra>",
         "legendgroup": "",
         "marker": {
          "color": [
           2017,
           2018,
           2019,
           2017,
           2018,
           2019,
           2017,
           2018,
           2019,
           2017,
           2018,
           2019,
           2017,
           2018,
           2019,
           2017,
           2018,
           2019,
           2017,
           2018,
           2019,
           2017,
           2018,
           2019,
           2017,
           2018,
           2019,
           2017,
           2018,
           2019,
           2017,
           2018,
           2019,
           2017,
           2018,
           2019,
           2017,
           2018,
           2019,
           2017,
           2018,
           2019,
           2017,
           2018,
           2019,
           2017,
           2018,
           2019,
           2017,
           2018,
           2019,
           2017,
           2018,
           2019,
           2017,
           2018,
           2019,
           2017,
           2018,
           2019,
           2017,
           2018,
           2019,
           2017,
           2018,
           2019,
           2017,
           2018,
           2019,
           2017,
           2018,
           2019,
           2017,
           2018,
           2019,
           2017,
           2018,
           2019,
           2017,
           2018,
           2019,
           2017,
           2018,
           2019,
           2017,
           2018,
           2019,
           2017,
           2018,
           2019
          ],
          "coloraxis": "coloraxis",
          "opacity": 0.9
         },
         "name": "",
         "offsetgroup": "",
         "orientation": "h",
         "showlegend": false,
         "textposition": "auto",
         "type": "bar",
         "x": [
          3902,
          4320,
          3734,
          3143,
          4996,
          4259,
          1988,
          1253,
          1722,
          4203,
          1620,
          1268,
          4193,
          3625,
          3827,
          2702,
          3439,
          3716,
          1956,
          2509,
          2357,
          1843,
          2327,
          1728,
          3128,
          2448,
          4421,
          2589,
          3236,
          1101,
          3499,
          3608,
          3014,
          1562,
          2775,
          1927,
          2126,
          1185,
          1279,
          2323,
          2772,
          4331,
          2115,
          2953,
          2065,
          1965,
          2711,
          2681,
          1881,
          2705,
          2445,
          3509,
          4496,
          3714,
          3224,
          3270,
          3178,
          3215,
          2370,
          2085,
          2971,
          2948,
          1538,
          4435,
          5044,
          3711,
          4705,
          4407,
          3637,
          3890,
          4178,
          2378,
          1058,
          1356,
          2298,
          3306,
          3541,
          3264,
          3555,
          2945,
          964,
          3204,
          4696,
          2687,
          4709,
          4484,
          1165,
          3046,
          2759,
          1893
         ],
         "xaxis": "x",
         "y": [
          "76ers",
          "76ers",
          "76ers",
          "Bucks",
          "Bucks",
          "Bucks",
          "Bulls",
          "Bulls",
          "Bulls",
          "Cavaliers",
          "Cavaliers",
          "Cavaliers",
          "Celtics",
          "Celtics",
          "Celtics",
          "Clippers",
          "Clippers",
          "Clippers",
          "Grizzlies",
          "Grizzlies",
          "Grizzlies",
          "Hawks",
          "Hawks",
          "Hawks",
          "Heat",
          "Heat",
          "Heat",
          "Hornets",
          "Hornets",
          "Hornets",
          "Jazz",
          "Jazz",
          "Jazz",
          "Kings",
          "Kings",
          "Kings",
          "Knicks",
          "Knicks",
          "Knicks",
          "Lakers",
          "Lakers",
          "Lakers",
          "Magic",
          "Magic",
          "Magic",
          "Mavericks",
          "Mavericks",
          "Mavericks",
          "Nets",
          "Nets",
          "Nets",
          "Nuggets",
          "Nuggets",
          "Nuggets",
          "Pacers",
          "Pacers",
          "Pacers",
          "Pelicans",
          "Pelicans",
          "Pelicans",
          "Pistons",
          "Pistons",
          "Pistons",
          "Raptors",
          "Raptors",
          "Raptors",
          "Rockets",
          "Rockets",
          "Rockets",
          "Spurs",
          "Spurs",
          "Spurs",
          "Suns",
          "Suns",
          "Suns",
          "Thunder",
          "Thunder",
          "Thunder",
          "Timberwolves",
          "Timberwolves",
          "Timberwolves",
          "Trail Blazers",
          "Trail Blazers",
          "Trail Blazers",
          "Warriors",
          "Warriors",
          "Warriors",
          "Wizards",
          "Wizards",
          "Wizards"
         ],
         "yaxis": "y"
        }
       ],
       "layout": {
        "barmode": "group",
        "coloraxis": {
         "colorbar": {
          "title": {
           "text": "Season"
          }
         },
         "colorscale": [
          [
           0,
           "#0d0887"
          ],
          [
           0.1111111111111111,
           "#46039f"
          ],
          [
           0.2222222222222222,
           "#7201a8"
          ],
          [
           0.3333333333333333,
           "#9c179e"
          ],
          [
           0.4444444444444444,
           "#bd3786"
          ],
          [
           0.5555555555555556,
           "#d8576b"
          ],
          [
           0.6666666666666666,
           "#ed7953"
          ],
          [
           0.7777777777777778,
           "#fb9f3a"
          ],
          [
           0.8888888888888888,
           "#fdca26"
          ],
          [
           1,
           "#f0f921"
          ]
         ]
        },
        "legend": {
         "tracegroupgap": 0
        },
        "template": {
         "data": {
          "bar": [
           {
            "error_x": {
             "color": "#2a3f5f"
            },
            "error_y": {
             "color": "#2a3f5f"
            },
            "marker": {
             "line": {
              "color": "white",
              "width": 0.5
             }
            },
            "type": "bar"
           }
          ],
          "barpolar": [
           {
            "marker": {
             "line": {
              "color": "white",
              "width": 0.5
             }
            },
            "type": "barpolar"
           }
          ],
          "carpet": [
           {
            "aaxis": {
             "endlinecolor": "#2a3f5f",
             "gridcolor": "#C8D4E3",
             "linecolor": "#C8D4E3",
             "minorgridcolor": "#C8D4E3",
             "startlinecolor": "#2a3f5f"
            },
            "baxis": {
             "endlinecolor": "#2a3f5f",
             "gridcolor": "#C8D4E3",
             "linecolor": "#C8D4E3",
             "minorgridcolor": "#C8D4E3",
             "startlinecolor": "#2a3f5f"
            },
            "type": "carpet"
           }
          ],
          "choropleth": [
           {
            "colorbar": {
             "outlinewidth": 0,
             "ticks": ""
            },
            "type": "choropleth"
           }
          ],
          "contour": [
           {
            "colorbar": {
             "outlinewidth": 0,
             "ticks": ""
            },
            "colorscale": [
             [
              0,
              "#0d0887"
             ],
             [
              0.1111111111111111,
              "#46039f"
             ],
             [
              0.2222222222222222,
              "#7201a8"
             ],
             [
              0.3333333333333333,
              "#9c179e"
             ],
             [
              0.4444444444444444,
              "#bd3786"
             ],
             [
              0.5555555555555556,
              "#d8576b"
             ],
             [
              0.6666666666666666,
              "#ed7953"
             ],
             [
              0.7777777777777778,
              "#fb9f3a"
             ],
             [
              0.8888888888888888,
              "#fdca26"
             ],
             [
              1,
              "#f0f921"
             ]
            ],
            "type": "contour"
           }
          ],
          "contourcarpet": [
           {
            "colorbar": {
             "outlinewidth": 0,
             "ticks": ""
            },
            "type": "contourcarpet"
           }
          ],
          "heatmap": [
           {
            "colorbar": {
             "outlinewidth": 0,
             "ticks": ""
            },
            "colorscale": [
             [
              0,
              "#0d0887"
             ],
             [
              0.1111111111111111,
              "#46039f"
             ],
             [
              0.2222222222222222,
              "#7201a8"
             ],
             [
              0.3333333333333333,
              "#9c179e"
             ],
             [
              0.4444444444444444,
              "#bd3786"
             ],
             [
              0.5555555555555556,
              "#d8576b"
             ],
             [
              0.6666666666666666,
              "#ed7953"
             ],
             [
              0.7777777777777778,
              "#fb9f3a"
             ],
             [
              0.8888888888888888,
              "#fdca26"
             ],
             [
              1,
              "#f0f921"
             ]
            ],
            "type": "heatmap"
           }
          ],
          "heatmapgl": [
           {
            "colorbar": {
             "outlinewidth": 0,
             "ticks": ""
            },
            "colorscale": [
             [
              0,
              "#0d0887"
             ],
             [
              0.1111111111111111,
              "#46039f"
             ],
             [
              0.2222222222222222,
              "#7201a8"
             ],
             [
              0.3333333333333333,
              "#9c179e"
             ],
             [
              0.4444444444444444,
              "#bd3786"
             ],
             [
              0.5555555555555556,
              "#d8576b"
             ],
             [
              0.6666666666666666,
              "#ed7953"
             ],
             [
              0.7777777777777778,
              "#fb9f3a"
             ],
             [
              0.8888888888888888,
              "#fdca26"
             ],
             [
              1,
              "#f0f921"
             ]
            ],
            "type": "heatmapgl"
           }
          ],
          "histogram": [
           {
            "marker": {
             "colorbar": {
              "outlinewidth": 0,
              "ticks": ""
             }
            },
            "type": "histogram"
           }
          ],
          "histogram2d": [
           {
            "colorbar": {
             "outlinewidth": 0,
             "ticks": ""
            },
            "colorscale": [
             [
              0,
              "#0d0887"
             ],
             [
              0.1111111111111111,
              "#46039f"
             ],
             [
              0.2222222222222222,
              "#7201a8"
             ],
             [
              0.3333333333333333,
              "#9c179e"
             ],
             [
              0.4444444444444444,
              "#bd3786"
             ],
             [
              0.5555555555555556,
              "#d8576b"
             ],
             [
              0.6666666666666666,
              "#ed7953"
             ],
             [
              0.7777777777777778,
              "#fb9f3a"
             ],
             [
              0.8888888888888888,
              "#fdca26"
             ],
             [
              1,
              "#f0f921"
             ]
            ],
            "type": "histogram2d"
           }
          ],
          "histogram2dcontour": [
           {
            "colorbar": {
             "outlinewidth": 0,
             "ticks": ""
            },
            "colorscale": [
             [
              0,
              "#0d0887"
             ],
             [
              0.1111111111111111,
              "#46039f"
             ],
             [
              0.2222222222222222,
              "#7201a8"
             ],
             [
              0.3333333333333333,
              "#9c179e"
             ],
             [
              0.4444444444444444,
              "#bd3786"
             ],
             [
              0.5555555555555556,
              "#d8576b"
             ],
             [
              0.6666666666666666,
              "#ed7953"
             ],
             [
              0.7777777777777778,
              "#fb9f3a"
             ],
             [
              0.8888888888888888,
              "#fdca26"
             ],
             [
              1,
              "#f0f921"
             ]
            ],
            "type": "histogram2dcontour"
           }
          ],
          "mesh3d": [
           {
            "colorbar": {
             "outlinewidth": 0,
             "ticks": ""
            },
            "type": "mesh3d"
           }
          ],
          "parcoords": [
           {
            "line": {
             "colorbar": {
              "outlinewidth": 0,
              "ticks": ""
             }
            },
            "type": "parcoords"
           }
          ],
          "pie": [
           {
            "automargin": true,
            "type": "pie"
           }
          ],
          "scatter": [
           {
            "marker": {
             "colorbar": {
              "outlinewidth": 0,
              "ticks": ""
             }
            },
            "type": "scatter"
           }
          ],
          "scatter3d": [
           {
            "line": {
             "colorbar": {
              "outlinewidth": 0,
              "ticks": ""
             }
            },
            "marker": {
             "colorbar": {
              "outlinewidth": 0,
              "ticks": ""
             }
            },
            "type": "scatter3d"
           }
          ],
          "scattercarpet": [
           {
            "marker": {
             "colorbar": {
              "outlinewidth": 0,
              "ticks": ""
             }
            },
            "type": "scattercarpet"
           }
          ],
          "scattergeo": [
           {
            "marker": {
             "colorbar": {
              "outlinewidth": 0,
              "ticks": ""
             }
            },
            "type": "scattergeo"
           }
          ],
          "scattergl": [
           {
            "marker": {
             "colorbar": {
              "outlinewidth": 0,
              "ticks": ""
             }
            },
            "type": "scattergl"
           }
          ],
          "scattermapbox": [
           {
            "marker": {
             "colorbar": {
              "outlinewidth": 0,
              "ticks": ""
             }
            },
            "type": "scattermapbox"
           }
          ],
          "scatterpolar": [
           {
            "marker": {
             "colorbar": {
              "outlinewidth": 0,
              "ticks": ""
             }
            },
            "type": "scatterpolar"
           }
          ],
          "scatterpolargl": [
           {
            "marker": {
             "colorbar": {
              "outlinewidth": 0,
              "ticks": ""
             }
            },
            "type": "scatterpolargl"
           }
          ],
          "scatterternary": [
           {
            "marker": {
             "colorbar": {
              "outlinewidth": 0,
              "ticks": ""
             }
            },
            "type": "scatterternary"
           }
          ],
          "surface": [
           {
            "colorbar": {
             "outlinewidth": 0,
             "ticks": ""
            },
            "colorscale": [
             [
              0,
              "#0d0887"
             ],
             [
              0.1111111111111111,
              "#46039f"
             ],
             [
              0.2222222222222222,
              "#7201a8"
             ],
             [
              0.3333333333333333,
              "#9c179e"
             ],
             [
              0.4444444444444444,
              "#bd3786"
             ],
             [
              0.5555555555555556,
              "#d8576b"
             ],
             [
              0.6666666666666666,
              "#ed7953"
             ],
             [
              0.7777777777777778,
              "#fb9f3a"
             ],
             [
              0.8888888888888888,
              "#fdca26"
             ],
             [
              1,
              "#f0f921"
             ]
            ],
            "type": "surface"
           }
          ],
          "table": [
           {
            "cells": {
             "fill": {
              "color": "#EBF0F8"
             },
             "line": {
              "color": "white"
             }
            },
            "header": {
             "fill": {
              "color": "#C8D4E3"
             },
             "line": {
              "color": "white"
             }
            },
            "type": "table"
           }
          ]
         },
         "layout": {
          "annotationdefaults": {
           "arrowcolor": "#2a3f5f",
           "arrowhead": 0,
           "arrowwidth": 1
          },
          "autotypenumbers": "strict",
          "coloraxis": {
           "colorbar": {
            "outlinewidth": 0,
            "ticks": ""
           }
          },
          "colorscale": {
           "diverging": [
            [
             0,
             "#8e0152"
            ],
            [
             0.1,
             "#c51b7d"
            ],
            [
             0.2,
             "#de77ae"
            ],
            [
             0.3,
             "#f1b6da"
            ],
            [
             0.4,
             "#fde0ef"
            ],
            [
             0.5,
             "#f7f7f7"
            ],
            [
             0.6,
             "#e6f5d0"
            ],
            [
             0.7,
             "#b8e186"
            ],
            [
             0.8,
             "#7fbc41"
            ],
            [
             0.9,
             "#4d9221"
            ],
            [
             1,
             "#276419"
            ]
           ],
           "sequential": [
            [
             0,
             "#0d0887"
            ],
            [
             0.1111111111111111,
             "#46039f"
            ],
            [
             0.2222222222222222,
             "#7201a8"
            ],
            [
             0.3333333333333333,
             "#9c179e"
            ],
            [
             0.4444444444444444,
             "#bd3786"
            ],
            [
             0.5555555555555556,
             "#d8576b"
            ],
            [
             0.6666666666666666,
             "#ed7953"
            ],
            [
             0.7777777777777778,
             "#fb9f3a"
            ],
            [
             0.8888888888888888,
             "#fdca26"
            ],
            [
             1,
             "#f0f921"
            ]
           ],
           "sequentialminus": [
            [
             0,
             "#0d0887"
            ],
            [
             0.1111111111111111,
             "#46039f"
            ],
            [
             0.2222222222222222,
             "#7201a8"
            ],
            [
             0.3333333333333333,
             "#9c179e"
            ],
            [
             0.4444444444444444,
             "#bd3786"
            ],
            [
             0.5555555555555556,
             "#d8576b"
            ],
            [
             0.6666666666666666,
             "#ed7953"
            ],
            [
             0.7777777777777778,
             "#fb9f3a"
            ],
            [
             0.8888888888888888,
             "#fdca26"
            ],
            [
             1,
             "#f0f921"
            ]
           ]
          },
          "colorway": [
           "#636efa",
           "#EF553B",
           "#00cc96",
           "#ab63fa",
           "#FFA15A",
           "#19d3f3",
           "#FF6692",
           "#B6E880",
           "#FF97FF",
           "#FECB52"
          ],
          "font": {
           "color": "#2a3f5f"
          },
          "geo": {
           "bgcolor": "white",
           "lakecolor": "white",
           "landcolor": "white",
           "showlakes": true,
           "showland": true,
           "subunitcolor": "#C8D4E3"
          },
          "hoverlabel": {
           "align": "left"
          },
          "hovermode": "closest",
          "mapbox": {
           "style": "light"
          },
          "paper_bgcolor": "white",
          "plot_bgcolor": "white",
          "polar": {
           "angularaxis": {
            "gridcolor": "#EBF0F8",
            "linecolor": "#EBF0F8",
            "ticks": ""
           },
           "bgcolor": "white",
           "radialaxis": {
            "gridcolor": "#EBF0F8",
            "linecolor": "#EBF0F8",
            "ticks": ""
           }
          },
          "scene": {
           "xaxis": {
            "backgroundcolor": "white",
            "gridcolor": "#DFE8F3",
            "gridwidth": 2,
            "linecolor": "#EBF0F8",
            "showbackground": true,
            "ticks": "",
            "zerolinecolor": "#EBF0F8"
           },
           "yaxis": {
            "backgroundcolor": "white",
            "gridcolor": "#DFE8F3",
            "gridwidth": 2,
            "linecolor": "#EBF0F8",
            "showbackground": true,
            "ticks": "",
            "zerolinecolor": "#EBF0F8"
           },
           "zaxis": {
            "backgroundcolor": "white",
            "gridcolor": "#DFE8F3",
            "gridwidth": 2,
            "linecolor": "#EBF0F8",
            "showbackground": true,
            "ticks": "",
            "zerolinecolor": "#EBF0F8"
           }
          },
          "shapedefaults": {
           "line": {
            "color": "#2a3f5f"
           }
          },
          "ternary": {
           "aaxis": {
            "gridcolor": "#DFE8F3",
            "linecolor": "#A2B1C6",
            "ticks": ""
           },
           "baxis": {
            "gridcolor": "#DFE8F3",
            "linecolor": "#A2B1C6",
            "ticks": ""
           },
           "bgcolor": "white",
           "caxis": {
            "gridcolor": "#DFE8F3",
            "linecolor": "#A2B1C6",
            "ticks": ""
           }
          },
          "title": {
           "x": 0.05
          },
          "xaxis": {
           "automargin": true,
           "gridcolor": "#EBF0F8",
           "linecolor": "#EBF0F8",
           "ticks": "",
           "title": {
            "standoff": 15
           },
           "zerolinecolor": "#EBF0F8",
           "zerolinewidth": 2
          },
          "yaxis": {
           "automargin": true,
           "gridcolor": "#EBF0F8",
           "linecolor": "#EBF0F8",
           "ticks": "",
           "title": {
            "standoff": 15
           },
           "zerolinecolor": "#EBF0F8",
           "zerolinewidth": 2
          }
         }
        },
        "title": {
         "text": "NBA Season 2017-2019 Home Teams Total Scores"
        },
        "xaxis": {
         "anchor": "y",
         "domain": [
          0,
          1
         ],
         "title": {
          "text": "Number of points scored"
         }
        },
        "yaxis": {
         "anchor": "x",
         "domain": [
          0,
          1
         ],
         "tickmode": "linear",
         "title": {
          "text": "Teams"
         }
        }
       }
      },
      "text/html": [
       "<div>                            <div id=\"6ea17418-fec7-4ba6-88bf-40ebd1bf2aa6\" class=\"plotly-graph-div\" style=\"height:525px; width:100%;\"></div>            <script type=\"text/javascript\">                require([\"plotly\"], function(Plotly) {                    window.PLOTLYENV=window.PLOTLYENV || {};                                    if (document.getElementById(\"6ea17418-fec7-4ba6-88bf-40ebd1bf2aa6\")) {                    Plotly.newPlot(                        \"6ea17418-fec7-4ba6-88bf-40ebd1bf2aa6\",                        [{\"alignmentgroup\": \"True\", \"hovertemplate\": \"Number of points scored=%{x}<br>Teams=%{y}<br>Season=%{marker.color}<extra></extra>\", \"legendgroup\": \"\", \"marker\": {\"color\": [2017, 2018, 2019, 2017, 2018, 2019, 2017, 2018, 2019, 2017, 2018, 2019, 2017, 2018, 2019, 2017, 2018, 2019, 2017, 2018, 2019, 2017, 2018, 2019, 2017, 2018, 2019, 2017, 2018, 2019, 2017, 2018, 2019, 2017, 2018, 2019, 2017, 2018, 2019, 2017, 2018, 2019, 2017, 2018, 2019, 2017, 2018, 2019, 2017, 2018, 2019, 2017, 2018, 2019, 2017, 2018, 2019, 2017, 2018, 2019, 2017, 2018, 2019, 2017, 2018, 2019, 2017, 2018, 2019, 2017, 2018, 2019, 2017, 2018, 2019, 2017, 2018, 2019, 2017, 2018, 2019, 2017, 2018, 2019, 2017, 2018, 2019, 2017, 2018, 2019], \"coloraxis\": \"coloraxis\", \"opacity\": 0.9}, \"name\": \"\", \"offsetgroup\": \"\", \"orientation\": \"h\", \"showlegend\": false, \"textposition\": \"auto\", \"type\": \"bar\", \"x\": [3902.0, 4320.0, 3734.0, 3143.0, 4996.0, 4259.0, 1988.0, 1253.0, 1722.0, 4203.0, 1620.0, 1268.0, 4193.0, 3625.0, 3827.0, 2702.0, 3439.0, 3716.0, 1956.0, 2509.0, 2357.0, 1843.0, 2327.0, 1728.0, 3128.0, 2448.0, 4421.0, 2589.0, 3236.0, 1101.0, 3499.0, 3608.0, 3014.0, 1562.0, 2775.0, 1927.0, 2126.0, 1185.0, 1279.0, 2323.0, 2772.0, 4331.0, 2115.0, 2953.0, 2065.0, 1965.0, 2711.0, 2681.0, 1881.0, 2705.0, 2445.0, 3509.0, 4496.0, 3714.0, 3224.0, 3270.0, 3178.0, 3215.0, 2370.0, 2085.0, 2971.0, 2948.0, 1538.0, 4435.0, 5044.0, 3711.0, 4705.0, 4407.0, 3637.0, 3890.0, 4178.0, 2378.0, 1058.0, 1356.0, 2298.0, 3306.0, 3541.0, 3264.0, 3555.0, 2945.0, 964.0, 3204.0, 4696.0, 2687.0, 4709.0, 4484.0, 1165.0, 3046.0, 2759.0, 1893.0], \"xaxis\": \"x\", \"y\": [\"76ers\", \"76ers\", \"76ers\", \"Bucks\", \"Bucks\", \"Bucks\", \"Bulls\", \"Bulls\", \"Bulls\", \"Cavaliers\", \"Cavaliers\", \"Cavaliers\", \"Celtics\", \"Celtics\", \"Celtics\", \"Clippers\", \"Clippers\", \"Clippers\", \"Grizzlies\", \"Grizzlies\", \"Grizzlies\", \"Hawks\", \"Hawks\", \"Hawks\", \"Heat\", \"Heat\", \"Heat\", \"Hornets\", \"Hornets\", \"Hornets\", \"Jazz\", \"Jazz\", \"Jazz\", \"Kings\", \"Kings\", \"Kings\", \"Knicks\", \"Knicks\", \"Knicks\", \"Lakers\", \"Lakers\", \"Lakers\", \"Magic\", \"Magic\", \"Magic\", \"Mavericks\", \"Mavericks\", \"Mavericks\", \"Nets\", \"Nets\", \"Nets\", \"Nuggets\", \"Nuggets\", \"Nuggets\", \"Pacers\", \"Pacers\", \"Pacers\", \"Pelicans\", \"Pelicans\", \"Pelicans\", \"Pistons\", \"Pistons\", \"Pistons\", \"Raptors\", \"Raptors\", \"Raptors\", \"Rockets\", \"Rockets\", \"Rockets\", \"Spurs\", \"Spurs\", \"Spurs\", \"Suns\", \"Suns\", \"Suns\", \"Thunder\", \"Thunder\", \"Thunder\", \"Timberwolves\", \"Timberwolves\", \"Timberwolves\", \"Trail Blazers\", \"Trail Blazers\", \"Trail Blazers\", \"Warriors\", \"Warriors\", \"Warriors\", \"Wizards\", \"Wizards\", \"Wizards\"], \"yaxis\": \"y\"}],                        {\"barmode\": \"group\", \"coloraxis\": {\"colorbar\": {\"title\": {\"text\": \"Season\"}}, \"colorscale\": [[0.0, \"#0d0887\"], [0.1111111111111111, \"#46039f\"], [0.2222222222222222, \"#7201a8\"], [0.3333333333333333, \"#9c179e\"], [0.4444444444444444, \"#bd3786\"], [0.5555555555555556, \"#d8576b\"], [0.6666666666666666, \"#ed7953\"], [0.7777777777777778, \"#fb9f3a\"], [0.8888888888888888, \"#fdca26\"], [1.0, \"#f0f921\"]]}, \"legend\": {\"tracegroupgap\": 0}, \"template\": {\"data\": {\"bar\": [{\"error_x\": {\"color\": \"#2a3f5f\"}, \"error_y\": {\"color\": \"#2a3f5f\"}, \"marker\": {\"line\": {\"color\": \"white\", \"width\": 0.5}}, \"type\": \"bar\"}], \"barpolar\": [{\"marker\": {\"line\": {\"color\": \"white\", \"width\": 0.5}}, \"type\": \"barpolar\"}], \"carpet\": [{\"aaxis\": {\"endlinecolor\": \"#2a3f5f\", \"gridcolor\": \"#C8D4E3\", \"linecolor\": \"#C8D4E3\", \"minorgridcolor\": \"#C8D4E3\", \"startlinecolor\": \"#2a3f5f\"}, \"baxis\": {\"endlinecolor\": \"#2a3f5f\", \"gridcolor\": \"#C8D4E3\", \"linecolor\": \"#C8D4E3\", \"minorgridcolor\": \"#C8D4E3\", \"startlinecolor\": \"#2a3f5f\"}, \"type\": \"carpet\"}], \"choropleth\": [{\"colorbar\": {\"outlinewidth\": 0, \"ticks\": \"\"}, \"type\": \"choropleth\"}], \"contour\": [{\"colorbar\": {\"outlinewidth\": 0, \"ticks\": \"\"}, \"colorscale\": [[0.0, \"#0d0887\"], [0.1111111111111111, \"#46039f\"], [0.2222222222222222, \"#7201a8\"], [0.3333333333333333, \"#9c179e\"], [0.4444444444444444, \"#bd3786\"], [0.5555555555555556, \"#d8576b\"], [0.6666666666666666, \"#ed7953\"], [0.7777777777777778, \"#fb9f3a\"], [0.8888888888888888, \"#fdca26\"], [1.0, \"#f0f921\"]], \"type\": \"contour\"}], \"contourcarpet\": [{\"colorbar\": {\"outlinewidth\": 0, \"ticks\": \"\"}, \"type\": \"contourcarpet\"}], \"heatmap\": [{\"colorbar\": {\"outlinewidth\": 0, \"ticks\": \"\"}, \"colorscale\": [[0.0, \"#0d0887\"], [0.1111111111111111, \"#46039f\"], [0.2222222222222222, \"#7201a8\"], [0.3333333333333333, \"#9c179e\"], [0.4444444444444444, \"#bd3786\"], [0.5555555555555556, \"#d8576b\"], [0.6666666666666666, \"#ed7953\"], [0.7777777777777778, \"#fb9f3a\"], [0.8888888888888888, \"#fdca26\"], [1.0, \"#f0f921\"]], \"type\": \"heatmap\"}], \"heatmapgl\": [{\"colorbar\": {\"outlinewidth\": 0, \"ticks\": \"\"}, \"colorscale\": [[0.0, \"#0d0887\"], [0.1111111111111111, \"#46039f\"], [0.2222222222222222, \"#7201a8\"], [0.3333333333333333, \"#9c179e\"], [0.4444444444444444, \"#bd3786\"], [0.5555555555555556, \"#d8576b\"], [0.6666666666666666, \"#ed7953\"], [0.7777777777777778, \"#fb9f3a\"], [0.8888888888888888, \"#fdca26\"], [1.0, \"#f0f921\"]], \"type\": \"heatmapgl\"}], \"histogram\": [{\"marker\": {\"colorbar\": {\"outlinewidth\": 0, \"ticks\": \"\"}}, \"type\": \"histogram\"}], \"histogram2d\": [{\"colorbar\": {\"outlinewidth\": 0, \"ticks\": \"\"}, \"colorscale\": [[0.0, \"#0d0887\"], [0.1111111111111111, \"#46039f\"], [0.2222222222222222, \"#7201a8\"], [0.3333333333333333, \"#9c179e\"], [0.4444444444444444, \"#bd3786\"], [0.5555555555555556, \"#d8576b\"], [0.6666666666666666, \"#ed7953\"], [0.7777777777777778, \"#fb9f3a\"], [0.8888888888888888, \"#fdca26\"], [1.0, \"#f0f921\"]], \"type\": \"histogram2d\"}], \"histogram2dcontour\": [{\"colorbar\": {\"outlinewidth\": 0, \"ticks\": \"\"}, \"colorscale\": [[0.0, \"#0d0887\"], [0.1111111111111111, \"#46039f\"], [0.2222222222222222, \"#7201a8\"], [0.3333333333333333, \"#9c179e\"], [0.4444444444444444, \"#bd3786\"], [0.5555555555555556, \"#d8576b\"], [0.6666666666666666, \"#ed7953\"], [0.7777777777777778, \"#fb9f3a\"], [0.8888888888888888, \"#fdca26\"], [1.0, \"#f0f921\"]], \"type\": \"histogram2dcontour\"}], \"mesh3d\": [{\"colorbar\": {\"outlinewidth\": 0, \"ticks\": \"\"}, \"type\": \"mesh3d\"}], \"parcoords\": [{\"line\": {\"colorbar\": {\"outlinewidth\": 0, \"ticks\": \"\"}}, \"type\": \"parcoords\"}], \"pie\": [{\"automargin\": true, \"type\": \"pie\"}], \"scatter\": [{\"marker\": {\"colorbar\": {\"outlinewidth\": 0, \"ticks\": \"\"}}, \"type\": \"scatter\"}], \"scatter3d\": [{\"line\": {\"colorbar\": {\"outlinewidth\": 0, \"ticks\": \"\"}}, \"marker\": {\"colorbar\": {\"outlinewidth\": 0, \"ticks\": \"\"}}, \"type\": \"scatter3d\"}], \"scattercarpet\": [{\"marker\": {\"colorbar\": {\"outlinewidth\": 0, \"ticks\": \"\"}}, \"type\": \"scattercarpet\"}], \"scattergeo\": [{\"marker\": {\"colorbar\": {\"outlinewidth\": 0, \"ticks\": \"\"}}, \"type\": \"scattergeo\"}], \"scattergl\": [{\"marker\": {\"colorbar\": {\"outlinewidth\": 0, \"ticks\": \"\"}}, \"type\": \"scattergl\"}], \"scattermapbox\": [{\"marker\": {\"colorbar\": {\"outlinewidth\": 0, \"ticks\": \"\"}}, \"type\": \"scattermapbox\"}], \"scatterpolar\": [{\"marker\": {\"colorbar\": {\"outlinewidth\": 0, \"ticks\": \"\"}}, \"type\": \"scatterpolar\"}], \"scatterpolargl\": [{\"marker\": {\"colorbar\": {\"outlinewidth\": 0, \"ticks\": \"\"}}, \"type\": \"scatterpolargl\"}], \"scatterternary\": [{\"marker\": {\"colorbar\": {\"outlinewidth\": 0, \"ticks\": \"\"}}, \"type\": \"scatterternary\"}], \"surface\": [{\"colorbar\": {\"outlinewidth\": 0, \"ticks\": \"\"}, \"colorscale\": [[0.0, \"#0d0887\"], [0.1111111111111111, \"#46039f\"], [0.2222222222222222, \"#7201a8\"], [0.3333333333333333, \"#9c179e\"], [0.4444444444444444, \"#bd3786\"], [0.5555555555555556, \"#d8576b\"], [0.6666666666666666, \"#ed7953\"], [0.7777777777777778, \"#fb9f3a\"], [0.8888888888888888, \"#fdca26\"], [1.0, \"#f0f921\"]], \"type\": \"surface\"}], \"table\": [{\"cells\": {\"fill\": {\"color\": \"#EBF0F8\"}, \"line\": {\"color\": \"white\"}}, \"header\": {\"fill\": {\"color\": \"#C8D4E3\"}, \"line\": {\"color\": \"white\"}}, \"type\": \"table\"}]}, \"layout\": {\"annotationdefaults\": {\"arrowcolor\": \"#2a3f5f\", \"arrowhead\": 0, \"arrowwidth\": 1}, \"autotypenumbers\": \"strict\", \"coloraxis\": {\"colorbar\": {\"outlinewidth\": 0, \"ticks\": \"\"}}, \"colorscale\": {\"diverging\": [[0, \"#8e0152\"], [0.1, \"#c51b7d\"], [0.2, \"#de77ae\"], [0.3, \"#f1b6da\"], [0.4, \"#fde0ef\"], [0.5, \"#f7f7f7\"], [0.6, \"#e6f5d0\"], [0.7, \"#b8e186\"], [0.8, \"#7fbc41\"], [0.9, \"#4d9221\"], [1, \"#276419\"]], \"sequential\": [[0.0, \"#0d0887\"], [0.1111111111111111, \"#46039f\"], [0.2222222222222222, \"#7201a8\"], [0.3333333333333333, \"#9c179e\"], [0.4444444444444444, \"#bd3786\"], [0.5555555555555556, \"#d8576b\"], [0.6666666666666666, \"#ed7953\"], [0.7777777777777778, \"#fb9f3a\"], [0.8888888888888888, \"#fdca26\"], [1.0, \"#f0f921\"]], \"sequentialminus\": [[0.0, \"#0d0887\"], [0.1111111111111111, \"#46039f\"], [0.2222222222222222, \"#7201a8\"], [0.3333333333333333, \"#9c179e\"], [0.4444444444444444, \"#bd3786\"], [0.5555555555555556, \"#d8576b\"], [0.6666666666666666, \"#ed7953\"], [0.7777777777777778, \"#fb9f3a\"], [0.8888888888888888, \"#fdca26\"], [1.0, \"#f0f921\"]]}, \"colorway\": [\"#636efa\", \"#EF553B\", \"#00cc96\", \"#ab63fa\", \"#FFA15A\", \"#19d3f3\", \"#FF6692\", \"#B6E880\", \"#FF97FF\", \"#FECB52\"], \"font\": {\"color\": \"#2a3f5f\"}, \"geo\": {\"bgcolor\": \"white\", \"lakecolor\": \"white\", \"landcolor\": \"white\", \"showlakes\": true, \"showland\": true, \"subunitcolor\": \"#C8D4E3\"}, \"hoverlabel\": {\"align\": \"left\"}, \"hovermode\": \"closest\", \"mapbox\": {\"style\": \"light\"}, \"paper_bgcolor\": \"white\", \"plot_bgcolor\": \"white\", \"polar\": {\"angularaxis\": {\"gridcolor\": \"#EBF0F8\", \"linecolor\": \"#EBF0F8\", \"ticks\": \"\"}, \"bgcolor\": \"white\", \"radialaxis\": {\"gridcolor\": \"#EBF0F8\", \"linecolor\": \"#EBF0F8\", \"ticks\": \"\"}}, \"scene\": {\"xaxis\": {\"backgroundcolor\": \"white\", \"gridcolor\": \"#DFE8F3\", \"gridwidth\": 2, \"linecolor\": \"#EBF0F8\", \"showbackground\": true, \"ticks\": \"\", \"zerolinecolor\": \"#EBF0F8\"}, \"yaxis\": {\"backgroundcolor\": \"white\", \"gridcolor\": \"#DFE8F3\", \"gridwidth\": 2, \"linecolor\": \"#EBF0F8\", \"showbackground\": true, \"ticks\": \"\", \"zerolinecolor\": \"#EBF0F8\"}, \"zaxis\": {\"backgroundcolor\": \"white\", \"gridcolor\": \"#DFE8F3\", \"gridwidth\": 2, \"linecolor\": \"#EBF0F8\", \"showbackground\": true, \"ticks\": \"\", \"zerolinecolor\": \"#EBF0F8\"}}, \"shapedefaults\": {\"line\": {\"color\": \"#2a3f5f\"}}, \"ternary\": {\"aaxis\": {\"gridcolor\": \"#DFE8F3\", \"linecolor\": \"#A2B1C6\", \"ticks\": \"\"}, \"baxis\": {\"gridcolor\": \"#DFE8F3\", \"linecolor\": \"#A2B1C6\", \"ticks\": \"\"}, \"bgcolor\": \"white\", \"caxis\": {\"gridcolor\": \"#DFE8F3\", \"linecolor\": \"#A2B1C6\", \"ticks\": \"\"}}, \"title\": {\"x\": 0.05}, \"xaxis\": {\"automargin\": true, \"gridcolor\": \"#EBF0F8\", \"linecolor\": \"#EBF0F8\", \"ticks\": \"\", \"title\": {\"standoff\": 15}, \"zerolinecolor\": \"#EBF0F8\", \"zerolinewidth\": 2}, \"yaxis\": {\"automargin\": true, \"gridcolor\": \"#EBF0F8\", \"linecolor\": \"#EBF0F8\", \"ticks\": \"\", \"title\": {\"standoff\": 15}, \"zerolinecolor\": \"#EBF0F8\", \"zerolinewidth\": 2}}}, \"title\": {\"text\": \"NBA Season 2017-2019 Home Teams Total Scores\"}, \"xaxis\": {\"anchor\": \"y\", \"domain\": [0.0, 1.0], \"title\": {\"text\": \"Number of points scored\"}}, \"yaxis\": {\"anchor\": \"x\", \"domain\": [0.0, 1.0], \"tickmode\": \"linear\", \"title\": {\"text\": \"Teams\"}}},                        {\"responsive\": true}                    ).then(function(){\n",
       "                            \n",
       "var gd = document.getElementById('6ea17418-fec7-4ba6-88bf-40ebd1bf2aa6');\n",
       "var x = new MutationObserver(function (mutations, observer) {{\n",
       "        var display = window.getComputedStyle(gd).display;\n",
       "        if (!display || display === 'none') {{\n",
       "            console.log([gd, 'removed!']);\n",
       "            Plotly.purge(gd);\n",
       "            observer.disconnect();\n",
       "        }}\n",
       "}});\n",
       "\n",
       "// Listen for the removal of the full notebook cells\n",
       "var notebookContainer = gd.closest('#notebook-container');\n",
       "if (notebookContainer) {{\n",
       "    x.observe(notebookContainer, {childList: true});\n",
       "}}\n",
       "\n",
       "// Listen for the clearing of the current output cell\n",
       "var outputEl = gd.closest('.output');\n",
       "if (outputEl) {{\n",
       "    x.observe(outputEl, {childList: true});\n",
       "}}\n",
       "\n",
       "                        })                };                });            </script>        </div>"
      ]
     },
     "metadata": {},
     "output_type": "display_data"
    }
   ],
   "source": [
    "home_game_bar = px.bar(\n",
    "    data_frame=home_game_win,\n",
    "    x=\"PTS_home\",\n",
    "    y=\"HOME_TEAM_NAME\",\n",
    "    color=\"SEASON\", \n",
    "    opacity=0.9,\n",
    "    orientation=\"h\",\n",
    "    barmode='group',\n",
    "    labels={\"HOME_TEAM_NAME\":\"Teams\",\"PTS_home\":\"Number of points scored\",\"SEASON\":\"Season\"},\n",
    "    title='NBA Season 2017-2019 Home Teams Total Scores',\n",
    "#     width=1400, \n",
    "#     height=720,\n",
    "    template='plotly_white',\n",
    ")\n",
    "home_game_bar.update_yaxes(tickmode = 'linear')\n",
    "pio.show(home_game_bar)"
   ]
  },
  {
   "cell_type": "code",
   "execution_count": 87,
   "id": "suitable-edmonton",
   "metadata": {},
   "outputs": [],
   "source": [
    "# Now foucs on the data when guest team wins (home team win = 0)\n",
    "guest_game_win = df_games[df_games.HOME_TEAM_WINS == 0]\n",
    "guest_game_win = guest_game_win.groupby(['VISITOR_TEAM_NAME','SEASON'],as_index=False)[['PTS_away']].sum()"
   ]
  },
  {
   "cell_type": "code",
   "execution_count": 91,
   "id": "painful-three",
   "metadata": {},
   "outputs": [
    {
     "data": {
      "application/vnd.plotly.v1+json": {
       "config": {
        "plotlyServerURL": "https://plot.ly"
       },
       "data": [
        {
         "alignmentgroup": "True",
         "hovertemplate": "Number of points scored=%{x}<br>Teams=%{y}<br>Season=%{marker.color}<extra></extra>",
         "legendgroup": "",
         "marker": {
          "color": [
           2017,
           2018,
           2019,
           2017,
           2018,
           2019,
           2017,
           2018,
           2019,
           2017,
           2018,
           2019,
           2017,
           2018,
           2019,
           2017,
           2018,
           2019,
           2017,
           2018,
           2019,
           2017,
           2018,
           2019,
           2017,
           2018,
           2019,
           2017,
           2018,
           2019,
           2017,
           2018,
           2019,
           2017,
           2018,
           2019,
           2017,
           2018,
           2019,
           2017,
           2018,
           2019,
           2017,
           2018,
           2019,
           2017,
           2018,
           2019,
           2017,
           2018,
           2019,
           2017,
           2018,
           2019,
           2017,
           2018,
           2019,
           2017,
           2018,
           2019,
           2017,
           2018,
           2019,
           2017,
           2018,
           2019,
           2017,
           2018,
           2019,
           2017,
           2018,
           2019,
           2017,
           2018,
           2019,
           2017,
           2018,
           2019,
           2017,
           2018,
           2019,
           2017,
           2018,
           2019,
           2017,
           2018,
           2019,
           2017,
           2018,
           2019
          ],
          "coloraxis": "coloraxis",
          "opacity": 0.9
         },
         "name": "",
         "offsetgroup": "",
         "orientation": "h",
         "showlegend": false,
         "textposition": "auto",
         "type": "bar",
         "x": [
          2822,
          2829,
          1605,
          2107,
          3827,
          3963,
          1367,
          1476,
          1012,
          3015,
          744,
          886,
          3260,
          2747,
          3490,
          2315,
          2970,
          3206,
          743,
          1316,
          1919,
          980,
          1458,
          813,
          1964,
          2209,
          2827,
          1859,
          1759,
          1485,
          2687,
          2695,
          2636,
          1329,
          1872,
          1966,
          1104,
          1128,
          1206,
          1805,
          1925,
          4213,
          977,
          2013,
          2363,
          1092,
          1173,
          3242,
          1542,
          2548,
          1965,
          2084,
          2775,
          3085,
          2583,
          2407,
          2495,
          3103,
          1724,
          2503,
          1524,
          1937,
          1173,
          3093,
          3958,
          3791,
          4288,
          2898,
          3001,
          1567,
          2087,
          1786,
          1357,
          971,
          2266,
          2535,
          2692,
          2581,
          2145,
          1368,
          1459,
          2626,
          2878,
          1910,
          4291,
          4228,
          835,
          2311,
          1383,
          1313
         ],
         "xaxis": "x",
         "y": [
          "76ers",
          "76ers",
          "76ers",
          "Bucks",
          "Bucks",
          "Bucks",
          "Bulls",
          "Bulls",
          "Bulls",
          "Cavaliers",
          "Cavaliers",
          "Cavaliers",
          "Celtics",
          "Celtics",
          "Celtics",
          "Clippers",
          "Clippers",
          "Clippers",
          "Grizzlies",
          "Grizzlies",
          "Grizzlies",
          "Hawks",
          "Hawks",
          "Hawks",
          "Heat",
          "Heat",
          "Heat",
          "Hornets",
          "Hornets",
          "Hornets",
          "Jazz",
          "Jazz",
          "Jazz",
          "Kings",
          "Kings",
          "Kings",
          "Knicks",
          "Knicks",
          "Knicks",
          "Lakers",
          "Lakers",
          "Lakers",
          "Magic",
          "Magic",
          "Magic",
          "Mavericks",
          "Mavericks",
          "Mavericks",
          "Nets",
          "Nets",
          "Nets",
          "Nuggets",
          "Nuggets",
          "Nuggets",
          "Pacers",
          "Pacers",
          "Pacers",
          "Pelicans",
          "Pelicans",
          "Pelicans",
          "Pistons",
          "Pistons",
          "Pistons",
          "Raptors",
          "Raptors",
          "Raptors",
          "Rockets",
          "Rockets",
          "Rockets",
          "Spurs",
          "Spurs",
          "Spurs",
          "Suns",
          "Suns",
          "Suns",
          "Thunder",
          "Thunder",
          "Thunder",
          "Timberwolves",
          "Timberwolves",
          "Timberwolves",
          "Trail Blazers",
          "Trail Blazers",
          "Trail Blazers",
          "Warriors",
          "Warriors",
          "Warriors",
          "Wizards",
          "Wizards",
          "Wizards"
         ],
         "yaxis": "y"
        }
       ],
       "layout": {
        "barmode": "group",
        "coloraxis": {
         "colorbar": {
          "title": {
           "text": "Season"
          }
         },
         "colorscale": [
          [
           0,
           "#0d0887"
          ],
          [
           0.1111111111111111,
           "#46039f"
          ],
          [
           0.2222222222222222,
           "#7201a8"
          ],
          [
           0.3333333333333333,
           "#9c179e"
          ],
          [
           0.4444444444444444,
           "#bd3786"
          ],
          [
           0.5555555555555556,
           "#d8576b"
          ],
          [
           0.6666666666666666,
           "#ed7953"
          ],
          [
           0.7777777777777778,
           "#fb9f3a"
          ],
          [
           0.8888888888888888,
           "#fdca26"
          ],
          [
           1,
           "#f0f921"
          ]
         ]
        },
        "legend": {
         "tracegroupgap": 0
        },
        "template": {
         "data": {
          "bar": [
           {
            "error_x": {
             "color": "#2a3f5f"
            },
            "error_y": {
             "color": "#2a3f5f"
            },
            "marker": {
             "line": {
              "color": "white",
              "width": 0.5
             }
            },
            "type": "bar"
           }
          ],
          "barpolar": [
           {
            "marker": {
             "line": {
              "color": "white",
              "width": 0.5
             }
            },
            "type": "barpolar"
           }
          ],
          "carpet": [
           {
            "aaxis": {
             "endlinecolor": "#2a3f5f",
             "gridcolor": "#C8D4E3",
             "linecolor": "#C8D4E3",
             "minorgridcolor": "#C8D4E3",
             "startlinecolor": "#2a3f5f"
            },
            "baxis": {
             "endlinecolor": "#2a3f5f",
             "gridcolor": "#C8D4E3",
             "linecolor": "#C8D4E3",
             "minorgridcolor": "#C8D4E3",
             "startlinecolor": "#2a3f5f"
            },
            "type": "carpet"
           }
          ],
          "choropleth": [
           {
            "colorbar": {
             "outlinewidth": 0,
             "ticks": ""
            },
            "type": "choropleth"
           }
          ],
          "contour": [
           {
            "colorbar": {
             "outlinewidth": 0,
             "ticks": ""
            },
            "colorscale": [
             [
              0,
              "#0d0887"
             ],
             [
              0.1111111111111111,
              "#46039f"
             ],
             [
              0.2222222222222222,
              "#7201a8"
             ],
             [
              0.3333333333333333,
              "#9c179e"
             ],
             [
              0.4444444444444444,
              "#bd3786"
             ],
             [
              0.5555555555555556,
              "#d8576b"
             ],
             [
              0.6666666666666666,
              "#ed7953"
             ],
             [
              0.7777777777777778,
              "#fb9f3a"
             ],
             [
              0.8888888888888888,
              "#fdca26"
             ],
             [
              1,
              "#f0f921"
             ]
            ],
            "type": "contour"
           }
          ],
          "contourcarpet": [
           {
            "colorbar": {
             "outlinewidth": 0,
             "ticks": ""
            },
            "type": "contourcarpet"
           }
          ],
          "heatmap": [
           {
            "colorbar": {
             "outlinewidth": 0,
             "ticks": ""
            },
            "colorscale": [
             [
              0,
              "#0d0887"
             ],
             [
              0.1111111111111111,
              "#46039f"
             ],
             [
              0.2222222222222222,
              "#7201a8"
             ],
             [
              0.3333333333333333,
              "#9c179e"
             ],
             [
              0.4444444444444444,
              "#bd3786"
             ],
             [
              0.5555555555555556,
              "#d8576b"
             ],
             [
              0.6666666666666666,
              "#ed7953"
             ],
             [
              0.7777777777777778,
              "#fb9f3a"
             ],
             [
              0.8888888888888888,
              "#fdca26"
             ],
             [
              1,
              "#f0f921"
             ]
            ],
            "type": "heatmap"
           }
          ],
          "heatmapgl": [
           {
            "colorbar": {
             "outlinewidth": 0,
             "ticks": ""
            },
            "colorscale": [
             [
              0,
              "#0d0887"
             ],
             [
              0.1111111111111111,
              "#46039f"
             ],
             [
              0.2222222222222222,
              "#7201a8"
             ],
             [
              0.3333333333333333,
              "#9c179e"
             ],
             [
              0.4444444444444444,
              "#bd3786"
             ],
             [
              0.5555555555555556,
              "#d8576b"
             ],
             [
              0.6666666666666666,
              "#ed7953"
             ],
             [
              0.7777777777777778,
              "#fb9f3a"
             ],
             [
              0.8888888888888888,
              "#fdca26"
             ],
             [
              1,
              "#f0f921"
             ]
            ],
            "type": "heatmapgl"
           }
          ],
          "histogram": [
           {
            "marker": {
             "colorbar": {
              "outlinewidth": 0,
              "ticks": ""
             }
            },
            "type": "histogram"
           }
          ],
          "histogram2d": [
           {
            "colorbar": {
             "outlinewidth": 0,
             "ticks": ""
            },
            "colorscale": [
             [
              0,
              "#0d0887"
             ],
             [
              0.1111111111111111,
              "#46039f"
             ],
             [
              0.2222222222222222,
              "#7201a8"
             ],
             [
              0.3333333333333333,
              "#9c179e"
             ],
             [
              0.4444444444444444,
              "#bd3786"
             ],
             [
              0.5555555555555556,
              "#d8576b"
             ],
             [
              0.6666666666666666,
              "#ed7953"
             ],
             [
              0.7777777777777778,
              "#fb9f3a"
             ],
             [
              0.8888888888888888,
              "#fdca26"
             ],
             [
              1,
              "#f0f921"
             ]
            ],
            "type": "histogram2d"
           }
          ],
          "histogram2dcontour": [
           {
            "colorbar": {
             "outlinewidth": 0,
             "ticks": ""
            },
            "colorscale": [
             [
              0,
              "#0d0887"
             ],
             [
              0.1111111111111111,
              "#46039f"
             ],
             [
              0.2222222222222222,
              "#7201a8"
             ],
             [
              0.3333333333333333,
              "#9c179e"
             ],
             [
              0.4444444444444444,
              "#bd3786"
             ],
             [
              0.5555555555555556,
              "#d8576b"
             ],
             [
              0.6666666666666666,
              "#ed7953"
             ],
             [
              0.7777777777777778,
              "#fb9f3a"
             ],
             [
              0.8888888888888888,
              "#fdca26"
             ],
             [
              1,
              "#f0f921"
             ]
            ],
            "type": "histogram2dcontour"
           }
          ],
          "mesh3d": [
           {
            "colorbar": {
             "outlinewidth": 0,
             "ticks": ""
            },
            "type": "mesh3d"
           }
          ],
          "parcoords": [
           {
            "line": {
             "colorbar": {
              "outlinewidth": 0,
              "ticks": ""
             }
            },
            "type": "parcoords"
           }
          ],
          "pie": [
           {
            "automargin": true,
            "type": "pie"
           }
          ],
          "scatter": [
           {
            "marker": {
             "colorbar": {
              "outlinewidth": 0,
              "ticks": ""
             }
            },
            "type": "scatter"
           }
          ],
          "scatter3d": [
           {
            "line": {
             "colorbar": {
              "outlinewidth": 0,
              "ticks": ""
             }
            },
            "marker": {
             "colorbar": {
              "outlinewidth": 0,
              "ticks": ""
             }
            },
            "type": "scatter3d"
           }
          ],
          "scattercarpet": [
           {
            "marker": {
             "colorbar": {
              "outlinewidth": 0,
              "ticks": ""
             }
            },
            "type": "scattercarpet"
           }
          ],
          "scattergeo": [
           {
            "marker": {
             "colorbar": {
              "outlinewidth": 0,
              "ticks": ""
             }
            },
            "type": "scattergeo"
           }
          ],
          "scattergl": [
           {
            "marker": {
             "colorbar": {
              "outlinewidth": 0,
              "ticks": ""
             }
            },
            "type": "scattergl"
           }
          ],
          "scattermapbox": [
           {
            "marker": {
             "colorbar": {
              "outlinewidth": 0,
              "ticks": ""
             }
            },
            "type": "scattermapbox"
           }
          ],
          "scatterpolar": [
           {
            "marker": {
             "colorbar": {
              "outlinewidth": 0,
              "ticks": ""
             }
            },
            "type": "scatterpolar"
           }
          ],
          "scatterpolargl": [
           {
            "marker": {
             "colorbar": {
              "outlinewidth": 0,
              "ticks": ""
             }
            },
            "type": "scatterpolargl"
           }
          ],
          "scatterternary": [
           {
            "marker": {
             "colorbar": {
              "outlinewidth": 0,
              "ticks": ""
             }
            },
            "type": "scatterternary"
           }
          ],
          "surface": [
           {
            "colorbar": {
             "outlinewidth": 0,
             "ticks": ""
            },
            "colorscale": [
             [
              0,
              "#0d0887"
             ],
             [
              0.1111111111111111,
              "#46039f"
             ],
             [
              0.2222222222222222,
              "#7201a8"
             ],
             [
              0.3333333333333333,
              "#9c179e"
             ],
             [
              0.4444444444444444,
              "#bd3786"
             ],
             [
              0.5555555555555556,
              "#d8576b"
             ],
             [
              0.6666666666666666,
              "#ed7953"
             ],
             [
              0.7777777777777778,
              "#fb9f3a"
             ],
             [
              0.8888888888888888,
              "#fdca26"
             ],
             [
              1,
              "#f0f921"
             ]
            ],
            "type": "surface"
           }
          ],
          "table": [
           {
            "cells": {
             "fill": {
              "color": "#EBF0F8"
             },
             "line": {
              "color": "white"
             }
            },
            "header": {
             "fill": {
              "color": "#C8D4E3"
             },
             "line": {
              "color": "white"
             }
            },
            "type": "table"
           }
          ]
         },
         "layout": {
          "annotationdefaults": {
           "arrowcolor": "#2a3f5f",
           "arrowhead": 0,
           "arrowwidth": 1
          },
          "autotypenumbers": "strict",
          "coloraxis": {
           "colorbar": {
            "outlinewidth": 0,
            "ticks": ""
           }
          },
          "colorscale": {
           "diverging": [
            [
             0,
             "#8e0152"
            ],
            [
             0.1,
             "#c51b7d"
            ],
            [
             0.2,
             "#de77ae"
            ],
            [
             0.3,
             "#f1b6da"
            ],
            [
             0.4,
             "#fde0ef"
            ],
            [
             0.5,
             "#f7f7f7"
            ],
            [
             0.6,
             "#e6f5d0"
            ],
            [
             0.7,
             "#b8e186"
            ],
            [
             0.8,
             "#7fbc41"
            ],
            [
             0.9,
             "#4d9221"
            ],
            [
             1,
             "#276419"
            ]
           ],
           "sequential": [
            [
             0,
             "#0d0887"
            ],
            [
             0.1111111111111111,
             "#46039f"
            ],
            [
             0.2222222222222222,
             "#7201a8"
            ],
            [
             0.3333333333333333,
             "#9c179e"
            ],
            [
             0.4444444444444444,
             "#bd3786"
            ],
            [
             0.5555555555555556,
             "#d8576b"
            ],
            [
             0.6666666666666666,
             "#ed7953"
            ],
            [
             0.7777777777777778,
             "#fb9f3a"
            ],
            [
             0.8888888888888888,
             "#fdca26"
            ],
            [
             1,
             "#f0f921"
            ]
           ],
           "sequentialminus": [
            [
             0,
             "#0d0887"
            ],
            [
             0.1111111111111111,
             "#46039f"
            ],
            [
             0.2222222222222222,
             "#7201a8"
            ],
            [
             0.3333333333333333,
             "#9c179e"
            ],
            [
             0.4444444444444444,
             "#bd3786"
            ],
            [
             0.5555555555555556,
             "#d8576b"
            ],
            [
             0.6666666666666666,
             "#ed7953"
            ],
            [
             0.7777777777777778,
             "#fb9f3a"
            ],
            [
             0.8888888888888888,
             "#fdca26"
            ],
            [
             1,
             "#f0f921"
            ]
           ]
          },
          "colorway": [
           "#636efa",
           "#EF553B",
           "#00cc96",
           "#ab63fa",
           "#FFA15A",
           "#19d3f3",
           "#FF6692",
           "#B6E880",
           "#FF97FF",
           "#FECB52"
          ],
          "font": {
           "color": "#2a3f5f"
          },
          "geo": {
           "bgcolor": "white",
           "lakecolor": "white",
           "landcolor": "white",
           "showlakes": true,
           "showland": true,
           "subunitcolor": "#C8D4E3"
          },
          "hoverlabel": {
           "align": "left"
          },
          "hovermode": "closest",
          "mapbox": {
           "style": "light"
          },
          "paper_bgcolor": "white",
          "plot_bgcolor": "white",
          "polar": {
           "angularaxis": {
            "gridcolor": "#EBF0F8",
            "linecolor": "#EBF0F8",
            "ticks": ""
           },
           "bgcolor": "white",
           "radialaxis": {
            "gridcolor": "#EBF0F8",
            "linecolor": "#EBF0F8",
            "ticks": ""
           }
          },
          "scene": {
           "xaxis": {
            "backgroundcolor": "white",
            "gridcolor": "#DFE8F3",
            "gridwidth": 2,
            "linecolor": "#EBF0F8",
            "showbackground": true,
            "ticks": "",
            "zerolinecolor": "#EBF0F8"
           },
           "yaxis": {
            "backgroundcolor": "white",
            "gridcolor": "#DFE8F3",
            "gridwidth": 2,
            "linecolor": "#EBF0F8",
            "showbackground": true,
            "ticks": "",
            "zerolinecolor": "#EBF0F8"
           },
           "zaxis": {
            "backgroundcolor": "white",
            "gridcolor": "#DFE8F3",
            "gridwidth": 2,
            "linecolor": "#EBF0F8",
            "showbackground": true,
            "ticks": "",
            "zerolinecolor": "#EBF0F8"
           }
          },
          "shapedefaults": {
           "line": {
            "color": "#2a3f5f"
           }
          },
          "ternary": {
           "aaxis": {
            "gridcolor": "#DFE8F3",
            "linecolor": "#A2B1C6",
            "ticks": ""
           },
           "baxis": {
            "gridcolor": "#DFE8F3",
            "linecolor": "#A2B1C6",
            "ticks": ""
           },
           "bgcolor": "white",
           "caxis": {
            "gridcolor": "#DFE8F3",
            "linecolor": "#A2B1C6",
            "ticks": ""
           }
          },
          "title": {
           "x": 0.05
          },
          "xaxis": {
           "automargin": true,
           "gridcolor": "#EBF0F8",
           "linecolor": "#EBF0F8",
           "ticks": "",
           "title": {
            "standoff": 15
           },
           "zerolinecolor": "#EBF0F8",
           "zerolinewidth": 2
          },
          "yaxis": {
           "automargin": true,
           "gridcolor": "#EBF0F8",
           "linecolor": "#EBF0F8",
           "ticks": "",
           "title": {
            "standoff": 15
           },
           "zerolinecolor": "#EBF0F8",
           "zerolinewidth": 2
          }
         }
        },
        "title": {
         "text": "NBA Season 2017-2019 Guest/Visitor Teams Total Scores"
        },
        "xaxis": {
         "anchor": "y",
         "domain": [
          0,
          1
         ],
         "title": {
          "text": "Number of points scored"
         }
        },
        "yaxis": {
         "anchor": "x",
         "domain": [
          0,
          1
         ],
         "tickmode": "linear",
         "title": {
          "text": "Teams"
         }
        }
       }
      },
      "text/html": [
       "<div>                            <div id=\"297d23f9-9b2c-451f-9051-e02c3ecad5bb\" class=\"plotly-graph-div\" style=\"height:525px; width:100%;\"></div>            <script type=\"text/javascript\">                require([\"plotly\"], function(Plotly) {                    window.PLOTLYENV=window.PLOTLYENV || {};                                    if (document.getElementById(\"297d23f9-9b2c-451f-9051-e02c3ecad5bb\")) {                    Plotly.newPlot(                        \"297d23f9-9b2c-451f-9051-e02c3ecad5bb\",                        [{\"alignmentgroup\": \"True\", \"hovertemplate\": \"Number of points scored=%{x}<br>Teams=%{y}<br>Season=%{marker.color}<extra></extra>\", \"legendgroup\": \"\", \"marker\": {\"color\": [2017, 2018, 2019, 2017, 2018, 2019, 2017, 2018, 2019, 2017, 2018, 2019, 2017, 2018, 2019, 2017, 2018, 2019, 2017, 2018, 2019, 2017, 2018, 2019, 2017, 2018, 2019, 2017, 2018, 2019, 2017, 2018, 2019, 2017, 2018, 2019, 2017, 2018, 2019, 2017, 2018, 2019, 2017, 2018, 2019, 2017, 2018, 2019, 2017, 2018, 2019, 2017, 2018, 2019, 2017, 2018, 2019, 2017, 2018, 2019, 2017, 2018, 2019, 2017, 2018, 2019, 2017, 2018, 2019, 2017, 2018, 2019, 2017, 2018, 2019, 2017, 2018, 2019, 2017, 2018, 2019, 2017, 2018, 2019, 2017, 2018, 2019, 2017, 2018, 2019], \"coloraxis\": \"coloraxis\", \"opacity\": 0.9}, \"name\": \"\", \"offsetgroup\": \"\", \"orientation\": \"h\", \"showlegend\": false, \"textposition\": \"auto\", \"type\": \"bar\", \"x\": [2822.0, 2829.0, 1605.0, 2107.0, 3827.0, 3963.0, 1367.0, 1476.0, 1012.0, 3015.0, 744.0, 886.0, 3260.0, 2747.0, 3490.0, 2315.0, 2970.0, 3206.0, 743.0, 1316.0, 1919.0, 980.0, 1458.0, 813.0, 1964.0, 2209.0, 2827.0, 1859.0, 1759.0, 1485.0, 2687.0, 2695.0, 2636.0, 1329.0, 1872.0, 1966.0, 1104.0, 1128.0, 1206.0, 1805.0, 1925.0, 4213.0, 977.0, 2013.0, 2363.0, 1092.0, 1173.0, 3242.0, 1542.0, 2548.0, 1965.0, 2084.0, 2775.0, 3085.0, 2583.0, 2407.0, 2495.0, 3103.0, 1724.0, 2503.0, 1524.0, 1937.0, 1173.0, 3093.0, 3958.0, 3791.0, 4288.0, 2898.0, 3001.0, 1567.0, 2087.0, 1786.0, 1357.0, 971.0, 2266.0, 2535.0, 2692.0, 2581.0, 2145.0, 1368.0, 1459.0, 2626.0, 2878.0, 1910.0, 4291.0, 4228.0, 835.0, 2311.0, 1383.0, 1313.0], \"xaxis\": \"x\", \"y\": [\"76ers\", \"76ers\", \"76ers\", \"Bucks\", \"Bucks\", \"Bucks\", \"Bulls\", \"Bulls\", \"Bulls\", \"Cavaliers\", \"Cavaliers\", \"Cavaliers\", \"Celtics\", \"Celtics\", \"Celtics\", \"Clippers\", \"Clippers\", \"Clippers\", \"Grizzlies\", \"Grizzlies\", \"Grizzlies\", \"Hawks\", \"Hawks\", \"Hawks\", \"Heat\", \"Heat\", \"Heat\", \"Hornets\", \"Hornets\", \"Hornets\", \"Jazz\", \"Jazz\", \"Jazz\", \"Kings\", \"Kings\", \"Kings\", \"Knicks\", \"Knicks\", \"Knicks\", \"Lakers\", \"Lakers\", \"Lakers\", \"Magic\", \"Magic\", \"Magic\", \"Mavericks\", \"Mavericks\", \"Mavericks\", \"Nets\", \"Nets\", \"Nets\", \"Nuggets\", \"Nuggets\", \"Nuggets\", \"Pacers\", \"Pacers\", \"Pacers\", \"Pelicans\", \"Pelicans\", \"Pelicans\", \"Pistons\", \"Pistons\", \"Pistons\", \"Raptors\", \"Raptors\", \"Raptors\", \"Rockets\", \"Rockets\", \"Rockets\", \"Spurs\", \"Spurs\", \"Spurs\", \"Suns\", \"Suns\", \"Suns\", \"Thunder\", \"Thunder\", \"Thunder\", \"Timberwolves\", \"Timberwolves\", \"Timberwolves\", \"Trail Blazers\", \"Trail Blazers\", \"Trail Blazers\", \"Warriors\", \"Warriors\", \"Warriors\", \"Wizards\", \"Wizards\", \"Wizards\"], \"yaxis\": \"y\"}],                        {\"barmode\": \"group\", \"coloraxis\": {\"colorbar\": {\"title\": {\"text\": \"Season\"}}, \"colorscale\": [[0.0, \"#0d0887\"], [0.1111111111111111, \"#46039f\"], [0.2222222222222222, \"#7201a8\"], [0.3333333333333333, \"#9c179e\"], [0.4444444444444444, \"#bd3786\"], [0.5555555555555556, \"#d8576b\"], [0.6666666666666666, \"#ed7953\"], [0.7777777777777778, \"#fb9f3a\"], [0.8888888888888888, \"#fdca26\"], [1.0, \"#f0f921\"]]}, \"legend\": {\"tracegroupgap\": 0}, \"template\": {\"data\": {\"bar\": [{\"error_x\": {\"color\": \"#2a3f5f\"}, \"error_y\": {\"color\": \"#2a3f5f\"}, \"marker\": {\"line\": {\"color\": \"white\", \"width\": 0.5}}, \"type\": \"bar\"}], \"barpolar\": [{\"marker\": {\"line\": {\"color\": \"white\", \"width\": 0.5}}, \"type\": \"barpolar\"}], \"carpet\": [{\"aaxis\": {\"endlinecolor\": \"#2a3f5f\", \"gridcolor\": \"#C8D4E3\", \"linecolor\": \"#C8D4E3\", \"minorgridcolor\": \"#C8D4E3\", \"startlinecolor\": \"#2a3f5f\"}, \"baxis\": {\"endlinecolor\": \"#2a3f5f\", \"gridcolor\": \"#C8D4E3\", \"linecolor\": \"#C8D4E3\", \"minorgridcolor\": \"#C8D4E3\", \"startlinecolor\": \"#2a3f5f\"}, \"type\": \"carpet\"}], \"choropleth\": [{\"colorbar\": {\"outlinewidth\": 0, \"ticks\": \"\"}, \"type\": \"choropleth\"}], \"contour\": [{\"colorbar\": {\"outlinewidth\": 0, \"ticks\": \"\"}, \"colorscale\": [[0.0, \"#0d0887\"], [0.1111111111111111, \"#46039f\"], [0.2222222222222222, \"#7201a8\"], [0.3333333333333333, \"#9c179e\"], [0.4444444444444444, \"#bd3786\"], [0.5555555555555556, \"#d8576b\"], [0.6666666666666666, \"#ed7953\"], [0.7777777777777778, \"#fb9f3a\"], [0.8888888888888888, \"#fdca26\"], [1.0, \"#f0f921\"]], \"type\": \"contour\"}], \"contourcarpet\": [{\"colorbar\": {\"outlinewidth\": 0, \"ticks\": \"\"}, \"type\": \"contourcarpet\"}], \"heatmap\": [{\"colorbar\": {\"outlinewidth\": 0, \"ticks\": \"\"}, \"colorscale\": [[0.0, \"#0d0887\"], [0.1111111111111111, \"#46039f\"], [0.2222222222222222, \"#7201a8\"], [0.3333333333333333, \"#9c179e\"], [0.4444444444444444, \"#bd3786\"], [0.5555555555555556, \"#d8576b\"], [0.6666666666666666, \"#ed7953\"], [0.7777777777777778, \"#fb9f3a\"], [0.8888888888888888, \"#fdca26\"], [1.0, \"#f0f921\"]], \"type\": \"heatmap\"}], \"heatmapgl\": [{\"colorbar\": {\"outlinewidth\": 0, \"ticks\": \"\"}, \"colorscale\": [[0.0, \"#0d0887\"], [0.1111111111111111, \"#46039f\"], [0.2222222222222222, \"#7201a8\"], [0.3333333333333333, \"#9c179e\"], [0.4444444444444444, \"#bd3786\"], [0.5555555555555556, \"#d8576b\"], [0.6666666666666666, \"#ed7953\"], [0.7777777777777778, \"#fb9f3a\"], [0.8888888888888888, \"#fdca26\"], [1.0, \"#f0f921\"]], \"type\": \"heatmapgl\"}], \"histogram\": [{\"marker\": {\"colorbar\": {\"outlinewidth\": 0, \"ticks\": \"\"}}, \"type\": \"histogram\"}], \"histogram2d\": [{\"colorbar\": {\"outlinewidth\": 0, \"ticks\": \"\"}, \"colorscale\": [[0.0, \"#0d0887\"], [0.1111111111111111, \"#46039f\"], [0.2222222222222222, \"#7201a8\"], [0.3333333333333333, \"#9c179e\"], [0.4444444444444444, \"#bd3786\"], [0.5555555555555556, \"#d8576b\"], [0.6666666666666666, \"#ed7953\"], [0.7777777777777778, \"#fb9f3a\"], [0.8888888888888888, \"#fdca26\"], [1.0, \"#f0f921\"]], \"type\": \"histogram2d\"}], \"histogram2dcontour\": [{\"colorbar\": {\"outlinewidth\": 0, \"ticks\": \"\"}, \"colorscale\": [[0.0, \"#0d0887\"], [0.1111111111111111, \"#46039f\"], [0.2222222222222222, \"#7201a8\"], [0.3333333333333333, \"#9c179e\"], [0.4444444444444444, \"#bd3786\"], [0.5555555555555556, \"#d8576b\"], [0.6666666666666666, \"#ed7953\"], [0.7777777777777778, \"#fb9f3a\"], [0.8888888888888888, \"#fdca26\"], [1.0, \"#f0f921\"]], \"type\": \"histogram2dcontour\"}], \"mesh3d\": [{\"colorbar\": {\"outlinewidth\": 0, \"ticks\": \"\"}, \"type\": \"mesh3d\"}], \"parcoords\": [{\"line\": {\"colorbar\": {\"outlinewidth\": 0, \"ticks\": \"\"}}, \"type\": \"parcoords\"}], \"pie\": [{\"automargin\": true, \"type\": \"pie\"}], \"scatter\": [{\"marker\": {\"colorbar\": {\"outlinewidth\": 0, \"ticks\": \"\"}}, \"type\": \"scatter\"}], \"scatter3d\": [{\"line\": {\"colorbar\": {\"outlinewidth\": 0, \"ticks\": \"\"}}, \"marker\": {\"colorbar\": {\"outlinewidth\": 0, \"ticks\": \"\"}}, \"type\": \"scatter3d\"}], \"scattercarpet\": [{\"marker\": {\"colorbar\": {\"outlinewidth\": 0, \"ticks\": \"\"}}, \"type\": \"scattercarpet\"}], \"scattergeo\": [{\"marker\": {\"colorbar\": {\"outlinewidth\": 0, \"ticks\": \"\"}}, \"type\": \"scattergeo\"}], \"scattergl\": [{\"marker\": {\"colorbar\": {\"outlinewidth\": 0, \"ticks\": \"\"}}, \"type\": \"scattergl\"}], \"scattermapbox\": [{\"marker\": {\"colorbar\": {\"outlinewidth\": 0, \"ticks\": \"\"}}, \"type\": \"scattermapbox\"}], \"scatterpolar\": [{\"marker\": {\"colorbar\": {\"outlinewidth\": 0, \"ticks\": \"\"}}, \"type\": \"scatterpolar\"}], \"scatterpolargl\": [{\"marker\": {\"colorbar\": {\"outlinewidth\": 0, \"ticks\": \"\"}}, \"type\": \"scatterpolargl\"}], \"scatterternary\": [{\"marker\": {\"colorbar\": {\"outlinewidth\": 0, \"ticks\": \"\"}}, \"type\": \"scatterternary\"}], \"surface\": [{\"colorbar\": {\"outlinewidth\": 0, \"ticks\": \"\"}, \"colorscale\": [[0.0, \"#0d0887\"], [0.1111111111111111, \"#46039f\"], [0.2222222222222222, \"#7201a8\"], [0.3333333333333333, \"#9c179e\"], [0.4444444444444444, \"#bd3786\"], [0.5555555555555556, \"#d8576b\"], [0.6666666666666666, \"#ed7953\"], [0.7777777777777778, \"#fb9f3a\"], [0.8888888888888888, \"#fdca26\"], [1.0, \"#f0f921\"]], \"type\": \"surface\"}], \"table\": [{\"cells\": {\"fill\": {\"color\": \"#EBF0F8\"}, \"line\": {\"color\": \"white\"}}, \"header\": {\"fill\": {\"color\": \"#C8D4E3\"}, \"line\": {\"color\": \"white\"}}, \"type\": \"table\"}]}, \"layout\": {\"annotationdefaults\": {\"arrowcolor\": \"#2a3f5f\", \"arrowhead\": 0, \"arrowwidth\": 1}, \"autotypenumbers\": \"strict\", \"coloraxis\": {\"colorbar\": {\"outlinewidth\": 0, \"ticks\": \"\"}}, \"colorscale\": {\"diverging\": [[0, \"#8e0152\"], [0.1, \"#c51b7d\"], [0.2, \"#de77ae\"], [0.3, \"#f1b6da\"], [0.4, \"#fde0ef\"], [0.5, \"#f7f7f7\"], [0.6, \"#e6f5d0\"], [0.7, \"#b8e186\"], [0.8, \"#7fbc41\"], [0.9, \"#4d9221\"], [1, \"#276419\"]], \"sequential\": [[0.0, \"#0d0887\"], [0.1111111111111111, \"#46039f\"], [0.2222222222222222, \"#7201a8\"], [0.3333333333333333, \"#9c179e\"], [0.4444444444444444, \"#bd3786\"], [0.5555555555555556, \"#d8576b\"], [0.6666666666666666, \"#ed7953\"], [0.7777777777777778, \"#fb9f3a\"], [0.8888888888888888, \"#fdca26\"], [1.0, \"#f0f921\"]], \"sequentialminus\": [[0.0, \"#0d0887\"], [0.1111111111111111, \"#46039f\"], [0.2222222222222222, \"#7201a8\"], [0.3333333333333333, \"#9c179e\"], [0.4444444444444444, \"#bd3786\"], [0.5555555555555556, \"#d8576b\"], [0.6666666666666666, \"#ed7953\"], [0.7777777777777778, \"#fb9f3a\"], [0.8888888888888888, \"#fdca26\"], [1.0, \"#f0f921\"]]}, \"colorway\": [\"#636efa\", \"#EF553B\", \"#00cc96\", \"#ab63fa\", \"#FFA15A\", \"#19d3f3\", \"#FF6692\", \"#B6E880\", \"#FF97FF\", \"#FECB52\"], \"font\": {\"color\": \"#2a3f5f\"}, \"geo\": {\"bgcolor\": \"white\", \"lakecolor\": \"white\", \"landcolor\": \"white\", \"showlakes\": true, \"showland\": true, \"subunitcolor\": \"#C8D4E3\"}, \"hoverlabel\": {\"align\": \"left\"}, \"hovermode\": \"closest\", \"mapbox\": {\"style\": \"light\"}, \"paper_bgcolor\": \"white\", \"plot_bgcolor\": \"white\", \"polar\": {\"angularaxis\": {\"gridcolor\": \"#EBF0F8\", \"linecolor\": \"#EBF0F8\", \"ticks\": \"\"}, \"bgcolor\": \"white\", \"radialaxis\": {\"gridcolor\": \"#EBF0F8\", \"linecolor\": \"#EBF0F8\", \"ticks\": \"\"}}, \"scene\": {\"xaxis\": {\"backgroundcolor\": \"white\", \"gridcolor\": \"#DFE8F3\", \"gridwidth\": 2, \"linecolor\": \"#EBF0F8\", \"showbackground\": true, \"ticks\": \"\", \"zerolinecolor\": \"#EBF0F8\"}, \"yaxis\": {\"backgroundcolor\": \"white\", \"gridcolor\": \"#DFE8F3\", \"gridwidth\": 2, \"linecolor\": \"#EBF0F8\", \"showbackground\": true, \"ticks\": \"\", \"zerolinecolor\": \"#EBF0F8\"}, \"zaxis\": {\"backgroundcolor\": \"white\", \"gridcolor\": \"#DFE8F3\", \"gridwidth\": 2, \"linecolor\": \"#EBF0F8\", \"showbackground\": true, \"ticks\": \"\", \"zerolinecolor\": \"#EBF0F8\"}}, \"shapedefaults\": {\"line\": {\"color\": \"#2a3f5f\"}}, \"ternary\": {\"aaxis\": {\"gridcolor\": \"#DFE8F3\", \"linecolor\": \"#A2B1C6\", \"ticks\": \"\"}, \"baxis\": {\"gridcolor\": \"#DFE8F3\", \"linecolor\": \"#A2B1C6\", \"ticks\": \"\"}, \"bgcolor\": \"white\", \"caxis\": {\"gridcolor\": \"#DFE8F3\", \"linecolor\": \"#A2B1C6\", \"ticks\": \"\"}}, \"title\": {\"x\": 0.05}, \"xaxis\": {\"automargin\": true, \"gridcolor\": \"#EBF0F8\", \"linecolor\": \"#EBF0F8\", \"ticks\": \"\", \"title\": {\"standoff\": 15}, \"zerolinecolor\": \"#EBF0F8\", \"zerolinewidth\": 2}, \"yaxis\": {\"automargin\": true, \"gridcolor\": \"#EBF0F8\", \"linecolor\": \"#EBF0F8\", \"ticks\": \"\", \"title\": {\"standoff\": 15}, \"zerolinecolor\": \"#EBF0F8\", \"zerolinewidth\": 2}}}, \"title\": {\"text\": \"NBA Season 2017-2019 Guest/Visitor Teams Total Scores\"}, \"xaxis\": {\"anchor\": \"y\", \"domain\": [0.0, 1.0], \"title\": {\"text\": \"Number of points scored\"}}, \"yaxis\": {\"anchor\": \"x\", \"domain\": [0.0, 1.0], \"tickmode\": \"linear\", \"title\": {\"text\": \"Teams\"}}},                        {\"responsive\": true}                    ).then(function(){\n",
       "                            \n",
       "var gd = document.getElementById('297d23f9-9b2c-451f-9051-e02c3ecad5bb');\n",
       "var x = new MutationObserver(function (mutations, observer) {{\n",
       "        var display = window.getComputedStyle(gd).display;\n",
       "        if (!display || display === 'none') {{\n",
       "            console.log([gd, 'removed!']);\n",
       "            Plotly.purge(gd);\n",
       "            observer.disconnect();\n",
       "        }}\n",
       "}});\n",
       "\n",
       "// Listen for the removal of the full notebook cells\n",
       "var notebookContainer = gd.closest('#notebook-container');\n",
       "if (notebookContainer) {{\n",
       "    x.observe(notebookContainer, {childList: true});\n",
       "}}\n",
       "\n",
       "// Listen for the clearing of the current output cell\n",
       "var outputEl = gd.closest('.output');\n",
       "if (outputEl) {{\n",
       "    x.observe(outputEl, {childList: true});\n",
       "}}\n",
       "\n",
       "                        })                };                });            </script>        </div>"
      ]
     },
     "metadata": {},
     "output_type": "display_data"
    }
   ],
   "source": [
    "guest_game_bar = px.bar(\n",
    "    data_frame=guest_game_win,\n",
    "    x=\"PTS_away\",\n",
    "    y=\"VISITOR_TEAM_NAME\",\n",
    "    color=\"SEASON\", \n",
    "    opacity=0.9,\n",
    "    orientation=\"h\",\n",
    "    barmode='group',\n",
    "    labels={\"VISITOR_TEAM_NAME\":\"Teams\",\"PTS_away\":\"Number of points scored\",\"SEASON\":\"Season\"},\n",
    "    title='NBA Season 2017-2019 Guest/Visitor Teams Total Scores',\n",
    "#     width=1400, \n",
    "#     height=720,\n",
    "    template='plotly_white',\n",
    ")\n",
    "guest_game_bar.update_yaxes(tickmode = 'linear')\n",
    "pio.show(guest_game_bar)"
   ]
  },
  {
   "cell_type": "code",
   "execution_count": null,
   "id": "olympic-bahamas",
   "metadata": {},
   "outputs": [],
   "source": [
    "# Above two graps --> clearly a team gets more points at home game than visitor game (in general)"
   ]
  },
  {
   "cell_type": "code",
   "execution_count": 158,
   "id": "hazardous-staff",
   "metadata": {},
   "outputs": [
    {
     "name": "stdout",
     "output_type": "stream",
     "text": [
      "   HOME_TEAM_WINS  SEASON  FG_PCT_home  FT_PCT_home  FG3_PCT_home    PTS_home\n",
      "0               1    2017     0.485863     0.774636      0.385666  111.732919\n",
      "1               1    2018     0.483659     0.778060      0.383980  117.254321\n",
      "2               1    2019     0.486883     0.778623      0.386237  117.698198\n",
      "   HOME_TEAM_WINS  SEASON  FG_PCT_away  FT_PCT_away  FG3_PCT_away    PTS_away\n",
      "0               0    2017     0.481792     0.780496      0.392709  111.741768\n",
      "1               0    2018     0.482104     0.780072      0.384204  116.188380\n",
      "2               0    2019     0.481523     0.782350      0.384035  116.513043\n"
     ]
    }
   ],
   "source": [
    "# Overall on average, what is affecting a winning game among all teams(Home)? \n",
    "home_game_win2 = df_games[df_games.HOME_TEAM_WINS == 1]\n",
    "home_game_win2 = home_game_win2.groupby(['HOME_TEAM_WINS','SEASON'],as_index=False)[['FG_PCT_home','FT_PCT_home','FG3_PCT_home','PTS_home']].mean()\n",
    "\n",
    "guest_game_win2 = df_games[df_games.HOME_TEAM_WINS == 0]\n",
    "guest_game_win2 = guest_game_win2.groupby(['HOME_TEAM_WINS','SEASON'],as_index=False)[['FG_PCT_away','FT_PCT_away','FG3_PCT_away','PTS_away']].mean()\n",
    "\n",
    "\n",
    "print(home_game_win2)\n",
    "print(guest_game_win2)"
   ]
  },
  {
   "cell_type": "markdown",
   "id": "arbitrary-exposure",
   "metadata": {},
   "source": [
    "PTS_home --> Number of points scored by home team <br>\n",
    "FG_PCT_home --> Field Goal Percentage home team <br>\n",
    "FT_PCT_home\t--> Free Throw Percentage of the home team <br>\n",
    "FG3_PCT_home --> Three Point Percentageof the home team <br>\n",
    "AST_home --> Assists of the home team <br>\n",
    "REB_home --> Rebounds of the home team <br>"
   ]
  },
  {
   "cell_type": "code",
   "execution_count": null,
   "id": "moving-faith",
   "metadata": {},
   "outputs": [],
   "source": [
    "# As you can see above, the average of all teams score ratio has been incrediblely consistant when the team won the game\n",
    "# For a visitor winning team, the average of Free throw score rate is higher than the home team. "
   ]
  },
  {
   "cell_type": "code",
   "execution_count": 97,
   "id": "constitutional-charm",
   "metadata": {},
   "outputs": [],
   "source": [
    "import seaborn as sns"
   ]
  },
  {
   "cell_type": "code",
   "execution_count": 99,
   "id": "constant-overview",
   "metadata": {},
   "outputs": [],
   "source": [
    "df_games_corr = df_games"
   ]
  },
  {
   "cell_type": "code",
   "execution_count": 100,
   "id": "charitable-scanner",
   "metadata": {},
   "outputs": [],
   "source": [
    "# drop all visitor team data: \n",
    "for col in df_games_corr.columns: \n",
    "    if 'away' in col: \n",
    "        del df_games_corr[col]"
   ]
  },
  {
   "cell_type": "code",
   "execution_count": 103,
   "id": "measured-insight",
   "metadata": {},
   "outputs": [],
   "source": [
    "# Remove all columns between column name 'GAME_DATE_EST' to 'TEAM_ID_home' \n",
    "df_games_corr = df_games_corr.drop(df_games_corr.loc[:, 'GAME_DATE_EST':'TEAM_ID_home'].columns, axis = 1)"
   ]
  },
  {
   "cell_type": "code",
   "execution_count": 105,
   "id": "demonstrated-consultancy",
   "metadata": {},
   "outputs": [],
   "source": [
    "# Remove all columns between column name 'TEAM_ID_x' to 'VISITOR_TEAM_NAME' \n",
    "df_games_corr = df_games_corr.drop(df_games_corr.loc[:, 'TEAM_ID_x':'VISITOR_TEAM_NAME'].columns, axis = 1)"
   ]
  },
  {
   "cell_type": "code",
   "execution_count": 107,
   "id": "sexual-spencer",
   "metadata": {},
   "outputs": [],
   "source": [
    "# Compute the correlation matrix\n",
    "corr = df_games_corr.corr()"
   ]
  },
  {
   "cell_type": "code",
   "execution_count": 110,
   "id": "coordinated-brake",
   "metadata": {},
   "outputs": [
    {
     "data": {
      "text/plain": [
       "<AxesSubplot:>"
      ]
     },
     "execution_count": 110,
     "metadata": {},
     "output_type": "execute_result"
    },
    {
     "data": {
      "image/png": "[encoded data removed]",
      "text/plain": [
       "<Figure size 792x648 with 2 Axes>"
      ]
     },
     "metadata": {
      "needs_background": "light"
     },
     "output_type": "display_data"
    }
   ],
   "source": [
    "# Generate a mask for the upper triangle\n",
    "mask = np.triu(np.ones_like(corr, dtype=bool))\n",
    "\n",
    "# Set up the matplotlib figure\n",
    "f, ax = plt.subplots(figsize=(11, 9))\n",
    "\n",
    "# Generate a custom diverging colormap\n",
    "cmap = sns.diverging_palette(230, 20, as_cmap=True)\n",
    "\n",
    "# Draw the heatmap with the mask and correct aspect ratio\n",
    "sns.heatmap(corr, mask=mask, cmap=cmap, vmax=.3, center=0,\n",
    "            square=True, annot=True,linewidths=.5, cbar_kws={\"shrink\": .5})"
   ]
  },
  {
   "cell_type": "markdown",
   "id": "regular-teach",
   "metadata": {},
   "source": [
    "PTS_home --> Number of points scored by home team <br>\n",
    "FG_PCT_home --> Field Goal Percentage home team <br>\n",
    "FT_PCT_home\t--> Free Throw Percentage of the home team <br>\n",
    "FG3_PCT_home --> Three Point Percentageof the home team <br>\n",
    "AST_home --> Assists of the home team <br>\n",
    "REB_home --> Rebounds of the home team <br>"
   ]
  },
  {
   "cell_type": "markdown",
   "id": "living-genius",
   "metadata": {},
   "source": [
    "# Classification test: "
   ]
  },
  {
   "cell_type": "code",
   "execution_count": 114,
   "id": "stuck-radar",
   "metadata": {},
   "outputs": [
    {
     "name": "stdout",
     "output_type": "stream",
     "text": [
      "(4001, 6) (4001,)\n"
     ]
    }
   ],
   "source": [
    "# Assign X (data) and y (target)\n",
    "X = df_games_corr.drop(\"HOME_TEAM_WINS\", axis=1)\n",
    "y = df_games_corr[\"HOME_TEAM_WINS\"]\n",
    "print(X.shape, y.shape)"
   ]
  },
  {
   "cell_type": "code",
   "execution_count": 115,
   "id": "rolled-territory",
   "metadata": {},
   "outputs": [],
   "source": [
    "# Split our data into training and testing\n",
    "from sklearn.model_selection import train_test_split\n",
    "\n",
    "X_train, X_test, y_train, y_test = train_test_split(X, y, random_state=1)"
   ]
  },
  {
   "cell_type": "code",
   "execution_count": 126,
   "id": "burning-orientation",
   "metadata": {},
   "outputs": [
    {
     "data": {
      "text/plain": [
       "LogisticRegression(max_iter=2000)"
      ]
     },
     "execution_count": 126,
     "metadata": {},
     "output_type": "execute_result"
    }
   ],
   "source": [
    "from sklearn.linear_model import LogisticRegression\n",
    "classifier = LogisticRegression(max_iter=2000)\n",
    "classifier"
   ]
  },
  {
   "cell_type": "code",
   "execution_count": 127,
   "id": "private-harvard",
   "metadata": {},
   "outputs": [
    {
     "data": {
      "text/plain": [
       "LogisticRegression(max_iter=2000)"
      ]
     },
     "execution_count": 127,
     "metadata": {},
     "output_type": "execute_result"
    }
   ],
   "source": [
    "classifier.fit(X_train, y_train)"
   ]
  },
  {
   "cell_type": "code",
   "execution_count": 128,
   "id": "younger-script",
   "metadata": {},
   "outputs": [
    {
     "name": "stdout",
     "output_type": "stream",
     "text": [
      "Training Data Score: 0.773\n",
      "Testing Data Score: 0.7702297702297702\n"
     ]
    }
   ],
   "source": [
    "#Validate the model using the test data\n",
    "print(f\"Training Data Score: {classifier.score(X_train, y_train)}\")\n",
    "print(f\"Testing Data Score: {classifier.score(X_test, y_test)}\")"
   ]
  },
  {
   "cell_type": "code",
   "execution_count": 132,
   "id": "filled-shame",
   "metadata": {},
   "outputs": [
    {
     "name": "stdout",
     "output_type": "stream",
     "text": [
      "First 10 Predictions:   [0 0 1 0 1 1 0 0 0 1]\n",
      "First 10 Actual labels: [0, 1, 0, 1, 1, 1, 0, 0, 0, 1]\n"
     ]
    }
   ],
   "source": [
    "# Make predictions\n",
    "predictions = classifier.predict(X_test)\n",
    "print(f\"First 10 Predictions:   {predictions[:10]}\")\n",
    "print(f\"First 10 Actual labels: {y_test[:10].tolist()}\")"
   ]
  },
  {
   "cell_type": "code",
   "execution_count": 134,
   "id": "nonprofit-sheet",
   "metadata": {},
   "outputs": [
    {
     "data": {
      "text/html": [
       "<div>\n",
       "<style scoped>\n",
       "    .dataframe tbody tr th:only-of-type {\n",
       "        vertical-align: middle;\n",
       "    }\n",
       "\n",
       "    .dataframe tbody tr th {\n",
       "        vertical-align: top;\n",
       "    }\n",
       "\n",
       "    .dataframe thead th {\n",
       "        text-align: right;\n",
       "    }\n",
       "</style>\n",
       "<table border=\"1\" class=\"dataframe\">\n",
       "  <thead>\n",
       "    <tr style=\"text-align: right;\">\n",
       "      <th></th>\n",
       "      <th>Prediction</th>\n",
       "      <th>Actual</th>\n",
       "    </tr>\n",
       "  </thead>\n",
       "  <tbody>\n",
       "    <tr>\n",
       "      <th>0</th>\n",
       "      <td>0</td>\n",
       "      <td>0</td>\n",
       "    </tr>\n",
       "    <tr>\n",
       "      <th>1</th>\n",
       "      <td>0</td>\n",
       "      <td>1</td>\n",
       "    </tr>\n",
       "    <tr>\n",
       "      <th>2</th>\n",
       "      <td>1</td>\n",
       "      <td>0</td>\n",
       "    </tr>\n",
       "    <tr>\n",
       "      <th>3</th>\n",
       "      <td>0</td>\n",
       "      <td>1</td>\n",
       "    </tr>\n",
       "    <tr>\n",
       "      <th>4</th>\n",
       "      <td>1</td>\n",
       "      <td>1</td>\n",
       "    </tr>\n",
       "  </tbody>\n",
       "</table>\n",
       "</div>"
      ],
      "text/plain": [
       "   Prediction  Actual\n",
       "0           0       0\n",
       "1           0       1\n",
       "2           1       0\n",
       "3           0       1\n",
       "4           1       1"
      ]
     },
     "execution_count": 134,
     "metadata": {},
     "output_type": "execute_result"
    }
   ],
   "source": [
    "df_class = pd.DataFrame({\"Prediction\": predictions, \"Actual\": y_test}).reset_index(drop=True)\n",
    "df_class.head()"
   ]
  },
  {
   "cell_type": "code",
   "execution_count": 137,
   "id": "moving-approval",
   "metadata": {},
   "outputs": [
    {
     "data": {
      "text/plain": [
       "612"
      ]
     },
     "execution_count": 137,
     "metadata": {},
     "output_type": "execute_result"
    }
   ],
   "source": [
    "df_class[\"Prediction\"].sum()"
   ]
  },
  {
   "cell_type": "code",
   "execution_count": 138,
   "id": "civilian-desktop",
   "metadata": {},
   "outputs": [
    {
     "data": {
      "text/plain": [
       "594"
      ]
     },
     "execution_count": 138,
     "metadata": {},
     "output_type": "execute_result"
    }
   ],
   "source": [
    "df_class[\"Actual\"].sum()"
   ]
  },
  {
   "cell_type": "markdown",
   "id": "modern-chaos",
   "metadata": {},
   "source": [
    "Classification is helping only if we already have the data -- for example, if we want to predict if a team can win at the half time, based on the first half of the game performance. \n",
    "Since basketball is all about the team work, so let's do a multi linear regression and put all score factors in."
   ]
  },
  {
   "cell_type": "markdown",
   "id": "binary-satisfaction",
   "metadata": {},
   "source": [
    "PTS_home --> Number of points scored by home team <br>\n",
    "FG_PCT_home --> Field Goal Percentage home team <br>\n",
    "FT_PCT_home\t--> Free Throw Percentage of the home team <br>\n",
    "FG3_PCT_home --> Three Point Percentageof the home team <br>\n",
    "AST_home --> Assists of the home team <br>\n",
    "REB_home --> Rebounds of the home team <br>"
   ]
  },
  {
   "cell_type": "markdown",
   "id": "second-wilderness",
   "metadata": {},
   "source": [
    "# Use 2018 (season 2017) and 2019 (season 2018) data to train the model, and 2020 (season 2019) data to test the model, and to predict"
   ]
  },
  {
   "cell_type": "code",
   "execution_count": 160,
   "id": "geological-recipient",
   "metadata": {},
   "outputs": [
    {
     "data": {
      "text/html": [
       "<div>\n",
       "<style scoped>\n",
       "    .dataframe tbody tr th:only-of-type {\n",
       "        vertical-align: middle;\n",
       "    }\n",
       "\n",
       "    .dataframe tbody tr th {\n",
       "        vertical-align: top;\n",
       "    }\n",
       "\n",
       "    .dataframe thead th {\n",
       "        text-align: right;\n",
       "    }\n",
       "</style>\n",
       "<table border=\"1\" class=\"dataframe\">\n",
       "  <thead>\n",
       "    <tr style=\"text-align: right;\">\n",
       "      <th></th>\n",
       "      <th>SEASON</th>\n",
       "      <th>TEAM_ID_home</th>\n",
       "      <th>PTS_home</th>\n",
       "      <th>FG_PCT_home</th>\n",
       "      <th>FT_PCT_home</th>\n",
       "      <th>FG3_PCT_home</th>\n",
       "      <th>AST_home</th>\n",
       "      <th>REB_home</th>\n",
       "      <th>HOME_TEAM_NAME</th>\n",
       "    </tr>\n",
       "  </thead>\n",
       "  <tbody>\n",
       "    <tr>\n",
       "      <th>0</th>\n",
       "      <td>2019</td>\n",
       "      <td>1610612748</td>\n",
       "      <td>93.0</td>\n",
       "      <td>0.443</td>\n",
       "      <td>0.591</td>\n",
       "      <td>0.357</td>\n",
       "      <td>25.0</td>\n",
       "      <td>41.0</td>\n",
       "      <td>Heat</td>\n",
       "    </tr>\n",
       "    <tr>\n",
       "      <th>1</th>\n",
       "      <td>2019</td>\n",
       "      <td>1610612747</td>\n",
       "      <td>108.0</td>\n",
       "      <td>0.463</td>\n",
       "      <td>0.857</td>\n",
       "      <td>0.368</td>\n",
       "      <td>21.0</td>\n",
       "      <td>41.0</td>\n",
       "      <td>Lakers</td>\n",
       "    </tr>\n",
       "    <tr>\n",
       "      <th>2</th>\n",
       "      <td>2019</td>\n",
       "      <td>1610612748</td>\n",
       "      <td>96.0</td>\n",
       "      <td>0.427</td>\n",
       "      <td>0.808</td>\n",
       "      <td>0.344</td>\n",
       "      <td>18.0</td>\n",
       "      <td>39.0</td>\n",
       "      <td>Heat</td>\n",
       "    </tr>\n",
       "    <tr>\n",
       "      <th>3</th>\n",
       "      <td>2019</td>\n",
       "      <td>1610612748</td>\n",
       "      <td>115.0</td>\n",
       "      <td>0.513</td>\n",
       "      <td>0.913</td>\n",
       "      <td>0.353</td>\n",
       "      <td>25.0</td>\n",
       "      <td>37.0</td>\n",
       "      <td>Heat</td>\n",
       "    </tr>\n",
       "    <tr>\n",
       "      <th>4</th>\n",
       "      <td>2019</td>\n",
       "      <td>1610612747</td>\n",
       "      <td>124.0</td>\n",
       "      <td>0.505</td>\n",
       "      <td>0.588</td>\n",
       "      <td>0.340</td>\n",
       "      <td>32.0</td>\n",
       "      <td>44.0</td>\n",
       "      <td>Lakers</td>\n",
       "    </tr>\n",
       "  </tbody>\n",
       "</table>\n",
       "</div>"
      ],
      "text/plain": [
       "   SEASON  TEAM_ID_home  PTS_home  FG_PCT_home  FT_PCT_home  FG3_PCT_home  \\\n",
       "0    2019    1610612748      93.0        0.443        0.591         0.357   \n",
       "1    2019    1610612747     108.0        0.463        0.857         0.368   \n",
       "2    2019    1610612748      96.0        0.427        0.808         0.344   \n",
       "3    2019    1610612748     115.0        0.513        0.913         0.353   \n",
       "4    2019    1610612747     124.0        0.505        0.588         0.340   \n",
       "\n",
       "   AST_home  REB_home HOME_TEAM_NAME  \n",
       "0      25.0      41.0           Heat  \n",
       "1      21.0      41.0         Lakers  \n",
       "2      18.0      39.0           Heat  \n",
       "3      25.0      37.0           Heat  \n",
       "4      32.0      44.0         Lakers  "
      ]
     },
     "execution_count": 160,
     "metadata": {},
     "output_type": "execute_result"
    }
   ],
   "source": [
    "df_games_linear.head()"
   ]
  },
  {
   "cell_type": "code",
   "execution_count": 144,
   "id": "incorporated-toilet",
   "metadata": {},
   "outputs": [],
   "source": [
    "# Multiple Linear Regression\n",
    "df_games_linear = df_games\n",
    "\n",
    "# drop all visitor team data: \n",
    "for col in df_games_linear.columns: \n",
    "    if 'away' in col: \n",
    "        del df_games_linear[col]"
   ]
  },
  {
   "cell_type": "code",
   "execution_count": 147,
   "id": "central-classic",
   "metadata": {},
   "outputs": [],
   "source": [
    "# Remove all columns between column name 'GAME_DATE_EST' to 'TEAM_ID_home' \n",
    "df_games_linear = df_games_linear.drop(df_games_linear.loc[:, 'GAME_DATE_EST':'VISITOR_TEAM_ID'].columns, axis = 1)\n",
    "df_games_linear = df_games_linear.drop(df_games_linear.loc[:, 'TEAM_ID_y':'VISITOR_TEAM_NAME'].columns, axis = 1)"
   ]
  },
  {
   "cell_type": "code",
   "execution_count": 149,
   "id": "civilian-information",
   "metadata": {},
   "outputs": [],
   "source": [
    "df_games_linear = df_games_linear.drop(['TEAM_ID_x'], axis=1)"
   ]
  },
  {
   "cell_type": "code",
   "execution_count": 159,
   "id": "surprising-trouble",
   "metadata": {},
   "outputs": [],
   "source": [
    "df_games_linear = df_games_linear.drop(['HOME_TEAM_WINS'], axis=1)"
   ]
  },
  {
   "cell_type": "code",
   "execution_count": 181,
   "id": "higher-father",
   "metadata": {},
   "outputs": [],
   "source": [
    "# seperate the data per season: \n",
    "\n",
    "df_games_linear_Train = df_games_linear[df_games_linear.SEASON == 2017 | 2018]\n",
    "df_games_linear_Test = df_games_linear[df_games_linear.SEASON == 2019]\n"
   ]
  },
  {
   "cell_type": "code",
   "execution_count": 142,
   "id": "dressed-journalism",
   "metadata": {},
   "outputs": [
    {
     "data": {
      "text/plain": [
       "LinearRegression()"
      ]
     },
     "execution_count": 142,
     "metadata": {},
     "output_type": "execute_result"
    }
   ],
   "source": [
    "from sklearn.datasets import make_regression\n",
    "from sklearn.linear_model import LinearRegression\n",
    "model = LinearRegression()\n",
    "model"
   ]
  },
  {
   "cell_type": "code",
   "execution_count": 182,
   "id": "trying-finnish",
   "metadata": {},
   "outputs": [],
   "source": [
    "# Set features. This will also be used as your x values.\n",
    "selected_features = ['FG_PCT_home','FT_PCT_home', 'FG3_PCT_home','AST_home','REB_home']\n",
    "\n",
    "x_train = df_games_linear_Train[selected_features]\n",
    "x_test = df_games_linear_Test[selected_features]\n",
    "\n",
    "y_train = df_games_linear_Train['PTS_home']\n",
    "y_test = df_games_linear_Test['PTS_home']"
   ]
  },
  {
   "cell_type": "code",
   "execution_count": 183,
   "id": "right-south",
   "metadata": {},
   "outputs": [
    {
     "name": "stdout",
     "output_type": "stream",
     "text": [
      "Weight coefficients:  [124.11328749  25.35134879  32.7660067    0.39667873   0.44265754]\n",
      "y-axis intercept:  -6.41379772629594\n"
     ]
    }
   ],
   "source": [
    "# Fitting our model with all of our features in X\n",
    "model.fit(x_train, y_train)\n",
    "\n",
    "print('Weight coefficients: ', model.coef_)\n",
    "print('y-axis intercept: ', model.intercept_) "
   ]
  },
  {
   "cell_type": "markdown",
   "id": "equal-stupid",
   "metadata": {},
   "source": [
    "Therefore our linear equation is: \n",
    "Y = -6.41379772629594 + 124.11328749 X1 + 25.35134879 X2 + 32.7660067 X3 + 0.39667873 X4 + 0.44265754 X5"
   ]
  },
  {
   "cell_type": "markdown",
   "id": "powered-baker",
   "metadata": {},
   "source": [
    "Y -- PTS_home --> Number of points scored by home team <br>\n",
    "X1 -- FG_PCT_home --> Field Goal Percentage home team <br>\n",
    "X2 -- FT_PCT_home\t--> Free Throw Percentage of the home team <br>\n",
    "X3 -- FG3_PCT_home --> Three Point Percentageof the home team <br>\n",
    "X4 -- AST_home --> Assists of the home team <br>\n",
    "X5 -- REB_home --> Rebounds of the home team <br>"
   ]
  },
  {
   "cell_type": "code",
   "execution_count": 184,
   "id": "multiple-friendly",
   "metadata": {},
   "outputs": [
    {
     "name": "stdout",
     "output_type": "stream",
     "text": [
      "R2 Score: 0.6470606818113839\n"
     ]
    }
   ],
   "source": [
    "score = model.score(x_train, y_train)\n",
    "print(f\"R2 Score: {score}\")"
   ]
  },
  {
   "cell_type": "code",
   "execution_count": 185,
   "id": "local-standing",
   "metadata": {},
   "outputs": [
    {
     "data": {
      "image/png": "[encoded data removed]",
      "text/plain": [
       "<Figure size 432x288 with 1 Axes>"
      ]
     },
     "metadata": {
      "needs_background": "light"
     },
     "output_type": "display_data"
    }
   ],
   "source": [
    "predictions = model.predict(x_test)\n",
    "# Plot Residuals\n",
    "plt.scatter(predictions, predictions - y_test)\n",
    "plt.hlines(y=0, xmin=predictions.min(), xmax=predictions.max())\n",
    "plt.show()"
   ]
  },
  {
   "cell_type": "code",
   "execution_count": 218,
   "id": "allied-respect",
   "metadata": {},
   "outputs": [],
   "source": [
    "pd_linear_test = pd.DataFrame({\"Predicted\": predictions, \"Actual\": y_test, \"Error\": predictions - y_test})[[\"Predicted\", \"Actual\", \"Error\"]]\n",
    "pd_linear_test[\"Team\"] = df_games_linear_Test[\"HOME_TEAM_NAME\"]"
   ]
  },
  {
   "cell_type": "code",
   "execution_count": 219,
   "id": "scheduled-advancement",
   "metadata": {},
   "outputs": [
    {
     "data": {
      "text/html": [
       "<div>\n",
       "<style scoped>\n",
       "    .dataframe tbody tr th:only-of-type {\n",
       "        vertical-align: middle;\n",
       "    }\n",
       "\n",
       "    .dataframe tbody tr th {\n",
       "        vertical-align: top;\n",
       "    }\n",
       "\n",
       "    .dataframe thead th {\n",
       "        text-align: right;\n",
       "    }\n",
       "</style>\n",
       "<table border=\"1\" class=\"dataframe\">\n",
       "  <thead>\n",
       "    <tr style=\"text-align: right;\">\n",
       "      <th></th>\n",
       "      <th>game #</th>\n",
       "      <th>Predicted</th>\n",
       "      <th>Actual</th>\n",
       "      <th>Error</th>\n",
       "      <th>Team</th>\n",
       "    </tr>\n",
       "  </thead>\n",
       "  <tbody>\n",
       "    <tr>\n",
       "      <th>0</th>\n",
       "      <td>0</td>\n",
       "      <td>103.314428</td>\n",
       "      <td>93.0</td>\n",
       "      <td>10.314428</td>\n",
       "      <td>Heat</td>\n",
       "    </tr>\n",
       "    <tr>\n",
       "      <th>1</th>\n",
       "      <td>1</td>\n",
       "      <td>111.313863</td>\n",
       "      <td>108.0</td>\n",
       "      <td>3.313863</td>\n",
       "      <td>Lakers</td>\n",
       "    </tr>\n",
       "    <tr>\n",
       "      <th>2</th>\n",
       "      <td>2</td>\n",
       "      <td>102.741833</td>\n",
       "      <td>96.0</td>\n",
       "      <td>6.741833</td>\n",
       "      <td>Heat</td>\n",
       "    </tr>\n",
       "    <tr>\n",
       "      <th>3</th>\n",
       "      <td>3</td>\n",
       "      <td>118.263798</td>\n",
       "      <td>115.0</td>\n",
       "      <td>3.263798</td>\n",
       "      <td>Heat</td>\n",
       "    </tr>\n",
       "    <tr>\n",
       "      <th>4</th>\n",
       "      <td>4</td>\n",
       "      <td>114.481099</td>\n",
       "      <td>124.0</td>\n",
       "      <td>-9.518901</td>\n",
       "      <td>Lakers</td>\n",
       "    </tr>\n",
       "  </tbody>\n",
       "</table>\n",
       "</div>"
      ],
      "text/plain": [
       "   game #   Predicted  Actual      Error    Team\n",
       "0       0  103.314428    93.0  10.314428    Heat\n",
       "1       1  111.313863   108.0   3.313863  Lakers\n",
       "2       2  102.741833    96.0   6.741833    Heat\n",
       "3       3  118.263798   115.0   3.263798    Heat\n",
       "4       4  114.481099   124.0  -9.518901  Lakers"
      ]
     },
     "execution_count": 219,
     "metadata": {},
     "output_type": "execute_result"
    }
   ],
   "source": [
    "pd_linear_test = pd_linear_test.reset_index()\n",
    "pd_linear_test.head()"
   ]
  },
  {
   "cell_type": "code",
   "execution_count": 213,
   "id": "charming-notice",
   "metadata": {},
   "outputs": [
    {
     "data": {
      "image/png": "[encoded data removed]",
      "text/plain": [
       "<Figure size 1440x864 with 1 Axes>"
      ]
     },
     "metadata": {
      "needs_background": "light"
     },
     "output_type": "display_data"
    }
   ],
   "source": [
    "# multiple line plots\n",
    "plt.rcParams[\"figure.figsize\"] = (20,12)\n",
    "plt.plot( 'game #', 'Actual', data=pd_linear_test, marker='', color='olive', linewidth=2)\n",
    "plt.plot( 'game #', 'Predicted', data=pd_linear_test, marker='', color='darkorange', linewidth=2, linestyle='dashed', label=\"Predicted\")\n",
    "plt.plot( 'game #', 'Error', data=pd_linear_test, marker='o', markerfacecolor='blue', markersize=5, color='skyblue', linewidth=4)\n",
    "# show legend\n",
    "plt.legend()\n",
    "\n",
    "# show graph\n",
    "plt.show()"
   ]
  },
  {
   "cell_type": "code",
   "execution_count": 220,
   "id": "designed-mixer",
   "metadata": {},
   "outputs": [],
   "source": [
    "# test --> prediction sum points vs. actual sum points\n",
    "pd_linear_test_1 = pd_linear_test.groupby(['Team'],as_index=False)[['Predicted','Actual']].sum()"
   ]
  },
  {
   "cell_type": "code",
   "execution_count": 224,
   "id": "stuck-level",
   "metadata": {},
   "outputs": [
    {
     "data": {
      "text/html": [
       "<div>\n",
       "<style scoped>\n",
       "    .dataframe tbody tr th:only-of-type {\n",
       "        vertical-align: middle;\n",
       "    }\n",
       "\n",
       "    .dataframe tbody tr th {\n",
       "        vertical-align: top;\n",
       "    }\n",
       "\n",
       "    .dataframe thead th {\n",
       "        text-align: right;\n",
       "    }\n",
       "</style>\n",
       "<table border=\"1\" class=\"dataframe\">\n",
       "  <thead>\n",
       "    <tr style=\"text-align: right;\">\n",
       "      <th></th>\n",
       "      <th>Team</th>\n",
       "      <th>Predicted</th>\n",
       "      <th>Actual</th>\n",
       "    </tr>\n",
       "  </thead>\n",
       "  <tbody>\n",
       "    <tr>\n",
       "      <th>13</th>\n",
       "      <td>Lakers</td>\n",
       "      <td>5982.349010</td>\n",
       "      <td>5916.0</td>\n",
       "    </tr>\n",
       "    <tr>\n",
       "      <th>8</th>\n",
       "      <td>Heat</td>\n",
       "      <td>5905.524652</td>\n",
       "      <td>5841.0</td>\n",
       "    </tr>\n",
       "    <tr>\n",
       "      <th>17</th>\n",
       "      <td>Nuggets</td>\n",
       "      <td>5595.060665</td>\n",
       "      <td>5409.0</td>\n",
       "    </tr>\n",
       "    <tr>\n",
       "      <th>4</th>\n",
       "      <td>Celtics</td>\n",
       "      <td>5448.922371</td>\n",
       "      <td>5504.0</td>\n",
       "    </tr>\n",
       "    <tr>\n",
       "      <th>5</th>\n",
       "      <td>Clippers</td>\n",
       "      <td>5428.589445</td>\n",
       "      <td>5507.0</td>\n",
       "    </tr>\n",
       "    <tr>\n",
       "      <th>1</th>\n",
       "      <td>Bucks</td>\n",
       "      <td>5246.518418</td>\n",
       "      <td>5363.0</td>\n",
       "    </tr>\n",
       "    <tr>\n",
       "      <th>21</th>\n",
       "      <td>Raptors</td>\n",
       "      <td>5205.387882</td>\n",
       "      <td>5177.0</td>\n",
       "    </tr>\n",
       "    <tr>\n",
       "      <th>15</th>\n",
       "      <td>Mavericks</td>\n",
       "      <td>4959.202544</td>\n",
       "      <td>5156.0</td>\n",
       "    </tr>\n",
       "    <tr>\n",
       "      <th>18</th>\n",
       "      <td>Pacers</td>\n",
       "      <td>4922.896806</td>\n",
       "      <td>4744.0</td>\n",
       "    </tr>\n",
       "    <tr>\n",
       "      <th>22</th>\n",
       "      <td>Rockets</td>\n",
       "      <td>4905.149658</td>\n",
       "      <td>5265.0</td>\n",
       "    </tr>\n",
       "  </tbody>\n",
       "</table>\n",
       "</div>"
      ],
      "text/plain": [
       "         Team    Predicted  Actual\n",
       "13     Lakers  5982.349010  5916.0\n",
       "8        Heat  5905.524652  5841.0\n",
       "17    Nuggets  5595.060665  5409.0\n",
       "4     Celtics  5448.922371  5504.0\n",
       "5    Clippers  5428.589445  5507.0\n",
       "1       Bucks  5246.518418  5363.0\n",
       "21    Raptors  5205.387882  5177.0\n",
       "15  Mavericks  4959.202544  5156.0\n",
       "18     Pacers  4922.896806  4744.0\n",
       "22    Rockets  4905.149658  5265.0"
      ]
     },
     "execution_count": 224,
     "metadata": {},
     "output_type": "execute_result"
    }
   ],
   "source": [
    "pd_linear_test_1 = pd_linear_test_1.sort_values(by = 'Predicted', ascending=False)\n",
    "pd_linear_test_1.head(10)"
   ]
  },
  {
   "cell_type": "code",
   "execution_count": 243,
   "id": "medium-demand",
   "metadata": {},
   "outputs": [
    {
     "data": {
      "text/html": [
       "<div>\n",
       "<style scoped>\n",
       "    .dataframe tbody tr th:only-of-type {\n",
       "        vertical-align: middle;\n",
       "    }\n",
       "\n",
       "    .dataframe tbody tr th {\n",
       "        vertical-align: top;\n",
       "    }\n",
       "\n",
       "    .dataframe thead th {\n",
       "        text-align: right;\n",
       "    }\n",
       "</style>\n",
       "<table border=\"1\" class=\"dataframe\">\n",
       "  <thead>\n",
       "    <tr style=\"text-align: right;\">\n",
       "      <th></th>\n",
       "      <th>HOME_TEAM_NAME</th>\n",
       "      <th>FG_PCT_home</th>\n",
       "      <th>FT_PCT_home</th>\n",
       "      <th>FG3_PCT_home</th>\n",
       "      <th>AST_home</th>\n",
       "      <th>REB_home</th>\n",
       "    </tr>\n",
       "  </thead>\n",
       "  <tbody>\n",
       "    <tr>\n",
       "      <th>0</th>\n",
       "      <td>76ers</td>\n",
       "      <td>0.474403</td>\n",
       "      <td>0.769439</td>\n",
       "      <td>0.365187</td>\n",
       "      <td>0.272014</td>\n",
       "      <td>0.480504</td>\n",
       "    </tr>\n",
       "    <tr>\n",
       "      <th>1</th>\n",
       "      <td>Bucks</td>\n",
       "      <td>0.481127</td>\n",
       "      <td>0.757007</td>\n",
       "      <td>0.359859</td>\n",
       "      <td>0.255070</td>\n",
       "      <td>0.473099</td>\n",
       "    </tr>\n",
       "    <tr>\n",
       "      <th>2</th>\n",
       "      <td>Bulls</td>\n",
       "      <td>0.444128</td>\n",
       "      <td>0.766016</td>\n",
       "      <td>0.351488</td>\n",
       "      <td>0.236080</td>\n",
       "      <td>0.437840</td>\n",
       "    </tr>\n",
       "    <tr>\n",
       "      <th>3</th>\n",
       "      <td>Cavaliers</td>\n",
       "      <td>0.462618</td>\n",
       "      <td>0.773919</td>\n",
       "      <td>0.361206</td>\n",
       "      <td>0.226838</td>\n",
       "      <td>0.434265</td>\n",
       "    </tr>\n",
       "    <tr>\n",
       "      <th>4</th>\n",
       "      <td>Celtics</td>\n",
       "      <td>0.462349</td>\n",
       "      <td>0.791953</td>\n",
       "      <td>0.366121</td>\n",
       "      <td>0.247718</td>\n",
       "      <td>0.454497</td>\n",
       "    </tr>\n",
       "  </tbody>\n",
       "</table>\n",
       "</div>"
      ],
      "text/plain": [
       "  HOME_TEAM_NAME  FG_PCT_home  FT_PCT_home  FG3_PCT_home  AST_home  REB_home\n",
       "0          76ers     0.474403     0.769439      0.365187  0.272014  0.480504\n",
       "1          Bucks     0.481127     0.757007      0.359859  0.255070  0.473099\n",
       "2          Bulls     0.444128     0.766016      0.351488  0.236080  0.437840\n",
       "3      Cavaliers     0.462618     0.773919      0.361206  0.226838  0.434265\n",
       "4        Celtics     0.462349     0.791953      0.366121  0.247718  0.454497"
      ]
     },
     "execution_count": 243,
     "metadata": {},
     "output_type": "execute_result"
    }
   ],
   "source": [
    "# Top 3 teams that has won the most championships: Boston Celtics, LA Lakers, Chicago Bulls (from Google)\n",
    "# Boston Celtics, LA Lakers, Chicago Bulls, Miami Heat -- Teams I will study with \n",
    "\n",
    "# Now lets look at these 'top 4' teams performance\n",
    "\n",
    "pd_spider = df_games_linear\n",
    "pd_spider = pd_spider.groupby(['HOME_TEAM_NAME'],as_index=False)[['FG_PCT_home','FT_PCT_home','FG3_PCT_home','AST_home','REB_home']].mean()\n",
    "pd_spider['AST_home'] = pd_spider['AST_home'] / 100\n",
    "pd_spider['REB_home'] = pd_spider['REB_home'] / 100\n",
    "pd_spider.head()"
   ]
  },
  {
   "cell_type": "code",
   "execution_count": 244,
   "id": "colonial-actress",
   "metadata": {},
   "outputs": [
    {
     "data": {
      "text/html": [
       "<div>\n",
       "<style scoped>\n",
       "    .dataframe tbody tr th:only-of-type {\n",
       "        vertical-align: middle;\n",
       "    }\n",
       "\n",
       "    .dataframe tbody tr th {\n",
       "        vertical-align: top;\n",
       "    }\n",
       "\n",
       "    .dataframe thead th {\n",
       "        text-align: right;\n",
       "    }\n",
       "</style>\n",
       "<table border=\"1\" class=\"dataframe\">\n",
       "  <thead>\n",
       "    <tr style=\"text-align: right;\">\n",
       "      <th></th>\n",
       "      <th>HOME_TEAM_NAME</th>\n",
       "      <th>FG_PCT_home</th>\n",
       "      <th>FT_PCT_home</th>\n",
       "      <th>FG3_PCT_home</th>\n",
       "      <th>AST_home</th>\n",
       "      <th>REB_home</th>\n",
       "    </tr>\n",
       "  </thead>\n",
       "  <tbody>\n",
       "    <tr>\n",
       "      <th>2</th>\n",
       "      <td>Bulls</td>\n",
       "      <td>0.444128</td>\n",
       "      <td>0.766016</td>\n",
       "      <td>0.351488</td>\n",
       "      <td>0.236080</td>\n",
       "      <td>0.437840</td>\n",
       "    </tr>\n",
       "    <tr>\n",
       "      <th>4</th>\n",
       "      <td>Celtics</td>\n",
       "      <td>0.462349</td>\n",
       "      <td>0.791953</td>\n",
       "      <td>0.366121</td>\n",
       "      <td>0.247718</td>\n",
       "      <td>0.454497</td>\n",
       "    </tr>\n",
       "    <tr>\n",
       "      <th>8</th>\n",
       "      <td>Heat</td>\n",
       "      <td>0.464142</td>\n",
       "      <td>0.743496</td>\n",
       "      <td>0.367099</td>\n",
       "      <td>0.243546</td>\n",
       "      <td>0.448227</td>\n",
       "    </tr>\n",
       "    <tr>\n",
       "      <th>13</th>\n",
       "      <td>Lakers</td>\n",
       "      <td>0.470444</td>\n",
       "      <td>0.726104</td>\n",
       "      <td>0.333299</td>\n",
       "      <td>0.255139</td>\n",
       "      <td>0.468194</td>\n",
       "    </tr>\n",
       "  </tbody>\n",
       "</table>\n",
       "</div>"
      ],
      "text/plain": [
       "   HOME_TEAM_NAME  FG_PCT_home  FT_PCT_home  FG3_PCT_home  AST_home  REB_home\n",
       "2           Bulls     0.444128     0.766016      0.351488  0.236080  0.437840\n",
       "4         Celtics     0.462349     0.791953      0.366121  0.247718  0.454497\n",
       "8            Heat     0.464142     0.743496      0.367099  0.243546  0.448227\n",
       "13         Lakers     0.470444     0.726104      0.333299  0.255139  0.468194"
      ]
     },
     "execution_count": 244,
     "metadata": {},
     "output_type": "execute_result"
    }
   ],
   "source": [
    "searchfor = ['Heat', 'Bulls','Celtics','Lakers']\n",
    "pd_spider = pd_spider[pd_spider.HOME_TEAM_NAME.str.contains('|'.join(searchfor))]\n",
    "pd_spider"
   ]
  },
  {
   "cell_type": "code",
   "execution_count": 262,
   "id": "ready-newman",
   "metadata": {},
   "outputs": [
    {
     "data": {
      "text/plain": [
       "'Bulls'"
      ]
     },
     "execution_count": 262,
     "metadata": {},
     "output_type": "execute_result"
    }
   ],
   "source": [
    "pd_spider.iloc[0]['HOME_TEAM_NAME']"
   ]
  },
  {
   "cell_type": "code",
   "execution_count": 245,
   "id": "continent-concern",
   "metadata": {},
   "outputs": [],
   "source": [
    "from math import pi"
   ]
  },
  {
   "cell_type": "code",
   "execution_count": 254,
   "id": "simple-craft",
   "metadata": {},
   "outputs": [],
   "source": [
    "import plotly.graph_objects as go\n",
    "from plotly.subplots import make_subplots"
   ]
  },
  {
   "cell_type": "code",
   "execution_count": 267,
   "id": "premium-leader",
   "metadata": {},
   "outputs": [
    {
     "data": {
      "application/vnd.plotly.v1+json": {
       "config": {
        "plotlyServerURL": "https://plot.ly"
       },
       "data": [
        {
         "fill": "toself",
         "name": "Bulls",
         "r": [
          0.4441280000000001,
          0.766016,
          0.3514880000000001,
          0.23608,
          0.43784
         ],
         "theta": [
          "FG_PCT_home",
          "FT_PCT_home",
          "FG3_PCT_home",
          "AST_home",
          "REB_home"
         ],
         "type": "scatterpolar"
        },
        {
         "fill": "toself",
         "name": "Celtics",
         "r": [
          0.4623489932885908,
          0.7919530201342282,
          0.36612080536912733,
          0.24771812080536912,
          0.454496644295302
         ],
         "theta": [
          "FG_PCT_home",
          "FT_PCT_home",
          "FG3_PCT_home",
          "AST_home",
          "REB_home"
         ],
         "type": "scatterpolar"
        },
        {
         "fill": "toself",
         "name": "Heat",
         "r": [
          0.4641418439716312,
          0.743496453900709,
          0.36709929078014164,
          0.24354609929078014,
          0.44822695035460997
         ],
         "theta": [
          "FG_PCT_home",
          "FT_PCT_home",
          "FG3_PCT_home",
          "AST_home",
          "REB_home"
         ],
         "type": "scatterpolar"
        },
        {
         "fill": "toself",
         "name": "Lakers",
         "r": [
          0.47044444444444433,
          0.7261041666666666,
          0.333298611111111,
          0.2551388888888889,
          0.4681944444444444
         ],
         "theta": [
          "FG_PCT_home",
          "FT_PCT_home",
          "FG3_PCT_home",
          "AST_home",
          "REB_home"
         ],
         "type": "scatterpolar"
        }
       ],
       "layout": {
        "polar": {
         "radialaxis": {
          "range": [
           0,
           0.8
          ],
          "visible": true
         }
        },
        "template": {
         "data": {
          "bar": [
           {
            "error_x": {
             "color": "#2a3f5f"
            },
            "error_y": {
             "color": "#2a3f5f"
            },
            "marker": {
             "line": {
              "color": "#E5ECF6",
              "width": 0.5
             }
            },
            "type": "bar"
           }
          ],
          "barpolar": [
           {
            "marker": {
             "line": {
              "color": "#E5ECF6",
              "width": 0.5
             }
            },
            "type": "barpolar"
           }
          ],
          "carpet": [
           {
            "aaxis": {
             "endlinecolor": "#2a3f5f",
             "gridcolor": "white",
             "linecolor": "white",
             "minorgridcolor": "white",
             "startlinecolor": "#2a3f5f"
            },
            "baxis": {
             "endlinecolor": "#2a3f5f",
             "gridcolor": "white",
             "linecolor": "white",
             "minorgridcolor": "white",
             "startlinecolor": "#2a3f5f"
            },
            "type": "carpet"
           }
          ],
          "choropleth": [
           {
            "colorbar": {
             "outlinewidth": 0,
             "ticks": ""
            },
            "type": "choropleth"
           }
          ],
          "contour": [
           {
            "colorbar": {
             "outlinewidth": 0,
             "ticks": ""
            },
            "colorscale": [
             [
              0,
              "#0d0887"
             ],
             [
              0.1111111111111111,
              "#46039f"
             ],
             [
              0.2222222222222222,
              "#7201a8"
             ],
             [
              0.3333333333333333,
              "#9c179e"
             ],
             [
              0.4444444444444444,
              "#bd3786"
             ],
             [
              0.5555555555555556,
              "#d8576b"
             ],
             [
              0.6666666666666666,
              "#ed7953"
             ],
             [
              0.7777777777777778,
              "#fb9f3a"
             ],
             [
              0.8888888888888888,
              "#fdca26"
             ],
             [
              1,
              "#f0f921"
             ]
            ],
            "type": "contour"
           }
          ],
          "contourcarpet": [
           {
            "colorbar": {
             "outlinewidth": 0,
             "ticks": ""
            },
            "type": "contourcarpet"
           }
          ],
          "heatmap": [
           {
            "colorbar": {
             "outlinewidth": 0,
             "ticks": ""
            },
            "colorscale": [
             [
              0,
              "#0d0887"
             ],
             [
              0.1111111111111111,
              "#46039f"
             ],
             [
              0.2222222222222222,
              "#7201a8"
             ],
             [
              0.3333333333333333,
              "#9c179e"
             ],
             [
              0.4444444444444444,
              "#bd3786"
             ],
             [
              0.5555555555555556,
              "#d8576b"
             ],
             [
              0.6666666666666666,
              "#ed7953"
             ],
             [
              0.7777777777777778,
              "#fb9f3a"
             ],
             [
              0.8888888888888888,
              "#fdca26"
             ],
             [
              1,
              "#f0f921"
             ]
            ],
            "type": "heatmap"
           }
          ],
          "heatmapgl": [
           {
            "colorbar": {
             "outlinewidth": 0,
             "ticks": ""
            },
            "colorscale": [
             [
              0,
              "#0d0887"
             ],
             [
              0.1111111111111111,
              "#46039f"
             ],
             [
              0.2222222222222222,
              "#7201a8"
             ],
             [
              0.3333333333333333,
              "#9c179e"
             ],
             [
              0.4444444444444444,
              "#bd3786"
             ],
             [
              0.5555555555555556,
              "#d8576b"
             ],
             [
              0.6666666666666666,
              "#ed7953"
             ],
             [
              0.7777777777777778,
              "#fb9f3a"
             ],
             [
              0.8888888888888888,
              "#fdca26"
             ],
             [
              1,
              "#f0f921"
             ]
            ],
            "type": "heatmapgl"
           }
          ],
          "histogram": [
           {
            "marker": {
             "colorbar": {
              "outlinewidth": 0,
              "ticks": ""
             }
            },
            "type": "histogram"
           }
          ],
          "histogram2d": [
           {
            "colorbar": {
             "outlinewidth": 0,
             "ticks": ""
            },
            "colorscale": [
             [
              0,
              "#0d0887"
             ],
             [
              0.1111111111111111,
              "#46039f"
             ],
             [
              0.2222222222222222,
              "#7201a8"
             ],
             [
              0.3333333333333333,
              "#9c179e"
             ],
             [
              0.4444444444444444,
              "#bd3786"
             ],
             [
              0.5555555555555556,
              "#d8576b"
             ],
             [
              0.6666666666666666,
              "#ed7953"
             ],
             [
              0.7777777777777778,
              "#fb9f3a"
             ],
             [
              0.8888888888888888,
              "#fdca26"
             ],
             [
              1,
              "#f0f921"
             ]
            ],
            "type": "histogram2d"
           }
          ],
          "histogram2dcontour": [
           {
            "colorbar": {
             "outlinewidth": 0,
             "ticks": ""
            },
            "colorscale": [
             [
              0,
              "#0d0887"
             ],
             [
              0.1111111111111111,
              "#46039f"
             ],
             [
              0.2222222222222222,
              "#7201a8"
             ],
             [
              0.3333333333333333,
              "#9c179e"
             ],
             [
              0.4444444444444444,
              "#bd3786"
             ],
             [
              0.5555555555555556,
              "#d8576b"
             ],
             [
              0.6666666666666666,
              "#ed7953"
             ],
             [
              0.7777777777777778,
              "#fb9f3a"
             ],
             [
              0.8888888888888888,
              "#fdca26"
             ],
             [
              1,
              "#f0f921"
             ]
            ],
            "type": "histogram2dcontour"
           }
          ],
          "mesh3d": [
           {
            "colorbar": {
             "outlinewidth": 0,
             "ticks": ""
            },
            "type": "mesh3d"
           }
          ],
          "parcoords": [
           {
            "line": {
             "colorbar": {
              "outlinewidth": 0,
              "ticks": ""
             }
            },
            "type": "parcoords"
           }
          ],
          "pie": [
           {
            "automargin": true,
            "type": "pie"
           }
          ],
          "scatter": [
           {
            "marker": {
             "colorbar": {
              "outlinewidth": 0,
              "ticks": ""
             }
            },
            "type": "scatter"
           }
          ],
          "scatter3d": [
           {
            "line": {
             "colorbar": {
              "outlinewidth": 0,
              "ticks": ""
             }
            },
            "marker": {
             "colorbar": {
              "outlinewidth": 0,
              "ticks": ""
             }
            },
            "type": "scatter3d"
           }
          ],
          "scattercarpet": [
           {
            "marker": {
             "colorbar": {
              "outlinewidth": 0,
              "ticks": ""
             }
            },
            "type": "scattercarpet"
           }
          ],
          "scattergeo": [
           {
            "marker": {
             "colorbar": {
              "outlinewidth": 0,
              "ticks": ""
             }
            },
            "type": "scattergeo"
           }
          ],
          "scattergl": [
           {
            "marker": {
             "colorbar": {
              "outlinewidth": 0,
              "ticks": ""
             }
            },
            "type": "scattergl"
           }
          ],
          "scattermapbox": [
           {
            "marker": {
             "colorbar": {
              "outlinewidth": 0,
              "ticks": ""
             }
            },
            "type": "scattermapbox"
           }
          ],
          "scatterpolar": [
           {
            "marker": {
             "colorbar": {
              "outlinewidth": 0,
              "ticks": ""
             }
            },
            "type": "scatterpolar"
           }
          ],
          "scatterpolargl": [
           {
            "marker": {
             "colorbar": {
              "outlinewidth": 0,
              "ticks": ""
             }
            },
            "type": "scatterpolargl"
           }
          ],
          "scatterternary": [
           {
            "marker": {
             "colorbar": {
              "outlinewidth": 0,
              "ticks": ""
             }
            },
            "type": "scatterternary"
           }
          ],
          "surface": [
           {
            "colorbar": {
             "outlinewidth": 0,
             "ticks": ""
            },
            "colorscale": [
             [
              0,
              "#0d0887"
             ],
             [
              0.1111111111111111,
              "#46039f"
             ],
             [
              0.2222222222222222,
              "#7201a8"
             ],
             [
              0.3333333333333333,
              "#9c179e"
             ],
             [
              0.4444444444444444,
              "#bd3786"
             ],
             [
              0.5555555555555556,
              "#d8576b"
             ],
             [
              0.6666666666666666,
              "#ed7953"
             ],
             [
              0.7777777777777778,
              "#fb9f3a"
             ],
             [
              0.8888888888888888,
              "#fdca26"
             ],
             [
              1,
              "#f0f921"
             ]
            ],
            "type": "surface"
           }
          ],
          "table": [
           {
            "cells": {
             "fill": {
              "color": "#EBF0F8"
             },
             "line": {
              "color": "white"
             }
            },
            "header": {
             "fill": {
              "color": "#C8D4E3"
             },
             "line": {
              "color": "white"
             }
            },
            "type": "table"
           }
          ]
         },
         "layout": {
          "annotationdefaults": {
           "arrowcolor": "#2a3f5f",
           "arrowhead": 0,
           "arrowwidth": 1
          },
          "autotypenumbers": "strict",
          "coloraxis": {
           "colorbar": {
            "outlinewidth": 0,
            "ticks": ""
           }
          },
          "colorscale": {
           "diverging": [
            [
             0,
             "#8e0152"
            ],
            [
             0.1,
             "#c51b7d"
            ],
            [
             0.2,
             "#de77ae"
            ],
            [
             0.3,
             "#f1b6da"
            ],
            [
             0.4,
             "#fde0ef"
            ],
            [
             0.5,
             "#f7f7f7"
            ],
            [
             0.6,
             "#e6f5d0"
            ],
            [
             0.7,
             "#b8e186"
            ],
            [
             0.8,
             "#7fbc41"
            ],
            [
             0.9,
             "#4d9221"
            ],
            [
             1,
             "#276419"
            ]
           ],
           "sequential": [
            [
             0,
             "#0d0887"
            ],
            [
             0.1111111111111111,
             "#46039f"
            ],
            [
             0.2222222222222222,
             "#7201a8"
            ],
            [
             0.3333333333333333,
             "#9c179e"
            ],
            [
             0.4444444444444444,
             "#bd3786"
            ],
            [
             0.5555555555555556,
             "#d8576b"
            ],
            [
             0.6666666666666666,
             "#ed7953"
            ],
            [
             0.7777777777777778,
             "#fb9f3a"
            ],
            [
             0.8888888888888888,
             "#fdca26"
            ],
            [
             1,
             "#f0f921"
            ]
           ],
           "sequentialminus": [
            [
             0,
             "#0d0887"
            ],
            [
             0.1111111111111111,
             "#46039f"
            ],
            [
             0.2222222222222222,
             "#7201a8"
            ],
            [
             0.3333333333333333,
             "#9c179e"
            ],
            [
             0.4444444444444444,
             "#bd3786"
            ],
            [
             0.5555555555555556,
             "#d8576b"
            ],
            [
             0.6666666666666666,
             "#ed7953"
            ],
            [
             0.7777777777777778,
             "#fb9f3a"
            ],
            [
             0.8888888888888888,
             "#fdca26"
            ],
            [
             1,
             "#f0f921"
            ]
           ]
          },
          "colorway": [
           "#636efa",
           "#EF553B",
           "#00cc96",
           "#ab63fa",
           "#FFA15A",
           "#19d3f3",
           "#FF6692",
           "#B6E880",
           "#FF97FF",
           "#FECB52"
          ],
          "font": {
           "color": "#2a3f5f"
          },
          "geo": {
           "bgcolor": "white",
           "lakecolor": "white",
           "landcolor": "#E5ECF6",
           "showlakes": true,
           "showland": true,
           "subunitcolor": "white"
          },
          "hoverlabel": {
           "align": "left"
          },
          "hovermode": "closest",
          "mapbox": {
           "style": "light"
          },
          "paper_bgcolor": "white",
          "plot_bgcolor": "#E5ECF6",
          "polar": {
           "angularaxis": {
            "gridcolor": "white",
            "linecolor": "white",
            "ticks": ""
           },
           "bgcolor": "#E5ECF6",
           "radialaxis": {
            "gridcolor": "white",
            "linecolor": "white",
            "ticks": ""
           }
          },
          "scene": {
           "xaxis": {
            "backgroundcolor": "#E5ECF6",
            "gridcolor": "white",
            "gridwidth": 2,
            "linecolor": "white",
            "showbackground": true,
            "ticks": "",
            "zerolinecolor": "white"
           },
           "yaxis": {
            "backgroundcolor": "#E5ECF6",
            "gridcolor": "white",
            "gridwidth": 2,
            "linecolor": "white",
            "showbackground": true,
            "ticks": "",
            "zerolinecolor": "white"
           },
           "zaxis": {
            "backgroundcolor": "#E5ECF6",
            "gridcolor": "white",
            "gridwidth": 2,
            "linecolor": "white",
            "showbackground": true,
            "ticks": "",
            "zerolinecolor": "white"
           }
          },
          "shapedefaults": {
           "line": {
            "color": "#2a3f5f"
           }
          },
          "ternary": {
           "aaxis": {
            "gridcolor": "white",
            "linecolor": "white",
            "ticks": ""
           },
           "baxis": {
            "gridcolor": "white",
            "linecolor": "white",
            "ticks": ""
           },
           "bgcolor": "#E5ECF6",
           "caxis": {
            "gridcolor": "white",
            "linecolor": "white",
            "ticks": ""
           }
          },
          "title": {
           "x": 0.05
          },
          "xaxis": {
           "automargin": true,
           "gridcolor": "white",
           "linecolor": "white",
           "ticks": "",
           "title": {
            "standoff": 15
           },
           "zerolinecolor": "white",
           "zerolinewidth": 2
          },
          "yaxis": {
           "automargin": true,
           "gridcolor": "white",
           "linecolor": "white",
           "ticks": "",
           "title": {
            "standoff": 15
           },
           "zerolinecolor": "white",
           "zerolinewidth": 2
          }
         }
        },
        "title": {
         "text": "'Top 4' NBA Teams"
        }
       }
      },
      "text/html": [
       "<div>                            <div id=\"45cacef7-877d-4d1e-bdb2-58230e9c67f5\" class=\"plotly-graph-div\" style=\"height:525px; width:100%;\"></div>            <script type=\"text/javascript\">                require([\"plotly\"], function(Plotly) {                    window.PLOTLYENV=window.PLOTLYENV || {};                                    if (document.getElementById(\"45cacef7-877d-4d1e-bdb2-58230e9c67f5\")) {                    Plotly.newPlot(                        \"45cacef7-877d-4d1e-bdb2-58230e9c67f5\",                        [{\"fill\": \"toself\", \"name\": \"Bulls\", \"r\": [0.4441280000000001, 0.766016, 0.3514880000000001, 0.23608, 0.43784], \"theta\": [\"FG_PCT_home\", \"FT_PCT_home\", \"FG3_PCT_home\", \"AST_home\", \"REB_home\"], \"type\": \"scatterpolar\"}, {\"fill\": \"toself\", \"name\": \"Celtics\", \"r\": [0.4623489932885908, 0.7919530201342282, 0.36612080536912733, 0.24771812080536912, 0.454496644295302], \"theta\": [\"FG_PCT_home\", \"FT_PCT_home\", \"FG3_PCT_home\", \"AST_home\", \"REB_home\"], \"type\": \"scatterpolar\"}, {\"fill\": \"toself\", \"name\": \"Heat\", \"r\": [0.4641418439716312, 0.743496453900709, 0.36709929078014164, 0.24354609929078014, 0.44822695035460997], \"theta\": [\"FG_PCT_home\", \"FT_PCT_home\", \"FG3_PCT_home\", \"AST_home\", \"REB_home\"], \"type\": \"scatterpolar\"}, {\"fill\": \"toself\", \"name\": \"Lakers\", \"r\": [0.47044444444444433, 0.7261041666666666, 0.333298611111111, 0.2551388888888889, 0.4681944444444444], \"theta\": [\"FG_PCT_home\", \"FT_PCT_home\", \"FG3_PCT_home\", \"AST_home\", \"REB_home\"], \"type\": \"scatterpolar\"}],                        {\"polar\": {\"radialaxis\": {\"range\": [0, 0.8], \"visible\": true}}, \"template\": {\"data\": {\"bar\": [{\"error_x\": {\"color\": \"#2a3f5f\"}, \"error_y\": {\"color\": \"#2a3f5f\"}, \"marker\": {\"line\": {\"color\": \"#E5ECF6\", \"width\": 0.5}}, \"type\": \"bar\"}], \"barpolar\": [{\"marker\": {\"line\": {\"color\": \"#E5ECF6\", \"width\": 0.5}}, \"type\": \"barpolar\"}], \"carpet\": [{\"aaxis\": {\"endlinecolor\": \"#2a3f5f\", \"gridcolor\": \"white\", \"linecolor\": \"white\", \"minorgridcolor\": \"white\", \"startlinecolor\": \"#2a3f5f\"}, \"baxis\": {\"endlinecolor\": \"#2a3f5f\", \"gridcolor\": \"white\", \"linecolor\": \"white\", \"minorgridcolor\": \"white\", \"startlinecolor\": \"#2a3f5f\"}, \"type\": \"carpet\"}], \"choropleth\": [{\"colorbar\": {\"outlinewidth\": 0, \"ticks\": \"\"}, \"type\": \"choropleth\"}], \"contour\": [{\"colorbar\": {\"outlinewidth\": 0, \"ticks\": \"\"}, \"colorscale\": [[0.0, \"#0d0887\"], [0.1111111111111111, \"#46039f\"], [0.2222222222222222, \"#7201a8\"], [0.3333333333333333, \"#9c179e\"], [0.4444444444444444, \"#bd3786\"], [0.5555555555555556, \"#d8576b\"], [0.6666666666666666, \"#ed7953\"], [0.7777777777777778, \"#fb9f3a\"], [0.8888888888888888, \"#fdca26\"], [1.0, \"#f0f921\"]], \"type\": \"contour\"}], \"contourcarpet\": [{\"colorbar\": {\"outlinewidth\": 0, \"ticks\": \"\"}, \"type\": \"contourcarpet\"}], \"heatmap\": [{\"colorbar\": {\"outlinewidth\": 0, \"ticks\": \"\"}, \"colorscale\": [[0.0, \"#0d0887\"], [0.1111111111111111, \"#46039f\"], [0.2222222222222222, \"#7201a8\"], [0.3333333333333333, \"#9c179e\"], [0.4444444444444444, \"#bd3786\"], [0.5555555555555556, \"#d8576b\"], [0.6666666666666666, \"#ed7953\"], [0.7777777777777778, \"#fb9f3a\"], [0.8888888888888888, \"#fdca26\"], [1.0, \"#f0f921\"]], \"type\": \"heatmap\"}], \"heatmapgl\": [{\"colorbar\": {\"outlinewidth\": 0, \"ticks\": \"\"}, \"colorscale\": [[0.0, \"#0d0887\"], [0.1111111111111111, \"#46039f\"], [0.2222222222222222, \"#7201a8\"], [0.3333333333333333, \"#9c179e\"], [0.4444444444444444, \"#bd3786\"], [0.5555555555555556, \"#d8576b\"], [0.6666666666666666, \"#ed7953\"], [0.7777777777777778, \"#fb9f3a\"], [0.8888888888888888, \"#fdca26\"], [1.0, \"#f0f921\"]], \"type\": \"heatmapgl\"}], \"histogram\": [{\"marker\": {\"colorbar\": {\"outlinewidth\": 0, \"ticks\": \"\"}}, \"type\": \"histogram\"}], \"histogram2d\": [{\"colorbar\": {\"outlinewidth\": 0, \"ticks\": \"\"}, \"colorscale\": [[0.0, \"#0d0887\"], [0.1111111111111111, \"#46039f\"], [0.2222222222222222, \"#7201a8\"], [0.3333333333333333, \"#9c179e\"], [0.4444444444444444, \"#bd3786\"], [0.5555555555555556, \"#d8576b\"], [0.6666666666666666, \"#ed7953\"], [0.7777777777777778, \"#fb9f3a\"], [0.8888888888888888, \"#fdca26\"], [1.0, \"#f0f921\"]], \"type\": \"histogram2d\"}], \"histogram2dcontour\": [{\"colorbar\": {\"outlinewidth\": 0, \"ticks\": \"\"}, \"colorscale\": [[0.0, \"#0d0887\"], [0.1111111111111111, \"#46039f\"], [0.2222222222222222, \"#7201a8\"], [0.3333333333333333, \"#9c179e\"], [0.4444444444444444, \"#bd3786\"], [0.5555555555555556, \"#d8576b\"], [0.6666666666666666, \"#ed7953\"], [0.7777777777777778, \"#fb9f3a\"], [0.8888888888888888, \"#fdca26\"], [1.0, \"#f0f921\"]], \"type\": \"histogram2dcontour\"}], \"mesh3d\": [{\"colorbar\": {\"outlinewidth\": 0, \"ticks\": \"\"}, \"type\": \"mesh3d\"}], \"parcoords\": [{\"line\": {\"colorbar\": {\"outlinewidth\": 0, \"ticks\": \"\"}}, \"type\": \"parcoords\"}], \"pie\": [{\"automargin\": true, \"type\": \"pie\"}], \"scatter\": [{\"marker\": {\"colorbar\": {\"outlinewidth\": 0, \"ticks\": \"\"}}, \"type\": \"scatter\"}], \"scatter3d\": [{\"line\": {\"colorbar\": {\"outlinewidth\": 0, \"ticks\": \"\"}}, \"marker\": {\"colorbar\": {\"outlinewidth\": 0, \"ticks\": \"\"}}, \"type\": \"scatter3d\"}], \"scattercarpet\": [{\"marker\": {\"colorbar\": {\"outlinewidth\": 0, \"ticks\": \"\"}}, \"type\": \"scattercarpet\"}], \"scattergeo\": [{\"marker\": {\"colorbar\": {\"outlinewidth\": 0, \"ticks\": \"\"}}, \"type\": \"scattergeo\"}], \"scattergl\": [{\"marker\": {\"colorbar\": {\"outlinewidth\": 0, \"ticks\": \"\"}}, \"type\": \"scattergl\"}], \"scattermapbox\": [{\"marker\": {\"colorbar\": {\"outlinewidth\": 0, \"ticks\": \"\"}}, \"type\": \"scattermapbox\"}], \"scatterpolar\": [{\"marker\": {\"colorbar\": {\"outlinewidth\": 0, \"ticks\": \"\"}}, \"type\": \"scatterpolar\"}], \"scatterpolargl\": [{\"marker\": {\"colorbar\": {\"outlinewidth\": 0, \"ticks\": \"\"}}, \"type\": \"scatterpolargl\"}], \"scatterternary\": [{\"marker\": {\"colorbar\": {\"outlinewidth\": 0, \"ticks\": \"\"}}, \"type\": \"scatterternary\"}], \"surface\": [{\"colorbar\": {\"outlinewidth\": 0, \"ticks\": \"\"}, \"colorscale\": [[0.0, \"#0d0887\"], [0.1111111111111111, \"#46039f\"], [0.2222222222222222, \"#7201a8\"], [0.3333333333333333, \"#9c179e\"], [0.4444444444444444, \"#bd3786\"], [0.5555555555555556, \"#d8576b\"], [0.6666666666666666, \"#ed7953\"], [0.7777777777777778, \"#fb9f3a\"], [0.8888888888888888, \"#fdca26\"], [1.0, \"#f0f921\"]], \"type\": \"surface\"}], \"table\": [{\"cells\": {\"fill\": {\"color\": \"#EBF0F8\"}, \"line\": {\"color\": \"white\"}}, \"header\": {\"fill\": {\"color\": \"#C8D4E3\"}, \"line\": {\"color\": \"white\"}}, \"type\": \"table\"}]}, \"layout\": {\"annotationdefaults\": {\"arrowcolor\": \"#2a3f5f\", \"arrowhead\": 0, \"arrowwidth\": 1}, \"autotypenumbers\": \"strict\", \"coloraxis\": {\"colorbar\": {\"outlinewidth\": 0, \"ticks\": \"\"}}, \"colorscale\": {\"diverging\": [[0, \"#8e0152\"], [0.1, \"#c51b7d\"], [0.2, \"#de77ae\"], [0.3, \"#f1b6da\"], [0.4, \"#fde0ef\"], [0.5, \"#f7f7f7\"], [0.6, \"#e6f5d0\"], [0.7, \"#b8e186\"], [0.8, \"#7fbc41\"], [0.9, \"#4d9221\"], [1, \"#276419\"]], \"sequential\": [[0.0, \"#0d0887\"], [0.1111111111111111, \"#46039f\"], [0.2222222222222222, \"#7201a8\"], [0.3333333333333333, \"#9c179e\"], [0.4444444444444444, \"#bd3786\"], [0.5555555555555556, \"#d8576b\"], [0.6666666666666666, \"#ed7953\"], [0.7777777777777778, \"#fb9f3a\"], [0.8888888888888888, \"#fdca26\"], [1.0, \"#f0f921\"]], \"sequentialminus\": [[0.0, \"#0d0887\"], [0.1111111111111111, \"#46039f\"], [0.2222222222222222, \"#7201a8\"], [0.3333333333333333, \"#9c179e\"], [0.4444444444444444, \"#bd3786\"], [0.5555555555555556, \"#d8576b\"], [0.6666666666666666, \"#ed7953\"], [0.7777777777777778, \"#fb9f3a\"], [0.8888888888888888, \"#fdca26\"], [1.0, \"#f0f921\"]]}, \"colorway\": [\"#636efa\", \"#EF553B\", \"#00cc96\", \"#ab63fa\", \"#FFA15A\", \"#19d3f3\", \"#FF6692\", \"#B6E880\", \"#FF97FF\", \"#FECB52\"], \"font\": {\"color\": \"#2a3f5f\"}, \"geo\": {\"bgcolor\": \"white\", \"lakecolor\": \"white\", \"landcolor\": \"#E5ECF6\", \"showlakes\": true, \"showland\": true, \"subunitcolor\": \"white\"}, \"hoverlabel\": {\"align\": \"left\"}, \"hovermode\": \"closest\", \"mapbox\": {\"style\": \"light\"}, \"paper_bgcolor\": \"white\", \"plot_bgcolor\": \"#E5ECF6\", \"polar\": {\"angularaxis\": {\"gridcolor\": \"white\", \"linecolor\": \"white\", \"ticks\": \"\"}, \"bgcolor\": \"#E5ECF6\", \"radialaxis\": {\"gridcolor\": \"white\", \"linecolor\": \"white\", \"ticks\": \"\"}}, \"scene\": {\"xaxis\": {\"backgroundcolor\": \"#E5ECF6\", \"gridcolor\": \"white\", \"gridwidth\": 2, \"linecolor\": \"white\", \"showbackground\": true, \"ticks\": \"\", \"zerolinecolor\": \"white\"}, \"yaxis\": {\"backgroundcolor\": \"#E5ECF6\", \"gridcolor\": \"white\", \"gridwidth\": 2, \"linecolor\": \"white\", \"showbackground\": true, \"ticks\": \"\", \"zerolinecolor\": \"white\"}, \"zaxis\": {\"backgroundcolor\": \"#E5ECF6\", \"gridcolor\": \"white\", \"gridwidth\": 2, \"linecolor\": \"white\", \"showbackground\": true, \"ticks\": \"\", \"zerolinecolor\": \"white\"}}, \"shapedefaults\": {\"line\": {\"color\": \"#2a3f5f\"}}, \"ternary\": {\"aaxis\": {\"gridcolor\": \"white\", \"linecolor\": \"white\", \"ticks\": \"\"}, \"baxis\": {\"gridcolor\": \"white\", \"linecolor\": \"white\", \"ticks\": \"\"}, \"bgcolor\": \"#E5ECF6\", \"caxis\": {\"gridcolor\": \"white\", \"linecolor\": \"white\", \"ticks\": \"\"}}, \"title\": {\"x\": 0.05}, \"xaxis\": {\"automargin\": true, \"gridcolor\": \"white\", \"linecolor\": \"white\", \"ticks\": \"\", \"title\": {\"standoff\": 15}, \"zerolinecolor\": \"white\", \"zerolinewidth\": 2}, \"yaxis\": {\"automargin\": true, \"gridcolor\": \"white\", \"linecolor\": \"white\", \"ticks\": \"\", \"title\": {\"standoff\": 15}, \"zerolinecolor\": \"white\", \"zerolinewidth\": 2}}}, \"title\": {\"text\": \"'Top 4' NBA Teams\"}},                        {\"responsive\": true}                    ).then(function(){\n",
       "                            \n",
       "var gd = document.getElementById('45cacef7-877d-4d1e-bdb2-58230e9c67f5');\n",
       "var x = new MutationObserver(function (mutations, observer) {{\n",
       "        var display = window.getComputedStyle(gd).display;\n",
       "        if (!display || display === 'none') {{\n",
       "            console.log([gd, 'removed!']);\n",
       "            Plotly.purge(gd);\n",
       "            observer.disconnect();\n",
       "        }}\n",
       "}});\n",
       "\n",
       "// Listen for the removal of the full notebook cells\n",
       "var notebookContainer = gd.closest('#notebook-container');\n",
       "if (notebookContainer) {{\n",
       "    x.observe(notebookContainer, {childList: true});\n",
       "}}\n",
       "\n",
       "// Listen for the clearing of the current output cell\n",
       "var outputEl = gd.closest('.output');\n",
       "if (outputEl) {{\n",
       "    x.observe(outputEl, {childList: true});\n",
       "}}\n",
       "\n",
       "                        })                };                });            </script>        </div>"
      ]
     },
     "metadata": {},
     "output_type": "display_data"
    }
   ],
   "source": [
    "categories = ['FG_PCT_home','FT_PCT_home','FG3_PCT_home',\n",
    "              'AST_home', 'REB_home']\n",
    "\n",
    "fig = go.Figure()\n",
    "for i in range(0, 4):\n",
    "    fig.add_trace(go.Scatterpolar(\n",
    "      r=[pd_spider.iloc[i]['FG_PCT_home'], pd_spider.iloc[i]['FT_PCT_home'], pd_spider.iloc[i]['FG3_PCT_home'],\n",
    "         pd_spider.iloc[i]['AST_home'], pd_spider.iloc[i]['REB_home']],\n",
    "      theta=categories,\n",
    "      fill='toself',\n",
    "      name=pd_spider.iloc[i]['HOME_TEAM_NAME']))\n",
    "    \n",
    "fig.update_layout(\n",
    "  polar=dict(\n",
    "    radialaxis=dict(\n",
    "      visible=True,\n",
    "      range=[0, 0.8]\n",
    "    )),\n",
    "  #showlegend=False,\n",
    "    title_text=\"'Top 4' NBA Teams\"\n",
    ")\n",
    "\n",
    "fig.show()"
   ]
  },
  {
   "cell_type": "markdown",
   "id": "sound-current",
   "metadata": {},
   "source": [
    "Overall, it is hard to predict the best team / winning team of the NBA game. There are many other factors that could affact the game, player's injury, swiching teams, players mood, or even luck etc. I had fun and enjoyed a lot working on this project.\n",
    "GOOOOOO HEAT!"
   ]
  },
  {
   "cell_type": "code",
   "execution_count": null,
   "id": "auburn-robertson",
   "metadata": {},
   "outputs": [],
   "source": []
  },
  {
   "cell_type": "code",
   "execution_count": null,
   "id": "standard-notice",
   "metadata": {},
   "outputs": [],
   "source": []
  }
 ],
 "metadata": {
  "kernelspec": {
   "display_name": "Python [conda env:PythonAdv] *",
   "language": "python",
   "name": "conda-env-PythonAdv-py"
  },
  "language_info": {
   "codemirror_mode": {
    "name": "ipython",
    "version": 3
   },
   "file_extension": ".py",
   "mimetype": "text/x-python",
   "name": "python",
   "nbconvert_exporter": "python",
   "pygments_lexer": "ipython3",
   "version": "3.7.9"
  }
 },
 "nbformat": 4,
 "nbformat_minor": 5
}
