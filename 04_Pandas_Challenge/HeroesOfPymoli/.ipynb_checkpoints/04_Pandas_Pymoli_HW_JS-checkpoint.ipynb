{
 "cells": [
  {
   "cell_type": "code",
   "execution_count": 2,
   "metadata": {},
   "outputs": [],
   "source": [
    "# HW 04 -- Pandas Challenge -- Heroes of Pymoli\n",
    "import pandas as pd\n",
    "import numpy as np\n",
    "import os"
   ]
  },
  {
   "cell_type": "code",
   "execution_count": 3,
   "metadata": {},
   "outputs": [],
   "source": [
    "# find path and read the csv\n",
    "pymoli_path = \"./purchase_data.csv\""
   ]
  },
  {
   "cell_type": "code",
   "execution_count": 111,
   "metadata": {},
   "outputs": [
    {
     "data": {
      "text/html": [
       "<div>\n",
       "<style scoped>\n",
       "    .dataframe tbody tr th:only-of-type {\n",
       "        vertical-align: middle;\n",
       "    }\n",
       "\n",
       "    .dataframe tbody tr th {\n",
       "        vertical-align: top;\n",
       "    }\n",
       "\n",
       "    .dataframe thead th {\n",
       "        text-align: right;\n",
       "    }\n",
       "</style>\n",
       "<table border=\"1\" class=\"dataframe\">\n",
       "  <thead>\n",
       "    <tr style=\"text-align: right;\">\n",
       "      <th></th>\n",
       "      <th>Purchase ID</th>\n",
       "      <th>SN</th>\n",
       "      <th>Age</th>\n",
       "      <th>Gender</th>\n",
       "      <th>Item ID</th>\n",
       "      <th>Item Name</th>\n",
       "      <th>Price</th>\n",
       "    </tr>\n",
       "  </thead>\n",
       "  <tbody>\n",
       "    <tr>\n",
       "      <th>0</th>\n",
       "      <td>0</td>\n",
       "      <td>Lisim78</td>\n",
       "      <td>20</td>\n",
       "      <td>Male</td>\n",
       "      <td>108</td>\n",
       "      <td>Extraction, Quickblade Of Trembling Hands</td>\n",
       "      <td>3.53</td>\n",
       "    </tr>\n",
       "    <tr>\n",
       "      <th>1</th>\n",
       "      <td>1</td>\n",
       "      <td>Lisovynya38</td>\n",
       "      <td>40</td>\n",
       "      <td>Male</td>\n",
       "      <td>143</td>\n",
       "      <td>Frenzied Scimitar</td>\n",
       "      <td>1.56</td>\n",
       "    </tr>\n",
       "    <tr>\n",
       "      <th>2</th>\n",
       "      <td>2</td>\n",
       "      <td>Ithergue48</td>\n",
       "      <td>24</td>\n",
       "      <td>Male</td>\n",
       "      <td>92</td>\n",
       "      <td>Final Critic</td>\n",
       "      <td>4.88</td>\n",
       "    </tr>\n",
       "    <tr>\n",
       "      <th>3</th>\n",
       "      <td>3</td>\n",
       "      <td>Chamassasya86</td>\n",
       "      <td>24</td>\n",
       "      <td>Male</td>\n",
       "      <td>100</td>\n",
       "      <td>Blindscythe</td>\n",
       "      <td>3.27</td>\n",
       "    </tr>\n",
       "    <tr>\n",
       "      <th>4</th>\n",
       "      <td>4</td>\n",
       "      <td>Iskosia90</td>\n",
       "      <td>23</td>\n",
       "      <td>Male</td>\n",
       "      <td>131</td>\n",
       "      <td>Fury</td>\n",
       "      <td>1.44</td>\n",
       "    </tr>\n",
       "    <tr>\n",
       "      <th>...</th>\n",
       "      <td>...</td>\n",
       "      <td>...</td>\n",
       "      <td>...</td>\n",
       "      <td>...</td>\n",
       "      <td>...</td>\n",
       "      <td>...</td>\n",
       "      <td>...</td>\n",
       "    </tr>\n",
       "    <tr>\n",
       "      <th>775</th>\n",
       "      <td>775</td>\n",
       "      <td>Aethedru70</td>\n",
       "      <td>21</td>\n",
       "      <td>Female</td>\n",
       "      <td>60</td>\n",
       "      <td>Wolf</td>\n",
       "      <td>3.54</td>\n",
       "    </tr>\n",
       "    <tr>\n",
       "      <th>776</th>\n",
       "      <td>776</td>\n",
       "      <td>Iral74</td>\n",
       "      <td>21</td>\n",
       "      <td>Male</td>\n",
       "      <td>164</td>\n",
       "      <td>Exiled Doomblade</td>\n",
       "      <td>1.63</td>\n",
       "    </tr>\n",
       "    <tr>\n",
       "      <th>777</th>\n",
       "      <td>777</td>\n",
       "      <td>Yathecal72</td>\n",
       "      <td>20</td>\n",
       "      <td>Male</td>\n",
       "      <td>67</td>\n",
       "      <td>Celeste, Incarnation of the Corrupted</td>\n",
       "      <td>3.46</td>\n",
       "    </tr>\n",
       "    <tr>\n",
       "      <th>778</th>\n",
       "      <td>778</td>\n",
       "      <td>Sisur91</td>\n",
       "      <td>7</td>\n",
       "      <td>Male</td>\n",
       "      <td>92</td>\n",
       "      <td>Final Critic</td>\n",
       "      <td>4.19</td>\n",
       "    </tr>\n",
       "    <tr>\n",
       "      <th>779</th>\n",
       "      <td>779</td>\n",
       "      <td>Ennrian78</td>\n",
       "      <td>24</td>\n",
       "      <td>Male</td>\n",
       "      <td>50</td>\n",
       "      <td>Dawn</td>\n",
       "      <td>4.60</td>\n",
       "    </tr>\n",
       "  </tbody>\n",
       "</table>\n",
       "<p>780 rows × 7 columns</p>\n",
       "</div>"
      ],
      "text/plain": [
       "     Purchase ID             SN  Age  Gender  Item ID  \\\n",
       "0              0        Lisim78   20    Male      108   \n",
       "1              1    Lisovynya38   40    Male      143   \n",
       "2              2     Ithergue48   24    Male       92   \n",
       "3              3  Chamassasya86   24    Male      100   \n",
       "4              4      Iskosia90   23    Male      131   \n",
       "..           ...            ...  ...     ...      ...   \n",
       "775          775     Aethedru70   21  Female       60   \n",
       "776          776         Iral74   21    Male      164   \n",
       "777          777     Yathecal72   20    Male       67   \n",
       "778          778        Sisur91    7    Male       92   \n",
       "779          779      Ennrian78   24    Male       50   \n",
       "\n",
       "                                     Item Name  Price  \n",
       "0    Extraction, Quickblade Of Trembling Hands   3.53  \n",
       "1                            Frenzied Scimitar   1.56  \n",
       "2                                 Final Critic   4.88  \n",
       "3                                  Blindscythe   3.27  \n",
       "4                                         Fury   1.44  \n",
       "..                                         ...    ...  \n",
       "775                                       Wolf   3.54  \n",
       "776                           Exiled Doomblade   1.63  \n",
       "777      Celeste, Incarnation of the Corrupted   3.46  \n",
       "778                               Final Critic   4.19  \n",
       "779                                       Dawn   4.60  \n",
       "\n",
       "[780 rows x 7 columns]"
      ]
     },
     "execution_count": 111,
     "metadata": {},
     "output_type": "execute_result"
    }
   ],
   "source": [
    "pymoli_df = pd.read_csv(pymoli_path)\n",
    "pymoli_df"
   ]
  },
  {
   "cell_type": "code",
   "execution_count": 5,
   "metadata": {},
   "outputs": [
    {
     "data": {
      "text/plain": [
       "576"
      ]
     },
     "execution_count": 5,
     "metadata": {},
     "output_type": "execute_result"
    }
   ],
   "source": [
    "#count players ID to determine the total players\n",
    "total_player = len(pymoli_df['SN'].value_counts())\n",
    "total_player"
   ]
  },
  {
   "cell_type": "code",
   "execution_count": 6,
   "metadata": {},
   "outputs": [
    {
     "data": {
      "text/plain": [
       "179"
      ]
     },
     "execution_count": 6,
     "metadata": {},
     "output_type": "execute_result"
    }
   ],
   "source": [
    "#count unique items\n",
    "unique_items = pymoli_df['Item Name'].nunique()\n",
    "unique_items"
   ]
  },
  {
   "cell_type": "code",
   "execution_count": 7,
   "metadata": {},
   "outputs": [
    {
     "data": {
      "text/plain": [
       "3.05"
      ]
     },
     "execution_count": 7,
     "metadata": {},
     "output_type": "execute_result"
    }
   ],
   "source": [
    "#count average price\n",
    "average_price = round(pymoli_df['Price'].mean(),2)\n",
    "average_price"
   ]
  },
  {
   "cell_type": "code",
   "execution_count": 8,
   "metadata": {},
   "outputs": [
    {
     "data": {
      "text/plain": [
       "780"
      ]
     },
     "execution_count": 8,
     "metadata": {},
     "output_type": "execute_result"
    }
   ],
   "source": [
    "# count number of purchases\n",
    "n_purchase = len(pymoli_df['Purchase ID'].value_counts())\n",
    "n_purchase"
   ]
  },
  {
   "cell_type": "code",
   "execution_count": 9,
   "metadata": {},
   "outputs": [
    {
     "data": {
      "text/plain": [
       "2379.77"
      ]
     },
     "execution_count": 9,
     "metadata": {},
     "output_type": "execute_result"
    }
   ],
   "source": [
    "# count the total revenue\n",
    "total_revenue = round(pymoli_df['Price'].sum(),2)\n",
    "total_revenue"
   ]
  },
  {
   "cell_type": "code",
   "execution_count": 66,
   "metadata": {},
   "outputs": [
    {
     "data": {
      "text/html": [
       "<style  type=\"text/css\" >\n",
       "</style><table id=\"T_3bf9d2c7_0cd4_11eb_a04b_7066554be4d4\" ><thead>    <tr>        <th class=\"blank level0\" ></th>        <th class=\"col_heading level0 col0\" >Total Players</th>        <th class=\"col_heading level0 col1\" >Number of Unique Items</th>        <th class=\"col_heading level0 col2\" >Average Price</th>        <th class=\"col_heading level0 col3\" >Number of Purchases</th>        <th class=\"col_heading level0 col4\" >Total Revenue</th>    </tr></thead><tbody>\n",
       "                <tr>\n",
       "                        <th id=\"T_3bf9d2c7_0cd4_11eb_a04b_7066554be4d4level0_row0\" class=\"row_heading level0 row0\" >0</th>\n",
       "                        <td id=\"T_3bf9d2c7_0cd4_11eb_a04b_7066554be4d4row0_col0\" class=\"data row0 col0\" >576</td>\n",
       "                        <td id=\"T_3bf9d2c7_0cd4_11eb_a04b_7066554be4d4row0_col1\" class=\"data row0 col1\" >179</td>\n",
       "                        <td id=\"T_3bf9d2c7_0cd4_11eb_a04b_7066554be4d4row0_col2\" class=\"data row0 col2\" >$3.05</td>\n",
       "                        <td id=\"T_3bf9d2c7_0cd4_11eb_a04b_7066554be4d4row0_col3\" class=\"data row0 col3\" >780</td>\n",
       "                        <td id=\"T_3bf9d2c7_0cd4_11eb_a04b_7066554be4d4row0_col4\" class=\"data row0 col4\" >$2,379.77</td>\n",
       "            </tr>\n",
       "    </tbody></table>"
      ],
      "text/plain": [
       "<pandas.io.formats.style.Styler at 0x1a6938c3160>"
      ]
     },
     "execution_count": 66,
     "metadata": {},
     "output_type": "execute_result"
    }
   ],
   "source": [
    "# make a summary data frame to show all above results: \n",
    "\n",
    "total_df = pd.DataFrame({\"Total Players\":total_player,\n",
    "                         \"Number of Unique Items\":unique_items,\n",
    "                         \"Average Price\":average_price,\n",
    "                         \"Number of Purchases\":n_purchase,\n",
    "                         \"Total Revenue\":total_revenue}, index=[0])\n",
    "total_df = total_df.style.format({'Average Price':'${0:,.2f}',\n",
    "                      'Total Revenue':'${0:,.2f}'})\n",
    "total_df"
   ]
  },
  {
   "cell_type": "code",
   "execution_count": 137,
   "metadata": {},
   "outputs": [
    {
     "data": {
      "text/html": [
       "<div>\n",
       "<style scoped>\n",
       "    .dataframe tbody tr th:only-of-type {\n",
       "        vertical-align: middle;\n",
       "    }\n",
       "\n",
       "    .dataframe tbody tr th {\n",
       "        vertical-align: top;\n",
       "    }\n",
       "\n",
       "    .dataframe thead th {\n",
       "        text-align: right;\n",
       "    }\n",
       "</style>\n",
       "<table border=\"1\" class=\"dataframe\">\n",
       "  <thead>\n",
       "    <tr style=\"text-align: right;\">\n",
       "      <th></th>\n",
       "      <th>players count</th>\n",
       "      <th>Percentage</th>\n",
       "    </tr>\n",
       "    <tr>\n",
       "      <th>Gender</th>\n",
       "      <th></th>\n",
       "      <th></th>\n",
       "    </tr>\n",
       "  </thead>\n",
       "  <tbody>\n",
       "    <tr>\n",
       "      <th>Female</th>\n",
       "      <td>81</td>\n",
       "      <td>14.06%</td>\n",
       "    </tr>\n",
       "    <tr>\n",
       "      <th>Male</th>\n",
       "      <td>484</td>\n",
       "      <td>84.03%</td>\n",
       "    </tr>\n",
       "    <tr>\n",
       "      <th>Other / Non-Disclosed</th>\n",
       "      <td>11</td>\n",
       "      <td>1.91%</td>\n",
       "    </tr>\n",
       "  </tbody>\n",
       "</table>\n",
       "</div>"
      ],
      "text/plain": [
       "                      players count Percentage\n",
       "Gender                                        \n",
       "Female                           81     14.06%\n",
       "Male                            484     84.03%\n",
       "Other / Non-Disclosed            11      1.91%"
      ]
     },
     "execution_count": 137,
     "metadata": {},
     "output_type": "execute_result"
    }
   ],
   "source": [
    "#Gender Demographics\n",
    "# Group by gender, then count players (by unique ID) and calculate the percentage: \n",
    "\n",
    "gender_df = pymoli_df.groupby(\"Gender\")['SN'].agg([('players count',lambda x: x.nunique())])\n",
    "\n",
    "\n",
    "# Format the table (use mapping)\n",
    "gender_df[\"Percentage\"] = gender_df[\"players count\"] / gender_df[\"players count\"].sum()\n",
    "gender_df[\"Percentage\"] = gender_df[\"Percentage\"].map(\"{:,.2%}\".format)\n",
    "gender_df[\"players count\"] = gender_df[\"players count\"].map(\"{:,.0f}\".format)\n",
    "\n",
    "\n",
    "gender_df\n"
   ]
  },
  {
   "cell_type": "code",
   "execution_count": 24,
   "metadata": {},
   "outputs": [],
   "source": [
    "# Now we know there are 81 Female palyers, 484 Male players, and 11 Other players"
   ]
  },
  {
   "cell_type": "code",
   "execution_count": 138,
   "metadata": {},
   "outputs": [
    {
     "data": {
      "text/html": [
       "<style  type=\"text/css\" >\n",
       "</style><table id=\"T_17a02f21_0cee_11eb_a3f5_7066554be4d4\" ><thead>    <tr>        <th class=\"blank level0\" ></th>        <th class=\"col_heading level0 col0\" >count</th>        <th class=\"col_heading level0 col1\" >mean</th>        <th class=\"col_heading level0 col2\" >sum</th>        <th class=\"col_heading level0 col3\" >players count</th>        <th class=\"col_heading level0 col4\" >Avg per person</th>    </tr>    <tr>        <th class=\"index_name level0\" >Gender</th>        <th class=\"blank\" ></th>        <th class=\"blank\" ></th>        <th class=\"blank\" ></th>        <th class=\"blank\" ></th>        <th class=\"blank\" ></th>    </tr></thead><tbody>\n",
       "                <tr>\n",
       "                        <th id=\"T_17a02f21_0cee_11eb_a3f5_7066554be4d4level0_row0\" class=\"row_heading level0 row0\" >Female</th>\n",
       "                        <td id=\"T_17a02f21_0cee_11eb_a3f5_7066554be4d4row0_col0\" class=\"data row0 col0\" >113</td>\n",
       "                        <td id=\"T_17a02f21_0cee_11eb_a3f5_7066554be4d4row0_col1\" class=\"data row0 col1\" >$3.20</td>\n",
       "                        <td id=\"T_17a02f21_0cee_11eb_a3f5_7066554be4d4row0_col2\" class=\"data row0 col2\" >$361.94</td>\n",
       "                        <td id=\"T_17a02f21_0cee_11eb_a3f5_7066554be4d4row0_col3\" class=\"data row0 col3\" >81</td>\n",
       "                        <td id=\"T_17a02f21_0cee_11eb_a3f5_7066554be4d4row0_col4\" class=\"data row0 col4\" >$4.47</td>\n",
       "            </tr>\n",
       "            <tr>\n",
       "                        <th id=\"T_17a02f21_0cee_11eb_a3f5_7066554be4d4level0_row1\" class=\"row_heading level0 row1\" >Male</th>\n",
       "                        <td id=\"T_17a02f21_0cee_11eb_a3f5_7066554be4d4row1_col0\" class=\"data row1 col0\" >652</td>\n",
       "                        <td id=\"T_17a02f21_0cee_11eb_a3f5_7066554be4d4row1_col1\" class=\"data row1 col1\" >$3.02</td>\n",
       "                        <td id=\"T_17a02f21_0cee_11eb_a3f5_7066554be4d4row1_col2\" class=\"data row1 col2\" >$1,967.64</td>\n",
       "                        <td id=\"T_17a02f21_0cee_11eb_a3f5_7066554be4d4row1_col3\" class=\"data row1 col3\" >484</td>\n",
       "                        <td id=\"T_17a02f21_0cee_11eb_a3f5_7066554be4d4row1_col4\" class=\"data row1 col4\" >$4.07</td>\n",
       "            </tr>\n",
       "            <tr>\n",
       "                        <th id=\"T_17a02f21_0cee_11eb_a3f5_7066554be4d4level0_row2\" class=\"row_heading level0 row2\" >Other / Non-Disclosed</th>\n",
       "                        <td id=\"T_17a02f21_0cee_11eb_a3f5_7066554be4d4row2_col0\" class=\"data row2 col0\" >15</td>\n",
       "                        <td id=\"T_17a02f21_0cee_11eb_a3f5_7066554be4d4row2_col1\" class=\"data row2 col1\" >$3.35</td>\n",
       "                        <td id=\"T_17a02f21_0cee_11eb_a3f5_7066554be4d4row2_col2\" class=\"data row2 col2\" >$50.19</td>\n",
       "                        <td id=\"T_17a02f21_0cee_11eb_a3f5_7066554be4d4row2_col3\" class=\"data row2 col3\" >11</td>\n",
       "                        <td id=\"T_17a02f21_0cee_11eb_a3f5_7066554be4d4row2_col4\" class=\"data row2 col4\" >$4.56</td>\n",
       "            </tr>\n",
       "    </tbody></table>"
      ],
      "text/plain": [
       "<pandas.io.formats.style.Styler at 0x1a695292fd0>"
      ]
     },
     "execution_count": 138,
     "metadata": {},
     "output_type": "execute_result"
    }
   ],
   "source": [
    "#Purchasing Analysis (Gender)\n",
    "# group by gender, and use agg to find out purchase count, average purchase price, and total purchase value:\n",
    "gender_p_df = pymoli_df.groupby(\"Gender\")['Price'].agg([('count',np.count_nonzero),('mean',np.mean),\n",
    "                                                       ('sum',np.sum)])\n",
    "\n",
    "# as we already knew the number of players by gender, we can calculate the average purchase per person\n",
    "gender_p_df[\"players count\"] = [81,484,11]\n",
    "gender_p_df[\"Avg per person\"] = gender_p_df[\"sum\"] / gender_p_df[\"players count\"]\n",
    "\n",
    "# format the data\n",
    "gender_p_df = gender_p_df.style.format({'mean':'${0:,.2f}',\n",
    "                      'sum':'${0:,.2f}','Avg per person':'${0:,.2f}', 'count':'{0:,.0f}' })\n",
    "\n",
    "gender_p_df"
   ]
  },
  {
   "cell_type": "code",
   "execution_count": 67,
   "metadata": {},
   "outputs": [
    {
     "data": {
      "text/plain": [
       "(7, 45)"
      ]
     },
     "execution_count": 67,
     "metadata": {},
     "output_type": "execute_result"
    }
   ],
   "source": [
    "# Age Demographics  ** Data Frame = df\n",
    "# Please note that in this section I put players count & percentage df with the purchasing analysis df together.\n",
    "\n",
    "# make a bin range that holds all ages, but need to know min and max age first: \n",
    "\n",
    "pymoli_df[\"Age\"].min(),pymoli_df[\"Age\"].max()"
   ]
  },
  {
   "cell_type": "code",
   "execution_count": 85,
   "metadata": {},
   "outputs": [
    {
     "data": {
      "text/plain": [
       "[5, 10, 15, 20, 25, 30, 35, 40, 45]"
      ]
     },
     "execution_count": 85,
     "metadata": {},
     "output_type": "execute_result"
    }
   ],
   "source": [
    "bins_range = list(range(pymoli_df[\"Age\"].min()-2,pymoli_df[\"Age\"].max()+1,5))\n",
    "bins_range"
   ]
  },
  {
   "cell_type": "code",
   "execution_count": 130,
   "metadata": {},
   "outputs": [
    {
     "data": {
      "text/html": [
       "<style  type=\"text/css\" >\n",
       "</style><table id=\"T_51aefd05_0ceb_11eb_87ec_7066554be4d4\" ><thead>    <tr>        <th class=\"blank level0\" ></th>        <th class=\"col_heading level0 col0\" >purchase count</th>        <th class=\"col_heading level0 col1\" >Avg purchase</th>        <th class=\"col_heading level0 col2\" >sum</th>        <th class=\"col_heading level0 col3\" >players count</th>        <th class=\"col_heading level0 col4\" >players percentage</th>        <th class=\"col_heading level0 col5\" >Avg purchase per person</th>    </tr>    <tr>        <th class=\"index_name level0\" >Age range</th>        <th class=\"blank\" ></th>        <th class=\"blank\" ></th>        <th class=\"blank\" ></th>        <th class=\"blank\" ></th>        <th class=\"blank\" ></th>        <th class=\"blank\" ></th>    </tr></thead><tbody>\n",
       "                <tr>\n",
       "                        <th id=\"T_51aefd05_0ceb_11eb_87ec_7066554be4d4level0_row0\" class=\"row_heading level0 row0\" ><=10</th>\n",
       "                        <td id=\"T_51aefd05_0ceb_11eb_87ec_7066554be4d4row0_col0\" class=\"data row0 col0\" >32</td>\n",
       "                        <td id=\"T_51aefd05_0ceb_11eb_87ec_7066554be4d4row0_col1\" class=\"data row0 col1\" >$3.40</td>\n",
       "                        <td id=\"T_51aefd05_0ceb_11eb_87ec_7066554be4d4row0_col2\" class=\"data row0 col2\" >$108.96</td>\n",
       "                        <td id=\"T_51aefd05_0ceb_11eb_87ec_7066554be4d4row0_col3\" class=\"data row0 col3\" >24</td>\n",
       "                        <td id=\"T_51aefd05_0ceb_11eb_87ec_7066554be4d4row0_col4\" class=\"data row0 col4\" >4.17%</td>\n",
       "                        <td id=\"T_51aefd05_0ceb_11eb_87ec_7066554be4d4row0_col5\" class=\"data row0 col5\" >$4.54</td>\n",
       "            </tr>\n",
       "            <tr>\n",
       "                        <th id=\"T_51aefd05_0ceb_11eb_87ec_7066554be4d4level0_row1\" class=\"row_heading level0 row1\" >11-15</th>\n",
       "                        <td id=\"T_51aefd05_0ceb_11eb_87ec_7066554be4d4row1_col0\" class=\"data row1 col0\" >54</td>\n",
       "                        <td id=\"T_51aefd05_0ceb_11eb_87ec_7066554be4d4row1_col1\" class=\"data row1 col1\" >$2.90</td>\n",
       "                        <td id=\"T_51aefd05_0ceb_11eb_87ec_7066554be4d4row1_col2\" class=\"data row1 col2\" >$156.60</td>\n",
       "                        <td id=\"T_51aefd05_0ceb_11eb_87ec_7066554be4d4row1_col3\" class=\"data row1 col3\" >41</td>\n",
       "                        <td id=\"T_51aefd05_0ceb_11eb_87ec_7066554be4d4row1_col4\" class=\"data row1 col4\" >7.12%</td>\n",
       "                        <td id=\"T_51aefd05_0ceb_11eb_87ec_7066554be4d4row1_col5\" class=\"data row1 col5\" >$3.82</td>\n",
       "            </tr>\n",
       "            <tr>\n",
       "                        <th id=\"T_51aefd05_0ceb_11eb_87ec_7066554be4d4level0_row2\" class=\"row_heading level0 row2\" >16-20</th>\n",
       "                        <td id=\"T_51aefd05_0ceb_11eb_87ec_7066554be4d4row2_col0\" class=\"data row2 col0\" >200</td>\n",
       "                        <td id=\"T_51aefd05_0ceb_11eb_87ec_7066554be4d4row2_col1\" class=\"data row2 col1\" >$3.11</td>\n",
       "                        <td id=\"T_51aefd05_0ceb_11eb_87ec_7066554be4d4row2_col2\" class=\"data row2 col2\" >$621.56</td>\n",
       "                        <td id=\"T_51aefd05_0ceb_11eb_87ec_7066554be4d4row2_col3\" class=\"data row2 col3\" >150</td>\n",
       "                        <td id=\"T_51aefd05_0ceb_11eb_87ec_7066554be4d4row2_col4\" class=\"data row2 col4\" >26.04%</td>\n",
       "                        <td id=\"T_51aefd05_0ceb_11eb_87ec_7066554be4d4row2_col5\" class=\"data row2 col5\" >$4.14</td>\n",
       "            </tr>\n",
       "            <tr>\n",
       "                        <th id=\"T_51aefd05_0ceb_11eb_87ec_7066554be4d4level0_row3\" class=\"row_heading level0 row3\" >21-25</th>\n",
       "                        <td id=\"T_51aefd05_0ceb_11eb_87ec_7066554be4d4row3_col0\" class=\"data row3 col0\" >325</td>\n",
       "                        <td id=\"T_51aefd05_0ceb_11eb_87ec_7066554be4d4row3_col1\" class=\"data row3 col1\" >$3.02</td>\n",
       "                        <td id=\"T_51aefd05_0ceb_11eb_87ec_7066554be4d4row3_col2\" class=\"data row3 col2\" >$981.64</td>\n",
       "                        <td id=\"T_51aefd05_0ceb_11eb_87ec_7066554be4d4row3_col3\" class=\"data row3 col3\" >232</td>\n",
       "                        <td id=\"T_51aefd05_0ceb_11eb_87ec_7066554be4d4row3_col4\" class=\"data row3 col4\" >40.28%</td>\n",
       "                        <td id=\"T_51aefd05_0ceb_11eb_87ec_7066554be4d4row3_col5\" class=\"data row3 col5\" >$4.23</td>\n",
       "            </tr>\n",
       "            <tr>\n",
       "                        <th id=\"T_51aefd05_0ceb_11eb_87ec_7066554be4d4level0_row4\" class=\"row_heading level0 row4\" >26-30</th>\n",
       "                        <td id=\"T_51aefd05_0ceb_11eb_87ec_7066554be4d4row4_col0\" class=\"data row4 col0\" >77</td>\n",
       "                        <td id=\"T_51aefd05_0ceb_11eb_87ec_7066554be4d4row4_col1\" class=\"data row4 col1\" >$2.88</td>\n",
       "                        <td id=\"T_51aefd05_0ceb_11eb_87ec_7066554be4d4row4_col2\" class=\"data row4 col2\" >$221.42</td>\n",
       "                        <td id=\"T_51aefd05_0ceb_11eb_87ec_7066554be4d4row4_col3\" class=\"data row4 col3\" >59</td>\n",
       "                        <td id=\"T_51aefd05_0ceb_11eb_87ec_7066554be4d4row4_col4\" class=\"data row4 col4\" >10.24%</td>\n",
       "                        <td id=\"T_51aefd05_0ceb_11eb_87ec_7066554be4d4row4_col5\" class=\"data row4 col5\" >$3.75</td>\n",
       "            </tr>\n",
       "            <tr>\n",
       "                        <th id=\"T_51aefd05_0ceb_11eb_87ec_7066554be4d4level0_row5\" class=\"row_heading level0 row5\" >31-35</th>\n",
       "                        <td id=\"T_51aefd05_0ceb_11eb_87ec_7066554be4d4row5_col0\" class=\"data row5 col0\" >52</td>\n",
       "                        <td id=\"T_51aefd05_0ceb_11eb_87ec_7066554be4d4row5_col1\" class=\"data row5 col1\" >$2.99</td>\n",
       "                        <td id=\"T_51aefd05_0ceb_11eb_87ec_7066554be4d4row5_col2\" class=\"data row5 col2\" >$155.71</td>\n",
       "                        <td id=\"T_51aefd05_0ceb_11eb_87ec_7066554be4d4row5_col3\" class=\"data row5 col3\" >37</td>\n",
       "                        <td id=\"T_51aefd05_0ceb_11eb_87ec_7066554be4d4row5_col4\" class=\"data row5 col4\" >6.42%</td>\n",
       "                        <td id=\"T_51aefd05_0ceb_11eb_87ec_7066554be4d4row5_col5\" class=\"data row5 col5\" >$4.21</td>\n",
       "            </tr>\n",
       "            <tr>\n",
       "                        <th id=\"T_51aefd05_0ceb_11eb_87ec_7066554be4d4level0_row6\" class=\"row_heading level0 row6\" >36-40</th>\n",
       "                        <td id=\"T_51aefd05_0ceb_11eb_87ec_7066554be4d4row6_col0\" class=\"data row6 col0\" >33</td>\n",
       "                        <td id=\"T_51aefd05_0ceb_11eb_87ec_7066554be4d4row6_col1\" class=\"data row6 col1\" >$3.40</td>\n",
       "                        <td id=\"T_51aefd05_0ceb_11eb_87ec_7066554be4d4row6_col2\" class=\"data row6 col2\" >$112.35</td>\n",
       "                        <td id=\"T_51aefd05_0ceb_11eb_87ec_7066554be4d4row6_col3\" class=\"data row6 col3\" >26</td>\n",
       "                        <td id=\"T_51aefd05_0ceb_11eb_87ec_7066554be4d4row6_col4\" class=\"data row6 col4\" >4.51%</td>\n",
       "                        <td id=\"T_51aefd05_0ceb_11eb_87ec_7066554be4d4row6_col5\" class=\"data row6 col5\" >$4.32</td>\n",
       "            </tr>\n",
       "            <tr>\n",
       "                        <th id=\"T_51aefd05_0ceb_11eb_87ec_7066554be4d4level0_row7\" class=\"row_heading level0 row7\" >41-45</th>\n",
       "                        <td id=\"T_51aefd05_0ceb_11eb_87ec_7066554be4d4row7_col0\" class=\"data row7 col0\" >7</td>\n",
       "                        <td id=\"T_51aefd05_0ceb_11eb_87ec_7066554be4d4row7_col1\" class=\"data row7 col1\" >$3.08</td>\n",
       "                        <td id=\"T_51aefd05_0ceb_11eb_87ec_7066554be4d4row7_col2\" class=\"data row7 col2\" >$21.53</td>\n",
       "                        <td id=\"T_51aefd05_0ceb_11eb_87ec_7066554be4d4row7_col3\" class=\"data row7 col3\" >7</td>\n",
       "                        <td id=\"T_51aefd05_0ceb_11eb_87ec_7066554be4d4row7_col4\" class=\"data row7 col4\" >1.22%</td>\n",
       "                        <td id=\"T_51aefd05_0ceb_11eb_87ec_7066554be4d4row7_col5\" class=\"data row7 col5\" >$3.08</td>\n",
       "            </tr>\n",
       "    </tbody></table>"
      ],
      "text/plain": [
       "<pandas.io.formats.style.Styler at 0x1a6952e9460>"
      ]
     },
     "execution_count": 130,
     "metadata": {},
     "output_type": "execute_result"
    }
   ],
   "source": [
    "# now name each range and put data into each range\n",
    "bin_names = [\"<=10\",\"11-15\",\"16-20\",\"21-25\",\"26-30\",\"31-35\",\"36-40\",\"41-45\"]\n",
    "pymoli_df[\"Age range\"] = pd.cut(pymoli_df[\"Age\"],bins_range,labels = bin_names,include_lowest=True)\n",
    "\n",
    "\n",
    "# make a Age data frame that grouped raw data by age, and get basic purchase calculations, count, mean, and sum: \n",
    "age_df = pymoli_df.groupby(\"Age range\")['Price'].agg([('purchase count',np.count_nonzero),('Avg purchase',np.mean),\n",
    "                                                     ('sum',np.sum)])\n",
    "\n",
    "#count players of each age range and calculate percentage \n",
    "age_count_df = pymoli_df.groupby(\"Age range\")['SN'].agg([('players count',lambda y: y.nunique())])\n",
    "age_count_df[\"Players Percentage\"] = age_count_df[\"players count\"] / age_count_df[\"players count\"].sum()\n",
    "\n",
    "age_df[\"players count\"] = age_count_df[\"players count\"]\n",
    "age_df[\"players percentage\"] = age_count_df[\"Players Percentage\"]\n",
    "\n",
    "# calculate the average purchase per person by age group\n",
    "age_df[\"Avg purchase per person\"] = age_df[\"sum\"] / age_df[\"players count\"]\n",
    "\n",
    "\n",
    "# format the Age df\n",
    "age_df = age_df.style.format({'Avg purchase':'${0:,.2f}',\n",
    "                      'sum':'${0:,.2f}','Avg purchase per person':'${0:,.2f}', \"players percentage\":'{:,.2%}' ,\n",
    "                             'purchase count':'{0:,.0f}'})\n",
    "\n",
    "age_df"
   ]
  },
  {
   "cell_type": "code",
   "execution_count": 125,
   "metadata": {},
   "outputs": [
    {
     "data": {
      "text/html": [
       "<div>\n",
       "<style scoped>\n",
       "    .dataframe tbody tr th:only-of-type {\n",
       "        vertical-align: middle;\n",
       "    }\n",
       "\n",
       "    .dataframe tbody tr th {\n",
       "        vertical-align: top;\n",
       "    }\n",
       "\n",
       "    .dataframe thead th {\n",
       "        text-align: right;\n",
       "    }\n",
       "</style>\n",
       "<table border=\"1\" class=\"dataframe\">\n",
       "  <thead>\n",
       "    <tr style=\"text-align: right;\">\n",
       "      <th></th>\n",
       "      <th>purchase count</th>\n",
       "      <th>Avg purchase</th>\n",
       "      <th>sum</th>\n",
       "    </tr>\n",
       "    <tr>\n",
       "      <th>SN</th>\n",
       "      <th></th>\n",
       "      <th></th>\n",
       "      <th></th>\n",
       "    </tr>\n",
       "  </thead>\n",
       "  <tbody>\n",
       "    <tr>\n",
       "      <th>Lisosia93</th>\n",
       "      <td>5</td>\n",
       "      <td>$3.79</td>\n",
       "      <td>$18.96</td>\n",
       "    </tr>\n",
       "    <tr>\n",
       "      <th>Idastidru52</th>\n",
       "      <td>4</td>\n",
       "      <td>$3.86</td>\n",
       "      <td>$15.45</td>\n",
       "    </tr>\n",
       "    <tr>\n",
       "      <th>Chamjask73</th>\n",
       "      <td>3</td>\n",
       "      <td>$4.61</td>\n",
       "      <td>$13.83</td>\n",
       "    </tr>\n",
       "    <tr>\n",
       "      <th>Iral74</th>\n",
       "      <td>4</td>\n",
       "      <td>$3.40</td>\n",
       "      <td>$13.62</td>\n",
       "    </tr>\n",
       "    <tr>\n",
       "      <th>Iskadarya95</th>\n",
       "      <td>3</td>\n",
       "      <td>$4.37</td>\n",
       "      <td>$13.10</td>\n",
       "    </tr>\n",
       "  </tbody>\n",
       "</table>\n",
       "</div>"
      ],
      "text/plain": [
       "            purchase count Avg purchase     sum\n",
       "SN                                             \n",
       "Lisosia93                5        $3.79  $18.96\n",
       "Idastidru52              4        $3.86  $15.45\n",
       "Chamjask73               3        $4.61  $13.83\n",
       "Iral74                   4        $3.40  $13.62\n",
       "Iskadarya95              3        $4.37  $13.10"
      ]
     },
     "execution_count": 125,
     "metadata": {},
     "output_type": "execute_result"
    }
   ],
   "source": [
    "# Top Spenders\n",
    "# make a df for top 5 spenders (grouped by SN)\n",
    "top_df = pymoli_df.groupby(\"SN\")['Price'].agg([('purchase count',np.count_nonzero),('Avg purchase',np.mean),\n",
    "                                                     ('sum',np.sum)])\n",
    "\n",
    "# sort the data from high to low (total purchased amount, aka sum)\n",
    "top_df = top_df.sort_values([\"sum\"],ascending=False)\n",
    "\n",
    "# Format the table (use mapping):\n",
    "top_df[\"Avg purchase\"] = top_df[\"Avg purchase\"].map(\"${:.2f}\".format)\n",
    "top_df[\"sum\"] = top_df[\"sum\"].map(\"${:.2f}\".format)\n",
    "top_df[\"purchase count\"] = top_df[\"purchase count\"].map(\"{:.0f}\".format)\n",
    "\n",
    "#show top 5\n",
    "top_df[:5]\n"
   ]
  },
  {
   "cell_type": "code",
   "execution_count": 141,
   "metadata": {},
   "outputs": [
    {
     "data": {
      "text/html": [
       "<div>\n",
       "<style scoped>\n",
       "    .dataframe tbody tr th:only-of-type {\n",
       "        vertical-align: middle;\n",
       "    }\n",
       "\n",
       "    .dataframe tbody tr th {\n",
       "        vertical-align: top;\n",
       "    }\n",
       "\n",
       "    .dataframe thead th {\n",
       "        text-align: right;\n",
       "    }\n",
       "</style>\n",
       "<table border=\"1\" class=\"dataframe\">\n",
       "  <thead>\n",
       "    <tr style=\"text-align: right;\">\n",
       "      <th></th>\n",
       "      <th></th>\n",
       "      <th>purchase count</th>\n",
       "      <th>Avg purchase</th>\n",
       "      <th>sum</th>\n",
       "    </tr>\n",
       "    <tr>\n",
       "      <th>Item ID</th>\n",
       "      <th>Item Name</th>\n",
       "      <th></th>\n",
       "      <th></th>\n",
       "      <th></th>\n",
       "    </tr>\n",
       "  </thead>\n",
       "  <tbody>\n",
       "    <tr>\n",
       "      <th>92</th>\n",
       "      <th>Final Critic</th>\n",
       "      <td>13</td>\n",
       "      <td>$4.61</td>\n",
       "      <td>$59.99</td>\n",
       "    </tr>\n",
       "    <tr>\n",
       "      <th>178</th>\n",
       "      <th>Oathbreaker, Last Hope of the Breaking Storm</th>\n",
       "      <td>12</td>\n",
       "      <td>$4.23</td>\n",
       "      <td>$50.76</td>\n",
       "    </tr>\n",
       "    <tr>\n",
       "      <th>145</th>\n",
       "      <th>Fiery Glass Crusader</th>\n",
       "      <td>9</td>\n",
       "      <td>$4.58</td>\n",
       "      <td>$41.22</td>\n",
       "    </tr>\n",
       "    <tr>\n",
       "      <th>132</th>\n",
       "      <th>Persuasion</th>\n",
       "      <td>9</td>\n",
       "      <td>$3.22</td>\n",
       "      <td>$28.99</td>\n",
       "    </tr>\n",
       "    <tr>\n",
       "      <th>108</th>\n",
       "      <th>Extraction, Quickblade Of Trembling Hands</th>\n",
       "      <td>9</td>\n",
       "      <td>$3.53</td>\n",
       "      <td>$31.77</td>\n",
       "    </tr>\n",
       "  </tbody>\n",
       "</table>\n",
       "</div>"
      ],
      "text/plain": [
       "                                                     purchase count  \\\n",
       "Item ID Item Name                                                     \n",
       "92      Final Critic                                             13   \n",
       "178     Oathbreaker, Last Hope of the Breaking Storm             12   \n",
       "145     Fiery Glass Crusader                                      9   \n",
       "132     Persuasion                                                9   \n",
       "108     Extraction, Quickblade Of Trembling Hands                 9   \n",
       "\n",
       "                                                     Avg purchase     sum  \n",
       "Item ID Item Name                                                          \n",
       "92      Final Critic                                        $4.61  $59.99  \n",
       "178     Oathbreaker, Last Hope of the Breaking Storm        $4.23  $50.76  \n",
       "145     Fiery Glass Crusader                                $4.58  $41.22  \n",
       "132     Persuasion                                          $3.22  $28.99  \n",
       "108     Extraction, Quickblade Of Trembling Hands           $3.53  $31.77  "
      ]
     },
     "execution_count": 141,
     "metadata": {},
     "output_type": "execute_result"
    }
   ],
   "source": [
    "# Most Popular Items\n",
    "# Group by Item ID and Item Name: \n",
    "popular_df = pymoli_df.groupby([\"Item ID\",\"Item Name\"])['Price'].agg([('purchase count',np.count_nonzero),('Avg purchase',np.mean),\n",
    "                                                     ('sum',np.sum)])\n",
    "popular_df = popular_df.sort_values([\"purchase count\"],ascending=False)\n",
    "\n",
    "# Format the table (use mapping):\n",
    "popular_df[\"Avg purchase\"] = popular_df[\"Avg purchase\"].map(\"${:.2f}\".format)\n",
    "popular_df[\"sum\"] = popular_df[\"sum\"].map(\"${:.2f}\".format)\n",
    "popular_df[\"purchase count\"] = popular_df[\"purchase count\"].map(\"{:.0f}\".format)\n",
    "\n",
    "\n",
    "popular_df[:5]"
   ]
  },
  {
   "cell_type": "code",
   "execution_count": 142,
   "metadata": {},
   "outputs": [
    {
     "data": {
      "text/html": [
       "<div>\n",
       "<style scoped>\n",
       "    .dataframe tbody tr th:only-of-type {\n",
       "        vertical-align: middle;\n",
       "    }\n",
       "\n",
       "    .dataframe tbody tr th {\n",
       "        vertical-align: top;\n",
       "    }\n",
       "\n",
       "    .dataframe thead th {\n",
       "        text-align: right;\n",
       "    }\n",
       "</style>\n",
       "<table border=\"1\" class=\"dataframe\">\n",
       "  <thead>\n",
       "    <tr style=\"text-align: right;\">\n",
       "      <th></th>\n",
       "      <th></th>\n",
       "      <th>purchase count</th>\n",
       "      <th>Avg purchase</th>\n",
       "      <th>sum</th>\n",
       "    </tr>\n",
       "    <tr>\n",
       "      <th>Item ID</th>\n",
       "      <th>Item Name</th>\n",
       "      <th></th>\n",
       "      <th></th>\n",
       "      <th></th>\n",
       "    </tr>\n",
       "  </thead>\n",
       "  <tbody>\n",
       "    <tr>\n",
       "      <th>92</th>\n",
       "      <th>Final Critic</th>\n",
       "      <td>13</td>\n",
       "      <td>$4.61</td>\n",
       "      <td>$59.99</td>\n",
       "    </tr>\n",
       "    <tr>\n",
       "      <th>178</th>\n",
       "      <th>Oathbreaker, Last Hope of the Breaking Storm</th>\n",
       "      <td>12</td>\n",
       "      <td>$4.23</td>\n",
       "      <td>$50.76</td>\n",
       "    </tr>\n",
       "    <tr>\n",
       "      <th>82</th>\n",
       "      <th>Nirvana</th>\n",
       "      <td>9</td>\n",
       "      <td>$4.90</td>\n",
       "      <td>$44.10</td>\n",
       "    </tr>\n",
       "    <tr>\n",
       "      <th>145</th>\n",
       "      <th>Fiery Glass Crusader</th>\n",
       "      <td>9</td>\n",
       "      <td>$4.58</td>\n",
       "      <td>$41.22</td>\n",
       "    </tr>\n",
       "    <tr>\n",
       "      <th>103</th>\n",
       "      <th>Singed Scalpel</th>\n",
       "      <td>8</td>\n",
       "      <td>$4.35</td>\n",
       "      <td>$34.80</td>\n",
       "    </tr>\n",
       "  </tbody>\n",
       "</table>\n",
       "</div>"
      ],
      "text/plain": [
       "                                                     purchase count  \\\n",
       "Item ID Item Name                                                     \n",
       "92      Final Critic                                             13   \n",
       "178     Oathbreaker, Last Hope of the Breaking Storm             12   \n",
       "82      Nirvana                                                   9   \n",
       "145     Fiery Glass Crusader                                      9   \n",
       "103     Singed Scalpel                                            8   \n",
       "\n",
       "                                                     Avg purchase     sum  \n",
       "Item ID Item Name                                                          \n",
       "92      Final Critic                                        $4.61  $59.99  \n",
       "178     Oathbreaker, Last Hope of the Breaking Storm        $4.23  $50.76  \n",
       "82      Nirvana                                             $4.90  $44.10  \n",
       "145     Fiery Glass Crusader                                $4.58  $41.22  \n",
       "103     Singed Scalpel                                      $4.35  $34.80  "
      ]
     },
     "execution_count": 142,
     "metadata": {},
     "output_type": "execute_result"
    }
   ],
   "source": [
    "# Most Profitable Items\n",
    "profit_df = pymoli_df.groupby([\"Item ID\",\"Item Name\"])['Price'].agg([('purchase count',np.count_nonzero),('Avg purchase',np.mean),\n",
    "                                                     ('sum',np.sum)])\n",
    "profit_df = profit_df.sort_values([\"sum\"],ascending=False)\n",
    "\n",
    "# Format the table (use mapping):\n",
    "profit_df[\"Avg purchase\"] =profit_df[\"Avg purchase\"].map(\"${:.2f}\".format)\n",
    "profit_df[\"sum\"] = profit_df[\"sum\"].map(\"${:.2f}\".format)\n",
    "profit_df[\"purchase count\"] = profit_df[\"purchase count\"].map(\"{:.0f}\".format)\n",
    "\n",
    "\n",
    "profit_df[:5]\n"
   ]
  },
  {
   "cell_type": "code",
   "execution_count": null,
   "metadata": {},
   "outputs": [],
   "source": []
  },
  {
   "cell_type": "code",
   "execution_count": null,
   "metadata": {},
   "outputs": [],
   "source": []
  },
  {
   "cell_type": "code",
   "execution_count": null,
   "metadata": {},
   "outputs": [],
   "source": []
  },
  {
   "cell_type": "code",
   "execution_count": null,
   "metadata": {},
   "outputs": [],
   "source": []
  }
 ],
 "metadata": {
  "kernelspec": {
   "display_name": "Python 3",
   "language": "python",
   "name": "python3"
  },
  "language_info": {
   "codemirror_mode": {
    "name": "ipython",
    "version": 3
   },
   "file_extension": ".py",
   "mimetype": "text/x-python",
   "name": "python",
   "nbconvert_exporter": "python",
   "pygments_lexer": "ipython3",
   "version": "3.8.3"
  }
 },
 "nbformat": 4,
 "nbformat_minor": 4
}
